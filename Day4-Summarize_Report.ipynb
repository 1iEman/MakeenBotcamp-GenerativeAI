{
  "nbformat": 4,
  "nbformat_minor": 0,
  "metadata": {
    "colab": {
      "provenance": []
    },
    "kernelspec": {
      "name": "python3",
      "display_name": "Python 3"
    },
    "language_info": {
      "name": "python"
    }
  },
  "cells": [
    {
      "cell_type": "markdown",
      "source": [
        "# Document Summarization with Transformers\n",
        "\n",
        "**Text summarization** using open-source transformer models. Summarization is a core capability of modern LLMs that allows us to extract concise, informative summaries from longer documents.\n",
        "\n",
        "We'll work through a complete pipeline:\n",
        "- Upload a PDF file\n",
        "- Extract and chunk the text\n",
        "- Load a summarization model\n",
        "- Run summarization at the chunk level and for the full document"
      ],
      "metadata": {
        "id": "uEHSasVJbpvu"
      }
    },
    {
      "cell_type": "code",
      "source": [
        "!pip install PyPDF2 transformers sentence-transformers rouge-score tqdm nltk --quiet"
      ],
      "metadata": {
        "colab": {
          "base_uri": "https://localhost:8080/"
        },
        "id": "6vdn3vkx4p-8",
        "outputId": "b6b134ff-16fe-4c00-bc1d-4b5caca2b8ac"
      },
      "execution_count": 1,
      "outputs": [
        {
          "output_type": "stream",
          "name": "stdout",
          "text": [
            "  Preparing metadata (setup.py) ... \u001b[?25l\u001b[?25hdone\n",
            "\u001b[2K   \u001b[90m━━━━━━━━━━━━━━━━━━━━━━━━━━━━━━━━━━━━━━━━\u001b[0m \u001b[32m232.6/232.6 kB\u001b[0m \u001b[31m4.3 MB/s\u001b[0m eta \u001b[36m0:00:00\u001b[0m\n",
            "\u001b[2K   \u001b[90m━━━━━━━━━━━━━━━━━━━━━━━━━━━━━━━━━━━━━━━━\u001b[0m \u001b[32m363.4/363.4 MB\u001b[0m \u001b[31m3.8 MB/s\u001b[0m eta \u001b[36m0:00:00\u001b[0m\n",
            "\u001b[2K   \u001b[90m━━━━━━━━━━━━━━━━━━━━━━━━━━━━━━━━━━━━━━━━\u001b[0m \u001b[32m13.8/13.8 MB\u001b[0m \u001b[31m28.9 MB/s\u001b[0m eta \u001b[36m0:00:00\u001b[0m\n",
            "\u001b[2K   \u001b[90m━━━━━━━━━━━━━━━━━━━━━━━━━━━━━━━━━━━━━━━━\u001b[0m \u001b[32m24.6/24.6 MB\u001b[0m \u001b[31m23.7 MB/s\u001b[0m eta \u001b[36m0:00:00\u001b[0m\n",
            "\u001b[2K   \u001b[90m━━━━━━━━━━━━━━━━━━━━━━━━━━━━━━━━━━━━━━━━\u001b[0m \u001b[32m883.7/883.7 kB\u001b[0m \u001b[31m23.6 MB/s\u001b[0m eta \u001b[36m0:00:00\u001b[0m\n",
            "\u001b[2K   \u001b[90m━━━━━━━━━━━━━━━━━━━━━━━━━━━━━━━━━━━━━━━━\u001b[0m \u001b[32m664.8/664.8 MB\u001b[0m \u001b[31m2.1 MB/s\u001b[0m eta \u001b[36m0:00:00\u001b[0m\n",
            "\u001b[2K   \u001b[90m━━━━━━━━━━━━━━━━━━━━━━━━━━━━━━━━━━━━━━━━\u001b[0m \u001b[32m211.5/211.5 MB\u001b[0m \u001b[31m6.7 MB/s\u001b[0m eta \u001b[36m0:00:00\u001b[0m\n",
            "\u001b[2K   \u001b[90m━━━━━━━━━━━━━━━━━━━━━━━━━━━━━━━━━━━━━━━━\u001b[0m \u001b[32m56.3/56.3 MB\u001b[0m \u001b[31m10.4 MB/s\u001b[0m eta \u001b[36m0:00:00\u001b[0m\n",
            "\u001b[2K   \u001b[90m━━━━━━━━━━━━━━━━━━━━━━━━━━━━━━━━━━━━━━━━\u001b[0m \u001b[32m127.9/127.9 MB\u001b[0m \u001b[31m9.6 MB/s\u001b[0m eta \u001b[36m0:00:00\u001b[0m\n",
            "\u001b[2K   \u001b[90m━━━━━━━━━━━━━━━━━━━━━━━━━━━━━━━━━━━━━━━━\u001b[0m \u001b[32m207.5/207.5 MB\u001b[0m \u001b[31m5.1 MB/s\u001b[0m eta \u001b[36m0:00:00\u001b[0m\n",
            "\u001b[2K   \u001b[90m━━━━━━━━━━━━━━━━━━━━━━━━━━━━━━━━━━━━━━━━\u001b[0m \u001b[32m21.1/21.1 MB\u001b[0m \u001b[31m51.6 MB/s\u001b[0m eta \u001b[36m0:00:00\u001b[0m\n",
            "\u001b[?25h  Building wheel for rouge-score (setup.py) ... \u001b[?25l\u001b[?25hdone\n"
          ]
        }
      ]
    },
    {
      "cell_type": "code",
      "source": [
        "# ✅ STEP 1: Install required libraries if not already\n",
        "# !pip install transformers sentencepiece torch\n",
        "# !pip install pypdf sentence-transformers scikit-learn matplotlib nltk\n",
        "\n",
        "# ✅ STEP 2: Import libraries\n",
        "from transformers import AutoTokenizer, AutoModelForSeq2SeqLM\n",
        "import torch\n",
        "import re\n",
        "from google.colab import files\n",
        "from PyPDF2 import PdfReader\n",
        "import os\n",
        "from PyPDF2 import PdfReader\n",
        "from sentence_transformers import SentenceTransformer\n",
        "from tqdm import tqdm\n",
        "import os\n",
        "import io\n",
        "import numpy as np\n",
        "import nltk\n",
        "import matplotlib.pyplot as plt\n",
        "from pypdf import PdfReader\n",
        "from nltk.tokenize import sent_tokenize\n",
        "from sentence_transformers import SentenceTransformer\n",
        "from sklearn.cluster import KMeans\n",
        "from sklearn.decomposition import PCA\n",
        "from google.colab import files"
      ],
      "metadata": {
        "id": "YTxEgAg9LOLk"
      },
      "execution_count": null,
      "outputs": []
    },
    {
      "cell_type": "code",
      "source": [
        "import nltk\n",
        "nltk.download('punkt_tab')\n",
        "\n",
        "# ✅ STEP 3: Upload PDF file\n",
        "print(\"📁 Please select your PDF file to upload...\")\n",
        "uploaded = files.upload()\n",
        "\n",
        "# ✅ STEP 4: Extract text from uploaded PDF\n",
        "filename = next(iter(uploaded))\n",
        "reader = PdfReader(filename)\n",
        "\n",
        "print(f\"\\n📊 PDF Analysis:\")\n",
        "print(f\"📄 Number of pages: {len(reader.pages)}\")\n",
        "\n",
        "# Extract text from all pages\n",
        "full_text = \"\\n\".join([page.extract_text() for page in reader.pages if page.extract_text()])\n",
        "\n",
        "print(f\"\\n✅ PDF uploaded and processed!\")\n",
        "print(f\"📂 Filename: {filename}\")\n",
        "print(f\"📏 Total text length: {len(full_text)} characters\")\n",
        "\n",
        "# Optional Preview\n",
        "print(f\"\\n📝 First 200 characters preview:\")\n",
        "print(\"-\" * 50)\n",
        "print(full_text[:200] + \"...\" if len(full_text) > 200 else full_text)\n"
      ],
      "metadata": {
        "colab": {
          "base_uri": "https://localhost:8080/",
          "height": 577
        },
        "id": "7sftmFkGuhFs",
        "outputId": "c5aacf05-5df9-439b-83bb-52dc77832fee"
      },
      "execution_count": 39,
      "outputs": [
        {
          "output_type": "stream",
          "name": "stdout",
          "text": [
            "📁 Please select your PDF file to upload...\n"
          ]
        },
        {
          "output_type": "stream",
          "name": "stderr",
          "text": [
            "[nltk_data] Downloading package punkt_tab to /root/nltk_data...\n",
            "[nltk_data]   Package punkt_tab is already up-to-date!\n"
          ]
        },
        {
          "output_type": "display_data",
          "data": {
            "text/plain": [
              "<IPython.core.display.HTML object>"
            ],
            "text/html": [
              "\n",
              "     <input type=\"file\" id=\"files-fd7a7aa1-444d-4270-835f-3629007f8344\" name=\"files[]\" multiple disabled\n",
              "        style=\"border:none\" />\n",
              "     <output id=\"result-fd7a7aa1-444d-4270-835f-3629007f8344\">\n",
              "      Upload widget is only available when the cell has been executed in the\n",
              "      current browser session. Please rerun this cell to enable.\n",
              "      </output>\n",
              "      <script>// Copyright 2017 Google LLC\n",
              "//\n",
              "// Licensed under the Apache License, Version 2.0 (the \"License\");\n",
              "// you may not use this file except in compliance with the License.\n",
              "// You may obtain a copy of the License at\n",
              "//\n",
              "//      http://www.apache.org/licenses/LICENSE-2.0\n",
              "//\n",
              "// Unless required by applicable law or agreed to in writing, software\n",
              "// distributed under the License is distributed on an \"AS IS\" BASIS,\n",
              "// WITHOUT WARRANTIES OR CONDITIONS OF ANY KIND, either express or implied.\n",
              "// See the License for the specific language governing permissions and\n",
              "// limitations under the License.\n",
              "\n",
              "/**\n",
              " * @fileoverview Helpers for google.colab Python module.\n",
              " */\n",
              "(function(scope) {\n",
              "function span(text, styleAttributes = {}) {\n",
              "  const element = document.createElement('span');\n",
              "  element.textContent = text;\n",
              "  for (const key of Object.keys(styleAttributes)) {\n",
              "    element.style[key] = styleAttributes[key];\n",
              "  }\n",
              "  return element;\n",
              "}\n",
              "\n",
              "// Max number of bytes which will be uploaded at a time.\n",
              "const MAX_PAYLOAD_SIZE = 100 * 1024;\n",
              "\n",
              "function _uploadFiles(inputId, outputId) {\n",
              "  const steps = uploadFilesStep(inputId, outputId);\n",
              "  const outputElement = document.getElementById(outputId);\n",
              "  // Cache steps on the outputElement to make it available for the next call\n",
              "  // to uploadFilesContinue from Python.\n",
              "  outputElement.steps = steps;\n",
              "\n",
              "  return _uploadFilesContinue(outputId);\n",
              "}\n",
              "\n",
              "// This is roughly an async generator (not supported in the browser yet),\n",
              "// where there are multiple asynchronous steps and the Python side is going\n",
              "// to poll for completion of each step.\n",
              "// This uses a Promise to block the python side on completion of each step,\n",
              "// then passes the result of the previous step as the input to the next step.\n",
              "function _uploadFilesContinue(outputId) {\n",
              "  const outputElement = document.getElementById(outputId);\n",
              "  const steps = outputElement.steps;\n",
              "\n",
              "  const next = steps.next(outputElement.lastPromiseValue);\n",
              "  return Promise.resolve(next.value.promise).then((value) => {\n",
              "    // Cache the last promise value to make it available to the next\n",
              "    // step of the generator.\n",
              "    outputElement.lastPromiseValue = value;\n",
              "    return next.value.response;\n",
              "  });\n",
              "}\n",
              "\n",
              "/**\n",
              " * Generator function which is called between each async step of the upload\n",
              " * process.\n",
              " * @param {string} inputId Element ID of the input file picker element.\n",
              " * @param {string} outputId Element ID of the output display.\n",
              " * @return {!Iterable<!Object>} Iterable of next steps.\n",
              " */\n",
              "function* uploadFilesStep(inputId, outputId) {\n",
              "  const inputElement = document.getElementById(inputId);\n",
              "  inputElement.disabled = false;\n",
              "\n",
              "  const outputElement = document.getElementById(outputId);\n",
              "  outputElement.innerHTML = '';\n",
              "\n",
              "  const pickedPromise = new Promise((resolve) => {\n",
              "    inputElement.addEventListener('change', (e) => {\n",
              "      resolve(e.target.files);\n",
              "    });\n",
              "  });\n",
              "\n",
              "  const cancel = document.createElement('button');\n",
              "  inputElement.parentElement.appendChild(cancel);\n",
              "  cancel.textContent = 'Cancel upload';\n",
              "  const cancelPromise = new Promise((resolve) => {\n",
              "    cancel.onclick = () => {\n",
              "      resolve(null);\n",
              "    };\n",
              "  });\n",
              "\n",
              "  // Wait for the user to pick the files.\n",
              "  const files = yield {\n",
              "    promise: Promise.race([pickedPromise, cancelPromise]),\n",
              "    response: {\n",
              "      action: 'starting',\n",
              "    }\n",
              "  };\n",
              "\n",
              "  cancel.remove();\n",
              "\n",
              "  // Disable the input element since further picks are not allowed.\n",
              "  inputElement.disabled = true;\n",
              "\n",
              "  if (!files) {\n",
              "    return {\n",
              "      response: {\n",
              "        action: 'complete',\n",
              "      }\n",
              "    };\n",
              "  }\n",
              "\n",
              "  for (const file of files) {\n",
              "    const li = document.createElement('li');\n",
              "    li.append(span(file.name, {fontWeight: 'bold'}));\n",
              "    li.append(span(\n",
              "        `(${file.type || 'n/a'}) - ${file.size} bytes, ` +\n",
              "        `last modified: ${\n",
              "            file.lastModifiedDate ? file.lastModifiedDate.toLocaleDateString() :\n",
              "                                    'n/a'} - `));\n",
              "    const percent = span('0% done');\n",
              "    li.appendChild(percent);\n",
              "\n",
              "    outputElement.appendChild(li);\n",
              "\n",
              "    const fileDataPromise = new Promise((resolve) => {\n",
              "      const reader = new FileReader();\n",
              "      reader.onload = (e) => {\n",
              "        resolve(e.target.result);\n",
              "      };\n",
              "      reader.readAsArrayBuffer(file);\n",
              "    });\n",
              "    // Wait for the data to be ready.\n",
              "    let fileData = yield {\n",
              "      promise: fileDataPromise,\n",
              "      response: {\n",
              "        action: 'continue',\n",
              "      }\n",
              "    };\n",
              "\n",
              "    // Use a chunked sending to avoid message size limits. See b/62115660.\n",
              "    let position = 0;\n",
              "    do {\n",
              "      const length = Math.min(fileData.byteLength - position, MAX_PAYLOAD_SIZE);\n",
              "      const chunk = new Uint8Array(fileData, position, length);\n",
              "      position += length;\n",
              "\n",
              "      const base64 = btoa(String.fromCharCode.apply(null, chunk));\n",
              "      yield {\n",
              "        response: {\n",
              "          action: 'append',\n",
              "          file: file.name,\n",
              "          data: base64,\n",
              "        },\n",
              "      };\n",
              "\n",
              "      let percentDone = fileData.byteLength === 0 ?\n",
              "          100 :\n",
              "          Math.round((position / fileData.byteLength) * 100);\n",
              "      percent.textContent = `${percentDone}% done`;\n",
              "\n",
              "    } while (position < fileData.byteLength);\n",
              "  }\n",
              "\n",
              "  // All done.\n",
              "  yield {\n",
              "    response: {\n",
              "      action: 'complete',\n",
              "    }\n",
              "  };\n",
              "}\n",
              "\n",
              "scope.google = scope.google || {};\n",
              "scope.google.colab = scope.google.colab || {};\n",
              "scope.google.colab._files = {\n",
              "  _uploadFiles,\n",
              "  _uploadFilesContinue,\n",
              "};\n",
              "})(self);\n",
              "</script> "
            ]
          },
          "metadata": {}
        },
        {
          "output_type": "stream",
          "name": "stdout",
          "text": [
            "Saving Final Report.pdf to Final Report (2).pdf\n",
            "\n",
            "📊 PDF Analysis:\n",
            "📄 Number of pages: 58\n",
            "\n",
            "✅ PDF uploaded and processed!\n",
            "📂 Filename: Final Report (2).pdf\n",
            "📏 Total text length: 111109 characters\n",
            "\n",
            "📝 First 200 characters preview:\n",
            "--------------------------------------------------\n",
            "Species  Detection  and  Classification  from  \n",
            "Wildlife\n",
            " \n",
            "Images\n",
            " \n",
            "Taken\n",
            " \n",
            "in\n",
            " \n",
            "Omani\n",
            " \n",
            "Natural\n",
            " \n",
            "Reserves\n",
            "  \n",
            "Ethar  Hamdan  Al  Tamimi,  Malak  Abdul  Hamid  Al  Hinai,  Iman  Said  Al  Hajri    Fin...\n"
          ]
        }
      ]
    },
    {
      "cell_type": "code",
      "source": [
        "\n",
        "# ✅ STEP 5: Chunk text into smaller segments\n",
        "def chunk_text(text, chunk_size=5):\n",
        "    sentences = sent_tokenize(text)\n",
        "    chunks = []\n",
        "    for i in range(0, len(sentences), chunk_size):\n",
        "        chunk = \" \".join(sentences[i:i+chunk_size])\n",
        "        if len(chunk.split()) > 10:\n",
        "            chunks.append(chunk)\n",
        "    return chunks\n",
        "\n",
        "chunks = chunk_text(full_text, chunk_size=5)\n",
        "print(f\"\\n🧩 Total chunks extracted: {len(chunks)}\")"
      ],
      "metadata": {
        "colab": {
          "base_uri": "https://localhost:8080/"
        },
        "id": "QFJ9f1saNCW6",
        "outputId": "471a04f3-8676-48c6-da62-b67b65587a94"
      },
      "execution_count": 40,
      "outputs": [
        {
          "output_type": "stream",
          "name": "stdout",
          "text": [
            "\n",
            "🧩 Total chunks extracted: 140\n"
          ]
        }
      ]
    },
    {
      "cell_type": "code",
      "source": [
        "\n",
        "# ✅ STEP 6: Get embeddings\n",
        "model = SentenceTransformer(\"all-MiniLM-L6-v2\")\n",
        "embeddings = model.encode(chunks)\n",
        "\n",
        "# ✅ STEP 7: Cluster embeddings using KMeans\n",
        "num_clusters = 4\n",
        "kmeans = KMeans(n_clusters=num_clusters, random_state=42)\n",
        "labels = kmeans.fit_predict(embeddings)\n"
      ],
      "metadata": {
        "id": "_J_Ir2jCNDKX"
      },
      "execution_count": 46,
      "outputs": []
    },
    {
      "cell_type": "code",
      "source": [
        "\n",
        "# ✅ STEP 8: Visualize using PCA\n",
        "pca = PCA(n_components=2)\n",
        "reduced = pca.fit_transform(embeddings)\n",
        "\n",
        "plt.figure(figsize=(10, 6))\n",
        "colors = ['red', 'blue', 'green', 'purple', 'orange', 'cyan']\n",
        "for i in range(num_clusters):\n",
        "    cluster_points = reduced[labels == i]\n",
        "    plt.scatter(cluster_points[:, 0], cluster_points[:, 1],\n",
        "                color=colors[i % len(colors)], label=f\"Cluster {i+1}\")\n",
        "\n",
        "plt.title(\"📊 Clustering Chunks of One Research Paper\")\n",
        "plt.legend()\n",
        "plt.show()"
      ],
      "metadata": {
        "colab": {
          "base_uri": "https://localhost:8080/",
          "height": 580
        },
        "id": "giiXpt02NTGB",
        "outputId": "b5de5277-e877-4622-afa4-61f7d8b91143"
      },
      "execution_count": 47,
      "outputs": [
        {
          "output_type": "stream",
          "name": "stderr",
          "text": [
            "/usr/local/lib/python3.11/dist-packages/IPython/core/pylabtools.py:151: UserWarning: Glyph 128202 (\\N{BAR CHART}) missing from font(s) DejaVu Sans.\n",
            "  fig.canvas.print_figure(bytes_io, **kw)\n"
          ]
        },
        {
          "output_type": "display_data",
          "data": {
            "text/plain": [
              "<Figure size 1000x600 with 1 Axes>"
            ],
            "image/png": "[encoded data removed]"
          },
          "metadata": {}
        }
      ]
    },
    {
      "cell_type": "code",
      "source": [
        "\n",
        "def clean_text(text):\n",
        "    text = re.sub(r'\\s+', ' ', text).strip()\n",
        "    return text\n",
        "\n",
        "# ✅ STEP 9: Print top 3 closest chunks (as paragraphs) for each cluster\n",
        "print(\"\\n📌 Top 3 representative chunks per cluster (paragraph style):\\n\" + \"-\"*60)\n",
        "for i in range(num_clusters):\n",
        "    cluster_indices = [j for j, label in enumerate(labels) if label == i]\n",
        "    cluster_vectors = [embeddings[j] for j in cluster_indices]\n",
        "\n",
        "    centroid = kmeans.cluster_centers_[i]\n",
        "    distances = [np.linalg.norm(vec - centroid) for vec in cluster_vectors]\n",
        "\n",
        "    # Get top 3 closest chunks\n",
        "    top_3_indices = np.argsort(distances)[:3]\n",
        "\n",
        "    print(f\"\\n🔹 Cluster {i+1}:\\n\")\n",
        "    for idx in top_3_indices:\n",
        "        paragraph = clean_text(chunks[cluster_indices[idx]])\n",
        "        print(paragraph + \"\\n\")\n"
      ],
      "metadata": {
        "colab": {
          "base_uri": "https://localhost:8080/"
        },
        "id": "in-Aqd1XNUsF",
        "outputId": "1fac08e6-5b24-45f0-f486-a032374b5ace"
      },
      "execution_count": 48,
      "outputs": [
        {
          "output_type": "stream",
          "name": "stdout",
          "text": [
            "\n",
            "📌 Top 3 representative chunks per cluster (paragraph style):\n",
            "------------------------------------------------------------\n",
            "\n",
            "🔹 Cluster 1:\n",
            "\n",
            "Species Classification: Few-Shot Learning Model This project utilizes a Few-Shot Learning (FSL) approach to overcome the challenges of limited labeled data in Omani wildlife datasets. Few-Shot Learning is designed to mimic real-world scenarios where models must generalize to unseen classes with only a small number of labeled examples. To achieve this, three approaches were implemented: the Prototypical Network Approach, the Relation Network Approach, and the Siamese-Based Few-Shot Learning Approach. All methods operate within an episodic training setup, where each episode splits the data into a support set (a few labeled examples) and a query set (unlabeled samples from the same classes). For feature extraction, a pre-trained ResNet backbone trained on the ImageNet dataset was employed.\n",
            "\n",
            "As there was no previous work on Omani wildlife species, the proposed solution is to address this gap. The MegaDetector model which was used in 2.2.3 is chosen for the initial categorization of images into three classes: Animal, Human and Other. This is because of its high performance in detecting objects within these categories in camera trap images. Next, since Few-Shot Learning was proven to be useful in cases of limited data, as discussed in Sections 2.2.4 & 2.2.5, which applies to our case, it was selected for Omani species classification. Inspired by Sections 2.2.5 and 2.2.6, the team suggested experimenting with three different FSL approaches (Siamese Network, Prototypical Network, and Relation Network) to refine species classification and evaluate their performance, despite challenges such as leaky and unbalanced 21 data, in order to compare them.\n",
            "\n",
            "To compare the performance of three Few-Shot Learning (FSL) approaches (Prototypical Networks, Relation Networks, and Siamese Networks) on the collected image dataset. 5. To help in conducting an efficient monitoring of the activities occurring in Omani conservation reserves. 1.3. Significance of the work This work plays a pivotal role in supporting wildlife conservation efforts in Oman by developing an automated system for the detection and classification of animals.\n",
            "\n",
            "\n",
            "🔹 Cluster 2:\n",
            "\n",
            "Future Work The successful development of the initial AI-based system for wildlife species detection and classification marks a significant milestone. However, several avenues for future work have been identified to further enhance the system’s performance and transition it into a fully operational solution. Firstly, expanding the dataset by collecting a broader range of wildlife images from the Oman Environment Authority is essential. This will enable the system to learn from a more diverse set of species, improving its generalization and accuracy. By adding more classes to the dataset, which would cover a greater variety of wildlife species, the system can be trained to recognize a wider spectrum of animals captured by wildlife cameras.\n",
            "\n",
            "Signed: Ethar Hamdan Al Tamimi Date: December 20, 2024 Signed: Malak Abdul Hamid Al Hinai Date: December 20, 2024 Signed: Iman Said AL Hajri Date: December 20, 2024 1 ABSTRACT Wildlife cameras capture vast amounts of images, which require manual filtering and sorting. This project aims to enhance the monitoring of wildlife species in Oman reserves by utilizing machine learning techniques to build an AI-based system that automatically identifies the images containing targeted species, and recognizes the type of species from the large volume of collected image data. The solution employs the MegaDetector model to categorize images into Animal, Human, and Other, followed by Few-Shot Learning classification techniques (Siamese Network, Prototypical Network, and Relation Network) to identify species. The MegaDetector demonstrated robust performance, efficiently filtering irrelevant images, while the Prototypical Network achieved the highest classification test accuracy at 92.2%, followed by the Siamese Network at 90.5% and the Relation Network at 89.8%. This automated approach reduces the workload of manual processing, improves monitoring efficiency, and showcases the potential of AI in large-scale wildlife monitoring, with opportunities for further enhancement using diverse datasets.\n",
            "\n",
            "MegaDetector MegaDetector is an AI pre-trained model based on YOLOv5 that was fine-tuned specifically for wildlife detection using COCO (Common Objects in Context) dataset. This model detects Humans, Vehicles, and Animals in camera trap data. Knowing that wildlife cameras capture images whenever they detect motion, which often results in numerous empty photos that do not contain any object of interest, MegaDetector aims to save users time by efficiently filtering these huge quantities of empty images and locating and classifying any object that appears in the image. This tool is trained to classify detected objects into 3 classes (Animal, Human, or Vehicle). (MegaDetector, n.d.).\n",
            "\n",
            "\n",
            "🔹 Cluster 3:\n",
            "\n",
            "4 1.5. Report Overview This progress report is structured into four chapters, each serving a specific purpose: Chapter 1 (Introduction) : Introduces the project, outlines the problem statement, objectives, significant and project plan. Chapter 2 (Background) : Offers essential background information including the general context and a review of related work concluding with a summary of insights that will inform and support the continuation of the project. Chapter 3 (Requirement and Design): Analyzes the project's requirements and covers problem modeling, functional requirements, and non-functional requirements to ensure system quality. It also includes use cases and sequence diagrams.\n",
            "\n",
            "System Security Security is a priority as well, the data will be ensured that only authorized people of the Environment Authority can access them. 7. System maintainability The system should be designed with maintainability in mind so it allows easy updates to the classification algorithm and species dataset as new data and techniques become available. 24 3.4. Use Case Diagram This use case diagram illustrates an AI-powered system for automating wildlife species detection and classification.\n",
            "\n",
            "3.3. Non-Functional Requirements The system must meet several non-functional requirements to confirm it performs effectively and supports accurate wildlife monitoring. 1. System Performance 23 The system should be capable of efficiently supporting real-time data classification and analysis. 2.\n",
            "\n",
            "\n",
            "🔹 Cluster 4:\n",
            "\n",
            "40 For the prototypical approach based on cosine similarity as shown in table, the accuracy reached 84% with a 1-shot 5-query setup, slightly improved to 85% with 2-shots and 4-queries, and peaked at 92.2% with 5-shots and 1-query. These results indicate an increase in the number of shots generally led to higher accuracy particularly when handling multiple classes, compared to increasing the number of queries. While for the Relation Network approach, the accuracy varied from 87.57% to 89.84% when using Few-Shot Learning with a pre-trained ResNet-50 backbone. The highest accuracy of 89.84% was achieved with the 5-shot 1-query configuration. The relatively small variance across the test accuracies indicates the robustness and stability of the Relation Network approach over all shot-query configurations, suggesting that it outperforms the other methods in terms of generalization to unseen data.\n",
            "\n",
            "The Relation Network was included for its ability to learn complex relationships between examples, leveraging neural networks to enable more nuanced decision-making. 4.5. Experiment Setup Our setup focuses on analyzing provided code and fine-tuning few-shot learning (FSL) parameters, optimizing hyperparameters like the number of shots, queries, learning rate, and episodes. We will freeze certain layers of the pre-trained model and fine-tune only the last layers to retain learned features while adapting to the new task. Additionally, we will experiment with different similarity score methods.\n",
            "\n",
            "To classify a new example, the model calculates the distance between the query's embedding and each class prototype, assigning the query to the closest one. This simple, scalable method is effective in settings with limited labeled data and has been applied in image, text, and speech classification (Snell et al., 2017). 8 2.1.5.3 Relation Network Relation Networks are a framework designed to address the challenges of few-shot learning by employing a meta-learning approach to compare examples within tasks. These networks consist of two key modules: first, an embedding module generates feature representations for support and query samples; second, a relation module learns a non-linear similarity function to compare these representations. Trained in an episodic manner, Relation Networks simulate the few-shot learning setting during training by repeatedly forming tasks with limited labeled data.\n",
            "\n"
          ]
        }
      ]
    },
    {
      "cell_type": "code",
      "source": [
        "\n",
        "# ✅ STEP 3: Load FLAN-T5 model (small for speed, or use 'base', 'large', etc.)\n",
        "device = torch.device(\"cuda\" if torch.cuda.is_available() else \"cpu\")\n",
        "model_name = \"google/flan-t5-base\"\n",
        "\n",
        "tokenizer = AutoTokenizer.from_pretrained(model_name)\n",
        "model = AutoModelForSeq2SeqLM.from_pretrained(model_name).to(device)\n",
        "\n",
        "# ✅ STEP 4: Define summarization function (3 sentences max)\n",
        "def summarize(text, max_input_tokens=512, max_output_tokens=1000):\n",
        "    prompt = (\n",
        "        \"You are an expert researcher skilled in summarizing complex scientific texts. \"\n",
        "        \"Please provide a detailed and comprehensive summary of the following text. \"\n",
        "        \"Your summary should capture the key concepts, methodologies, results, and conclusions \"\n",
        "        \"in a clear and precise manner.\\n\\n\"\n",
        "        + text[:tokenizer.model_max_length]\n",
        "    )\n",
        "\n",
        "    inputs = tokenizer(\n",
        "        prompt,\n",
        "        return_tensors=\"pt\",\n",
        "        max_length=max_input_tokens,\n",
        "        truncation=True\n",
        "    ).to(device)\n",
        "\n",
        "    summary_ids = model.generate(\n",
        "        inputs[\"input_ids\"],\n",
        "        max_length=max_output_tokens,\n",
        "        num_beams=4,\n",
        "        early_stopping=True\n",
        "    )\n",
        "\n",
        "    summary = tokenizer.decode(summary_ids[0], skip_special_tokens=True)\n",
        "\n",
        "\n",
        "    summary_lines = re.split(r'(?<=[.؟!])\\s+', summary.strip())[:3]\n",
        "    return \"\\n\".join(summary_lines)\n",
        "\n",
        "# ✅ STEP 5: Summarize each cluster\n",
        "print(\"\\n📚 Summarizing each cluster:\\n\" + \"-\"*40)\n",
        "for i in range(num_clusters):\n",
        "    cluster_chunks = [chunks[j] for j in range(len(chunks)) if labels[j] == i]\n",
        "    cluster_text = \" \".join(cluster_chunks)\n",
        "\n",
        "    print(f\"\\n📦 Cluster {i+1} Summary:\")\n",
        "    print(\"📝\\n\" + summarize(cluster_text))\n"
      ],
      "metadata": {
        "colab": {
          "base_uri": "https://localhost:8080/"
        },
        "id": "G8x94_vsNW2L",
        "outputId": "fe24c84b-2a7f-46c7-ca2b-a33521cf2f7d"
      },
      "execution_count": 50,
      "outputs": [
        {
          "output_type": "stream",
          "name": "stdout",
          "text": [
            "\n",
            "📚 Summarizing each cluster:\n",
            "----------------------------------------\n",
            "\n",
            "📦 Cluster 1 Summary:\n",
            "📝\n",
            "Few-Shot Learning (FSL) for classification and identification of species living in Omani reserves.\n",
            "\n",
            "📦 Cluster 2 Summary:\n",
            "📝\n",
            "A report submitted in partial fulfillment of the requirements for the B.Sc.\n",
            "in Computer Science.\n",
            "\n",
            "📦 Cluster 3 Summary:\n",
            "📝\n",
            "We extend our gratitude to everyone who contributed to the success of this work, beginning with our dedicated team and its supervisor.\n",
            "Our thanks also go to Ankaa Innovation Company for their invaluable support.\n",
            "Additionally, we are grateful to the Computer Science Department and all our colleagues.\n",
            "\n",
            "📦 Cluster 4 Summary:\n",
            "📝\n",
            "In the Literature Review phase, Malak focused on MegaDetector and Transfer Learning Techniques, Iman focused on Few-Shot Learning Techniques.\n"
          ]
        }
      ]
    },
    {
      "cell_type": "code",
      "source": [],
      "metadata": {
        "id": "NDnLAD1fNXjU"
      },
      "execution_count": null,
      "outputs": []
    }
  ]
}