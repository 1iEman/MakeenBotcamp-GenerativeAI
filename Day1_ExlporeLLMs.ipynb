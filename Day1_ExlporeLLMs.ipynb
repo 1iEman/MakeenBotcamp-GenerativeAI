{
 "cells": [
  {
   "cell_type": "markdown",
   "metadata": {
    "id": "EDe7DsPWmEBV"
   },
   "source": [
    "# 🧠 Day 1: Hands-on with Language Models using Phi-3\n",
    "Welcome to the first session of the Generative AI workshop!\n",
    "\n",
    "Today we'll explore the basics of large language models (LLMs) and use Microsoft's **Phi-3 Mini** model.\n",
    "\n",
    "### 🎯 Objectives\n",
    "- Understand what a language model is\n",
    "- Load and run a small LLM\n",
    "- Generate text from prompts\n",
    "- Modify prompts and analyze outputs\n",
    "- Reflect on tokenization and model behavior"
   ]
  },
  {
   "cell_type": "markdown",
   "metadata": {
    "id": "jYzN4Inc1N2Y"
   },
   "source": [
    "## 🔧 Setup the Environment"
   ]
  },
  {
   "cell_type": "code",
   "execution_count": null,
   "metadata": {
    "id": "Rtcrbs7tiTgb"
   },
   "outputs": [],
   "source": [
    " %%capture\n",
    " !pip install transformers accelerate"
   ]
  },
  {
   "cell_type": "markdown",
   "metadata": {
    "id": "hXp09JFsFBXi"
   },
   "source": [
    "## 📦 Load the Phi-3 Model\n",
    "Fill in the missing arguments to complete the model and tokenizer loading."
   ]
  },
  {
   "cell_type": "code",
   "execution_count": null,
   "metadata": {
    "colab": {
     "base_uri": "https://localhost:8080/",
     "height": 581,
     "referenced_widgets": [
      "56b85883cadf43b4b6494447b9d75343",
      "e6365576e8164720b8051bcc5db29fd8",
      "515e43ee897341dc9dcf3dbf93f66e62",
      "0cd638c8c67049219bac1851acd46238",
      "e9c8f6dd597840e284688af56fe1271f",
      "cd53757089784933afae9f3c12e744f9",
      "19cda12da545428f95262677914c608f",
      "4882feb755ba43b08c9515cf1d574f10",
      "7846992f6a8440efaa1e1afd31dcb9aa",
      "7e3d40de21d24572aa56f9c180fa70fc",
      "12b298ddc0614ee6a52b615c8d3b3f08",
      "6ec63d1a0a454173a221e2af67459fbe",
      "2eadfef9818a45cda7f46e0261493595",
      "1993d7f2420347fca7f5e71e8aef4723",
      "159ebe0b50454e7abb220cf2f5fd2fcc",
      "61145a9bccea46d0aa49fd5b33a5dc85",
      "51f5fd89e1454bdbb476b56df4ed0055",
      "e02abea1383342098a584d082a9a4da3",
      "068547a94d8442fda8e3b02e7526ac5a",
      "edb0f647ac4b4522b875201de1813c6c",
      "483a61a0f07847e783f6143d0ee90ff2",
      "303e1e5ca5a142f9b3adda64af44352f",
      "9925b539aa5f40c6bcf7723bec1b9475",
      "42f5f5d875d74ff58ad1c9cfc8f601d6",
      "d767c6be051746549a94a9ff0729189e",
      "36933de08933406d832275289a6ceb47",
      "286c1e9865da4f5bba18962718cf401b",
      "3d46fd292d5f4a71a9523a57d2b75916",
      "fa76beca10ce4d56876a507d958d3355",
      "bce83d5156e341bda0a0e318f4c4ddee",
      "692d3ab0c9d14e40b8209717d853ab54",
      "90d41b29264d4f45be8d026516e1d9ca",
      "6afa37dca17d49dd878e0c23e68b34cb",
      "f54c1e6c4ee34ed2bbb27c698b1e1e07",
      "ecc874e3847c4dd6af8d374742571e4f",
      "de4bc9ef44794cb08e9132a3d5d457af",
      "88b58fc9580a49cc91bf9d375479d687",
      "e026bc64626e4c0089c1687a3274a965",
      "5ff98397c79248329540dcd60bf8bb9b",
      "40b78261c9fc40b18c53659fd7aa8c1c",
      "a4e7770c5f864b8dbddb8d6e1a987772",
      "0a99d43bc48a4cba8db06b9b42c7ed5a",
      "a04310059ecf46a384c656a71a5c5217",
      "dc191c80f2f14cb09d6130457b056edc",
      "096f5b37f3844f8ba060ea6429b1b19e",
      "4be7e1a43b684e92a14b25c089a5cf4b",
      "e72cbd003eef4b07a1120b631cd38230",
      "e46f12328f9e491fa5dc4a63eee2de8c",
      "7ce8358c646047cfa796e990f9524472",
      "509b5eb1a1654af295056046b67d32ce",
      "ba5c0f256ba04d169a3c0ee807dbc39c",
      "de21459c58ed446687fdcd02279da045",
      "76119b444c854d14819b2247d21b6b19",
      "2904741c5cf7413a8d7f187ad1ec27e2",
      "22561f343cac4af0803049962bd0bbbe",
      "fe3b11fd996b4bccacc824d5d6e3fbe5",
      "9772a7a12c1b496782f7b8ce0fb58a95",
      "68025be0da0c47a48970e4bdadcc17b0",
      "7f224d7852ab46408482b7192bd8a931",
      "29cb025e1dc1489e97345ffa36b51d11",
      "f26d68859bfe445a823b3ce03c35743e",
      "6d6b588f0b1343849cc82fc6c9f15902",
      "fad6b130a9734522a577e7b102b12194",
      "5eceaf2415f7452aa0dc79f71169770c",
      "d4bdf545e3a3404bbf4675afbc92f599",
      "6fa9ba3477934a558dd2b8bb7315f07b",
      "b869e36d1c454e20888ee6d882bc7568",
      "d949b13aa186442695f2d561ca09ad3e",
      "5f09283380264b55b19a4845154641e6",
      "c2e4a603e32a40cda3404c3ba257f15d",
      "4c5dc4b9e97049778cc223ea61f3a26d",
      "8daeaa2cfc564f4da0301b679e3780d2",
      "79e17a013fb246429f306ec160106f72",
      "0d891539b6334299aeb75c44824d229c",
      "053e65cb67ce43dbbfe273749c71c0ab",
      "b01de8efd9d04774aec98f9cb526c25c",
      "2ec0dcada95f411daa7a1132a861ff4d",
      "cb50facd5a6a4074bba657545c1a5982",
      "00ebdc9400984300ad715b9fda89874a",
      "e82a648bd2034d73b2ff5fb7d91270ff",
      "5a6b3d3ad6ed4600afed14916d18f08f",
      "4ec78073bded4c57a5032553fd09e9ff",
      "2728982e2e3349dda9b2d6fab2bcf4be",
      "663dc6ef0dda4217ac166734e77d5ef1",
      "542bd82ca3b048139795ffa26fc5c6e0",
      "579b483e95434eb392ebd2cbe2d3fb0a",
      "23111e719b0d4faa9e5bca79538718e7",
      "ff319a488e83497d9fc9d0cf289a16ac",
      "4c48b2fc04194f3b9e88f2f83086c80f",
      "91a9eb53bf084e99a2a9f86cabc353ff",
      "0c136b4b1d714a91a6ddb8911f04c383",
      "8d68eb6611354fe7bcb0efb8e9b35179",
      "7a71edf9a45a45c9871c85667f9d677f",
      "73fd8c6e0e59444aa00868e117693313",
      "6eb10802836849388c9979cbd956be6c",
      "97dc9426622a45efa9b5f4e1192340f5",
      "3dde0b1792fd4a6fb20b89350b8cfa93",
      "322813e2e1c6431bb943252e4f521b81",
      "f7b5fa9647594180872d037af39dc609",
      "409805ef91b9414abd5bc66532b201fc",
      "6ac000028bbf48f8851ea4fce9e8ced3",
      "8d211827d3d94bc7ba09eede33ceefe1",
      "0278bbb2f8014ccfa2a0fc29de080361",
      "a50add1494074c68bbfdce6da99e659d",
      "c77e9afde140407dbd2758fa4ca9ebd1",
      "323e6aeca7b04979a7708507a816499c",
      "68e92fe040984bb3b6d11a11b9695b9d",
      "ce369313dd754c4cb9ef74bc14f794ff",
      "18384a94c82e492894e9af3b57a72c77",
      "aabc1f0509fa4fdbb97569a4b026ac50",
      "8c845765ad5d4ef697c60712175a3e8b",
      "e8b333a8293f4ed2aae511c8a4b813bb",
      "188a3bb51e0b4977962914ec3e2788e2",
      "e74d6a8bbc464af4bc363167adf6833a",
      "7d5cb8c379c84e4c8026d64d77df4279",
      "bbafd1e59c7340e094962bf1d5eacdde",
      "94c02850b8d74e6e864307c4256fdce1",
      "302e4a4c69754a06b06835830e19db2e",
      "a18dfe3f9c774bf2b02923cba0dc4b1b",
      "11c82537a4ac4f3db34d743b780e59d0",
      "857f43d005a0498c822735bb7ba9bcbc",
      "b4173d969ebf47c883f9554ef9619112",
      "b40d6acb7430421b9c566d0a54856267",
      "3262966f25bc4e678fd8110f13d0ec0c",
      "9f4abf36da8448a5a9d27ca706cee8ca",
      "da0542f835e0409a811fa1215ed96b1b",
      "65fcb6af9b5d420eaa861577d5fc4962",
      "d5273ea84e9e44af8e436763c5b01b10",
      "4cffa3fb1e1d4da29a7eec8fc2d20401",
      "488cba79577b42d2a70b232de421fbf3",
      "45337640c077421da088b99e1d24550c",
      "92dc3f53e4f1464fafa25e7fbace39ff"
     ]
    },
    "id": "RSNalRXZyTTk",
    "outputId": "ae7d73f9-8fb0-4377-f7a0-ddd8a17f093e"
   },
   "outputs": [
    {
     "name": "stderr",
     "output_type": "stream",
     "text": [
      "/usr/local/lib/python3.11/dist-packages/huggingface_hub/utils/_auth.py:94: UserWarning: \n",
      "The secret `HF_TOKEN` does not exist in your Colab secrets.\n",
      "To authenticate with the Hugging Face Hub, create a token in your settings tab (https://huggingface.co/settings/tokens), set it as secret in your Google Colab and restart your session.\n",
      "You will be able to reuse this secret in all of your notebooks.\n",
      "Please note that authentication is recommended but still optional to access public models or datasets.\n",
      "  warnings.warn(\n"
     ]
    },
    {
     "data": {
      "application/vnd.jupyter.widget-view+json": {
       "model_id": "56b85883cadf43b4b6494447b9d75343",
       "version_major": 2,
       "version_minor": 0
      },
      "text/plain": [
       "config.json:   0%|          | 0.00/967 [00:00<?, ?B/s]"
      ]
     },
     "metadata": {},
     "output_type": "display_data"
    },
    {
     "data": {
      "application/vnd.jupyter.widget-view+json": {
       "model_id": "6ec63d1a0a454173a221e2af67459fbe",
       "version_major": 2,
       "version_minor": 0
      },
      "text/plain": [
       "model.safetensors.index.json: 0.00B [00:00, ?B/s]"
      ]
     },
     "metadata": {},
     "output_type": "display_data"
    },
    {
     "data": {
      "application/vnd.jupyter.widget-view+json": {
       "model_id": "9925b539aa5f40c6bcf7723bec1b9475",
       "version_major": 2,
       "version_minor": 0
      },
      "text/plain": [
       "Fetching 2 files:   0%|          | 0/2 [00:00<?, ?it/s]"
      ]
     },
     "metadata": {},
     "output_type": "display_data"
    },
    {
     "data": {
      "application/vnd.jupyter.widget-view+json": {
       "model_id": "f54c1e6c4ee34ed2bbb27c698b1e1e07",
       "version_major": 2,
       "version_minor": 0
      },
      "text/plain": [
       "model-00001-of-00002.safetensors:   0%|          | 0.00/4.97G [00:00<?, ?B/s]"
      ]
     },
     "metadata": {},
     "output_type": "display_data"
    },
    {
     "data": {
      "application/vnd.jupyter.widget-view+json": {
       "model_id": "096f5b37f3844f8ba060ea6429b1b19e",
       "version_major": 2,
       "version_minor": 0
      },
      "text/plain": [
       "model-00002-of-00002.safetensors:   0%|          | 0.00/2.67G [00:00<?, ?B/s]"
      ]
     },
     "metadata": {},
     "output_type": "display_data"
    },
    {
     "data": {
      "application/vnd.jupyter.widget-view+json": {
       "model_id": "fe3b11fd996b4bccacc824d5d6e3fbe5",
       "version_major": 2,
       "version_minor": 0
      },
      "text/plain": [
       "Loading checkpoint shards:   0%|          | 0/2 [00:00<?, ?it/s]"
      ]
     },
     "metadata": {},
     "output_type": "display_data"
    },
    {
     "data": {
      "application/vnd.jupyter.widget-view+json": {
       "model_id": "b869e36d1c454e20888ee6d882bc7568",
       "version_major": 2,
       "version_minor": 0
      },
      "text/plain": [
       "generation_config.json:   0%|          | 0.00/181 [00:00<?, ?B/s]"
      ]
     },
     "metadata": {},
     "output_type": "display_data"
    },
    {
     "data": {
      "application/vnd.jupyter.widget-view+json": {
       "model_id": "cb50facd5a6a4074bba657545c1a5982",
       "version_major": 2,
       "version_minor": 0
      },
      "text/plain": [
       "tokenizer_config.json: 0.00B [00:00, ?B/s]"
      ]
     },
     "metadata": {},
     "output_type": "display_data"
    },
    {
     "data": {
      "application/vnd.jupyter.widget-view+json": {
       "model_id": "4c48b2fc04194f3b9e88f2f83086c80f",
       "version_major": 2,
       "version_minor": 0
      },
      "text/plain": [
       "tokenizer.model:   0%|          | 0.00/500k [00:00<?, ?B/s]"
      ]
     },
     "metadata": {},
     "output_type": "display_data"
    },
    {
     "data": {
      "application/vnd.jupyter.widget-view+json": {
       "model_id": "409805ef91b9414abd5bc66532b201fc",
       "version_major": 2,
       "version_minor": 0
      },
      "text/plain": [
       "tokenizer.json: 0.00B [00:00, ?B/s]"
      ]
     },
     "metadata": {},
     "output_type": "display_data"
    },
    {
     "data": {
      "application/vnd.jupyter.widget-view+json": {
       "model_id": "8c845765ad5d4ef697c60712175a3e8b",
       "version_major": 2,
       "version_minor": 0
      },
      "text/plain": [
       "added_tokens.json:   0%|          | 0.00/306 [00:00<?, ?B/s]"
      ]
     },
     "metadata": {},
     "output_type": "display_data"
    },
    {
     "data": {
      "application/vnd.jupyter.widget-view+json": {
       "model_id": "b4173d969ebf47c883f9554ef9619112",
       "version_major": 2,
       "version_minor": 0
      },
      "text/plain": [
       "special_tokens_map.json:   0%|          | 0.00/599 [00:00<?, ?B/s]"
      ]
     },
     "metadata": {},
     "output_type": "display_data"
    }
   ],
   "source": [
    "from transformers import AutoModelForCausalLM, AutoTokenizer\n",
    "\n",
    "# TODO: Load the model here\n",
    "model = AutoModelForCausalLM.from_pretrained(\n",
    "    \"microsoft/Phi-3-mini-4k-instruct\",               # Hint: it's a Phi-3 variant, look for the 4k instruct model , 4k: 4 put cunatization -> 32-bit to 4-bit\n",
    "    device_map=\"cuda\",   # Hint: 'cuda' or 'auto'\n",
    "    torch_dtype=\"auto\",  # Hint: dtype hint\n",
    "    trust_remote_code=False\n",
    ")\n",
    "\n",
    "# TODO: Load the tokenizer here\n",
    "tokenizer = AutoTokenizer.from_pretrained(\"microsoft/Phi-3-mini-4k-instruct\")\n"
   ]
  },
  {
   "cell_type": "markdown",
   "metadata": {
    "id": "qdyYYS0E5fEU"
   },
   "source": [
    "## 📦 Create a Text Generation Pipeline\n",
    "\n",
    "Wrap the model and tokenizer into a convenient `pipeline` object for easy inference.\n"
   ]
  },
  {
   "cell_type": "code",
   "execution_count": null,
   "metadata": {
    "id": "DiUi4Wu1FCyN"
   },
   "outputs": [],
   "source": [
    "from transformers import pipeline\n",
    "\n",
    "# TODO: Create a pipeline for text-generation using the model and tokenizer\n",
    "generator = pipeline(\n",
    "    \"text-generation\",               # Hint: task type\n",
    "    model=model,\n",
    "    tokenizer=tokenizer,\n",
    "    return_full_text=False,\n",
    "    max_new_tokens=500,  # Hint: token cap\n",
    "    do_sample=False\n",
    ")\n"
   ]
  },
  {
   "cell_type": "markdown",
   "metadata": {
    "id": "mD49kysT5mMY"
   },
   "source": [
    "## 💬 Create and Send a Prompt\n",
    "\n",
    "Finally, we create our prompt as a user and give it to the model:\n"
   ]
  },
  {
   "cell_type": "code",
   "execution_count": null,
   "metadata": {
    "id": "hkR7LBmiyXmY"
   },
   "outputs": [],
   "source": [
    "# TODO: Define a user message that asks for a joke\n",
    "messages = [\n",
    "    {\"role\": \"user\", \"content\": \"Give me a joke for kids\"}  # Hint: Something humorous\n",
    "]\n",
    "\n",
    "# Generate output\n",
    "output = generator(messages)\n",
    "\n",
    "# TODO: Extract and print the model’s response\n",
    "print(output[0]['generated_text'])\n"
   ]
  },
  {
   "cell_type": "markdown",
   "metadata": {
    "id": "0vVxd2VdCG45"
   },
   "source": [
    "## ✉️ Generate a Custom Output from a Prompt\n",
    "\n",
    "Now let’s directly tokenize a prompt and run it through the model to generate a complete response.\n"
   ]
  },
  {
   "cell_type": "code",
   "execution_count": null,
   "metadata": {
    "id": "WO3e63-cr-Bp"
   },
   "outputs": [],
   "source": [
    "# TODO: Write a detailed prompt that includes \"<|assistant|>\" at the end\n",
    "prompt = \"Help me to understand what does tokenization mean with examples <|assistant|>\"\n",
    "\n",
    "# Tokenize the prompt\n",
    "input_ids = tokenizer(prompt, return_tensors=\"pt\").input_ids.to(\"cuda\")\n",
    "\n",
    "# TODO: Use the model to generate output from input_ids\n",
    "generation_output = model.generate(\n",
    "    input_ids=input_ids,\n",
    "    max_new_tokens=1000  # Hint: max tokens for generation, somewhere along the range of 100 to 1000\n",
    ")\n",
    "\n",
    "# TODO: Decode and print the output\n",
    "print(tokenizer.decode(generation_output[0], skip_special_tokens=True))\n"
   ]
  },
  {
   "cell_type": "markdown",
   "metadata": {
    "id": "Bsv3Yb2ySFfq"
   },
   "source": [
    "# ✍️ Reflection Prompt\n",
    "## Try changing the prompt to a sarcastic tone or use specific instructions.\n",
    "## What do you observe in the outputs? Discuss with your team.\n"
   ]
  },
  {
   "cell_type": "markdown",
   "metadata": {
    "id": "qmHQAVHNHc5Q"
   },
   "source": [
    "## 1️⃣ View the Token IDs\n",
    "\n",
    "After tokenizing the prompt, we can print out the list of token IDs generated by the tokenizer.\n"
   ]
  },
  {
   "cell_type": "code",
   "execution_count": null,
   "metadata": {
    "id": "Z1htGdKMzaWs"
   },
   "outputs": [],
   "source": [
    "# TODO: Print the token IDs from our tokenized input\n",
    "print(input_ids)  # Hint: What variable stores our tokenized input?\n",
    "\n",
    "# Expected output format:\n",
    "# tensor([[14359, 385, 4376, 27746, 5281, 394, 19235, 363, 278, 25305, ...]])"
   ]
  },
  {
   "cell_type": "markdown",
   "metadata": {
    "id": "_ofB5CSiHkxO"
   },
   "source": [
    "## 2️⃣ Decode Each Token\n",
    "\n",
    "We can decode each token ID individually to better understand how the model splits the input into subwords.\n"
   ]
  },
  {
   "cell_type": "code",
   "execution_count": null,
   "metadata": {
    "id": "uKEhBTLzzeb7"
   },
   "outputs": [],
   "source": [
    "# TODO: Create a loop to decode each token individually\n",
    "for token_id in input_ids[0]:  # Hint: What should we iterate over?\n",
    "    print(tokenizer.decode(token_id.item()))  # Hint: What method converts token IDs back to text?"
   ]
  },
  {
   "cell_type": "markdown",
   "metadata": {
    "id": "yhiTG2pOJswf"
   },
   "source": [
    "## 🧬 Inspect the Raw Model Output\n",
    "\n",
    "The model returns a tensor of token IDs as its output. These represent the full generated sequence (input + new tokens).\n"
   ]
  },
  {
   "cell_type": "code",
   "execution_count": null,
   "metadata": {
    "id": "069G_3wkze4n"
   },
   "outputs": [],
   "source": [
    "generation_output"
   ]
  },
  {
   "cell_type": "markdown",
   "metadata": {
    "id": "CbYkdV0oJ8Ya"
   },
   "source": [
    "## 🔡 Combine Tokens into Words\n",
    "\n",
    "Subword tokenizers may split a word into multiple pieces. You can decode them individually or as a group to see how they combine into meaningful text.\n"
   ]
  },
  {
   "cell_type": "code",
   "execution_count": null,
   "metadata": {
    "id": "Kn4DQZHlzkJd"
   },
   "outputs": [],
   "source": [
    "# TODO: Decode individual tokens to see subword splitting\n",
    "print(tokenizer.decode([3323]))   # Hint: Try token ID 3323\n",
    "print(tokenizer.decode([622]))   # Hint: Try token ID 622\n",
    "print(tokenizer.decode([3323, 622]))  # Hint: Combine tokens\n",
    "print(tokenizer.decode([20000]))   # Hint: Try token ID 29901\n",
    "\n",
    "# Expected output pattern:\n",
    "# Sub\n",
    "# ject\n",
    "# Subject\n",
    "# ."
   ]
  },
  {
   "cell_type": "markdown",
   "metadata": {
    "id": "VKd7KgQ2KRRC"
   },
   "source": [
    "###🌈 Token Coloring Function\n",
    "\n",
    "This function uses ANSI escape codes to highlight each token in a different background color. It helps visualize how text is broken down into subword units.\n"
   ]
  },
  {
   "cell_type": "code",
   "execution_count": null,
   "metadata": {
    "id": "n28Wbn-dztNG"
   },
   "outputs": [],
   "source": [
    "from transformers import AutoModelForCausalLM, AutoTokenizer\n",
    "\n",
    "colors_list = [\n",
    "    '102;194;165', '252;141;98', '141;160;203',\n",
    "    '231;138;195', '166;216;84', '255;217;47'\n",
    "]\n",
    "\n",
    "def show_tokens(sentence, tokenizer_name):\n",
    "   # TODO: Load the tokenizer from the pretrained model\n",
    "   tokenizer = AutoTokenizer.from_pretrained(tokenizer_name)  # Hint: What variable contains the model name?\n",
    "\n",
    "   # TODO: Tokenize the sentence to get token IDs\n",
    "   token_ids = tokenizer(sentence).input_ids  # Hint: What text should we tokenize?\n",
    "\n",
    "   for idx, t in enumerate(token_ids):\n",
    "       print(\n",
    "           f'\\033[38;2;0;{colors_list[idx % len(colors_list)]}m' +\n",
    "           tokenizer.decode(t) +  # Hint: What method converts token ID back to text?\n",
    "           '\\033[0m',\n",
    "           end='' # Hint: What should this end with?\n",
    "       )"
   ]
  },
  {
   "cell_type": "markdown",
   "metadata": {
    "id": "8cK5ae6pKXyD"
   },
   "source": [
    "## 🧪 Try It on a Complex Sentence\n",
    "\n",
    "Now test the tokenizer on a sentence with mixed content: capital letters, emojis, symbols, numbers, and spacing.\n"
   ]
  },
  {
   "cell_type": "code",
   "execution_count": null,
   "metadata": {
    "id": "UuuHVfMIz8IZ"
   },
   "outputs": [],
   "source": [
    "# TODO: Create a test sentence with mixed content\n",
    "text = \"\"\"\n",
    "Hello WORLD! 😄 test: 123 #  words ن\n",
    "\"\"\""
   ]
  },
  {
   "cell_type": "markdown",
   "metadata": {
    "id": "LQeQfLmhKuim"
   },
   "source": [
    "## 🆚 `bert-base-uncased` Tokenizer\n",
    "\n",
    "This tokenizer lowercases all input and splits words into WordPiece subwords. Notice how it handles casing and unknown characters.\n"
   ]
  },
  {
   "cell_type": "code",
   "execution_count": null,
   "metadata": {
    "id": "z-V8Nnfwz8ZH"
   },
   "outputs": [],
   "source": [
    "show_tokens(text, \"bert-base-uncased\")  # Hint: What text and tokenizer name?"
   ]
  },
  {
   "cell_type": "markdown",
   "metadata": {
    "id": "FEGS10kiK7MG"
   },
   "source": [
    "## 🆚 `bert-base-cased` Tokenizer\n",
    "\n",
    "Unlike the uncased version, this tokenizer preserves capitalization. Compare the tokenization output to see how casing influences token splitting.\n"
   ]
  },
  {
   "cell_type": "code",
   "execution_count": null,
   "metadata": {
    "id": "wfQ9MZnmz91W"
   },
   "outputs": [],
   "source": [
    "show_tokens(text, \"bert-base-cased\")  # Hint: What text and tokenizer name?"
   ]
  },
  {
   "cell_type": "markdown",
   "metadata": {
    "id": "-CkJVIQqLMCz"
   },
   "source": [
    "## 🆚 `gpt2` Tokenizer\n",
    "\n",
    "GPT-2 uses Byte-Pair Encoding (BPE), which often results in different token splits, especially with punctuation, emojis, or spacing.\n"
   ]
  },
  {
   "cell_type": "code",
   "execution_count": null,
   "metadata": {
    "id": "GsnbxFecz_2H"
   },
   "outputs": [],
   "source": [
    "show_tokens(text, \"gpt2\")  # Hint: What text and tokenizer name?"
   ]
  },
  {
   "cell_type": "markdown",
   "metadata": {
    "id": "tOHL0Y3rLoaW"
   },
   "source": [
    "## 🆚 `google/flan-t5-small` Tokenizer\n",
    "\n",
    "This model uses SentencePiece, which breaks down text in a more language-agnostic way. Observe how it segments common phrases and subwords.\n"
   ]
  },
  {
   "cell_type": "code",
   "execution_count": null,
   "metadata": {
    "id": "Bw-sDPIp0Chx"
   },
   "outputs": [],
   "source": [
    "show_tokens(text, \"google/flan-t5-small\")  # Hint: What text and tokenizer name?"
   ]
  },
  {
   "cell_type": "markdown",
   "metadata": {
    "id": "42YIbUzWL7Ba"
   },
   "source": [
    "## 🆚 `Xenova/gpt-4` Tokenizer\n",
    "\n",
    "This Hugging Face-hosted tokenizer mirrors OpenAI's `tiktoken`. It uses Byte-Pair Encoding and handles punctuation, numbers, and special symbols distinctly.\n"
   ]
  },
  {
   "cell_type": "code",
   "execution_count": null,
   "metadata": {
    "id": "SBWcQnBw0Erg"
   },
   "outputs": [],
   "source": [
    "# The official is `tiktoken` but this the same tokenizer on the HF platform\n",
    "show_tokens(text, \"Xenova/gpt-4\")  # Hint: What text and tokenizer name?"
   ]
  },
  {
   "cell_type": "markdown",
   "metadata": {
    "id": "3k2dffPGMZkn"
   },
   "source": [
    "## 🆚 `bigcode/starcoder2-15b` Tokenizer\n",
    "\n",
    "You need access to use the actual model, but the tokenizer is available. It's optimized for code and performs differently on natural language and structured inputs.\n"
   ]
  },
  {
   "cell_type": "code",
   "execution_count": null,
   "metadata": {
    "id": "9QDVadeJ0Ibv"
   },
   "outputs": [],
   "source": [
    "# You need to request access before being able to use this tokenizer\n",
    "show_tokens(text, \"bigcode/starcoder2-15b\")  # Hint: What text and tokenizer name?"
   ]
  },
  {
   "cell_type": "markdown",
   "metadata": {
    "id": "GINWypXqMdyI"
   },
   "source": [
    "## 🆚 `microsoft/Phi-3-mini-4k-instruct` Tokenizer\n",
    "\n",
    "This tokenizer is designed for compact, efficient language modeling. Notice how it splits and groups tokens differently than BERT or GPT models.\n"
   ]
  },
  {
   "cell_type": "code",
   "execution_count": null,
   "metadata": {
    "id": "AQTHFZeY0KcN"
   },
   "outputs": [],
   "source": [
    "show_tokens(text, \"microsoft/Phi-3-mini-4k-instruct\")  # Hint: What text and tokenizer name?"
   ]
  },
  {
   "cell_type": "markdown",
   "metadata": {
    "id": "FMpNsH-NN7OL"
   },
   "source": [
    "## 🧠 Load a Model to Extract Embeddings\n",
    "\n",
    "We can use a pretrained transformer (like DeBERTa) to convert text into token-level embeddings.\n"
   ]
  },
  {
   "cell_type": "code",
   "execution_count": null,
   "metadata": {
    "id": "DUsKv4tw0Mnw"
   },
   "outputs": [],
   "source": [
    "from transformers import AutoModel, AutoTokenizer\n",
    "\n",
    "# TODO: Load a tokenizer for embeddings extraction\n",
    "tokenizer = AutoTokenizer.from_pretrained(\"microsoft/deberta-base\")  # Hint: What model name for DeBERTa-base?\n",
    "\n",
    "# TODO: Load a language model for embeddings\n",
    "model = AutoModel.from_pretrained(\"microsoft/deberta-base\")  # Hint: Same model name as tokenizer\n",
    "\n",
    "# TODO: Tokenize the sentence with proper tensor format\n",
    "promot = 'Hello my name is EMAN, What about you?'\n",
    "tokens = tokenizer(promot, return_tensors='pt')  # Hint: What text and tensor format?\n",
    "\n",
    "# TODO: Process the tokens through the model to get embeddings\n",
    "output = model(**tokens)[\"last_hidden_state\"]  # Hint: What variable contains our tokenized input?"
   ]
  },
  {
   "cell_type": "markdown",
   "metadata": {
    "id": "j8Lo16KvOAA5"
   },
   "source": [
    "## 🔢 View Embedding Dimensions\n",
    "\n",
    "Each token is mapped to a high-dimensional vector. Let’s inspect the shape of the output to understand the model’s internal representation.\n"
   ]
  },
  {
   "cell_type": "code",
   "execution_count": null,
   "metadata": {
    "id": "ZHFa0Om00PmD"
   },
   "outputs": [],
   "source": [
    "# TODO: Check the shape of the embedding output\n",
    "output.shape  # Hint: What variable contains our model output?\n",
    "\n",
    "# Expected output: torch.Size([1, 4, 384])"
   ]
  },
  {
   "cell_type": "markdown",
   "metadata": {
    "id": "JE537k9fOER8"
   },
   "source": [
    "## 🔍 Decode Input Tokens\n",
    "\n",
    "We can decode the tokens back to their original text to understand which words each embedding vector corresponds to.\n"
   ]
  },
  {
   "cell_type": "code",
   "execution_count": null,
   "metadata": {
    "id": "0BcradOt0TPv"
   },
   "outputs": [],
   "source": [
    "# TODO: Decode the input tokens back to text\n",
    "for token in tokens['input_ids'][0]:  # Hint: What key contains the input IDs?\n",
    "    print(tokenizer.decode(token.item()))  # Hint: What method decodes tokens?\n",
    "\n",
    "# Expected output:\n",
    "# [CLS]\n",
    "# Hello\n",
    "# world\n",
    "# [SEP]"
   ]
  },
  {
   "cell_type": "markdown",
   "metadata": {
    "id": "zYmANkMeOVHW"
   },
   "source": [
    "## 🧬 View Token-Level Embeddings\n",
    "\n",
    "Each row in the tensor represents a single token’s embedding — a high-dimensional numerical representation that captures meaning and context.\n"
   ]
  },
  {
   "cell_type": "code",
   "execution_count": null,
   "metadata": {
    "id": "G7eQqHYz0USF"
   },
   "outputs": [],
   "source": [
    "# TODO: View the token-level embeddings tensor\n",
    "print(output)  # Hint: What variable contains our model output?\n",
    "\n",
    "# Each row represents a single token's embedding - a high-dimensional numerical representation"
   ]
  },
  {
   "cell_type": "markdown",
   "metadata": {
    "id": "uEOUCMk5QCh_"
   },
   "source": [
    "## 🧠 Encode a Sentence into a Vector\n",
    "\n",
    "We can convert an entire sentence into a fixed-size embedding vector using a pretrained model. This helps machines understand and compare sentences by their meaning.\n"
   ]
  },
  {
   "cell_type": "code",
   "execution_count": null,
   "metadata": {
    "id": "L1EyDe1y0Vmo"
   },
   "outputs": [],
   "source": [
    "from sentence_transformers import SentenceTransformer\n",
    "\n",
    "# TODO: Load a sentence transformer model\n",
    "model = SentenceTransformer('all-mpnet-base-v2')  # Hint: What's the model name for all-mpnet-base-v2?\n",
    "\n",
    "# TODO: Convert text to sentence embeddings\n",
    "vector = model.encode(\"Best movie ever!\")  # Hint: What text should we encode, like \"Best movie ever!\"?"
   ]
  },
  {
   "cell_type": "markdown",
   "metadata": {
    "id": "Zi7Y8bbpQiIZ"
   },
   "source": [
    "## 📏 Check the Sentence Embedding Size\n",
    "\n",
    "Let’s inspect the dimensions of the sentence vector. This tells us how many numerical features are used to represent the meaning of the sentence.\n"
   ]
  },
  {
   "cell_type": "code",
   "execution_count": null,
   "metadata": {
    "id": "qTpujUqx0W91"
   },
   "outputs": [],
   "source": [
    "# TODO: Check the dimensions of the sentence embedding vector\n",
    "vector.shape  # Hint: What variable contains our sentence vector?\n",
    "\n",
    "# Expected output: (768,)"
   ]
  },
  {
   "cell_type": "markdown",
   "metadata": {
    "id": "47J72H1EQnts"
   },
   "source": [
    "## 🌐 Load Pretrained GloVe Embeddings\n",
    "\n",
    "We can use GloVe (trained on Wikipedia and Gigaword) to explore classic word embeddings. These models capture word meaning based on co-occurrence patterns.\n"
   ]
  },
  {
   "cell_type": "code",
   "execution_count": null,
   "metadata": {
    "id": "vQaPkR3HXzUJ"
   },
   "outputs": [],
   "source": [
    "!pip install gensim"
   ]
  },
  {
   "cell_type": "code",
   "execution_count": null,
   "metadata": {
    "id": "DiilH-2G0eGD"
   },
   "outputs": [],
   "source": [
    "import gensim.downloader as api\n",
    "\n",
    "# TODO: Download GloVe embeddings (50MB, trained on Wikipedia, vector size: 50)\n",
    "model = api.load('glove-wiki-gigaword-50')  # Hint: What's the model name for glove-wiki-gigaword-50?"
   ]
  },
  {
   "cell_type": "markdown",
   "metadata": {
    "id": "teMkmmtDQsRh"
   },
   "source": [
    "## 🔍 Find Similar Words in Embedding Space\n",
    "\n",
    "We can now explore semantic similarity using vector distance. The model returns words that are closest to `\"king\"` in embedding space.\n"
   ]
  },
  {
   "cell_type": "code",
   "execution_count": null,
   "metadata": {
    "id": "AJ2Wv72U0iKf"
   },
   "outputs": [],
   "source": [
    "# TODO: Find words most similar to \"king\" in embedding space\n",
    "model.most_similar(['king'], topn=10)  # Hint: What word to search for and how many results?\n",
    "\n",
    "# Expected output: List of (word, similarity_score) tuples"
   ]
  },
  {
   "cell_type": "markdown",
   "metadata": {
    "id": "D_ym0tCuRDkk"
   },
   "source": [
    "## 📂 Load and Parse Playlist Data\n",
    "\n",
    "We begin by downloading a playlist dataset and parsing it into a usable format. Each playlist is represented as a sequence of song IDs.\n"
   ]
  },
  {
   "cell_type": "code",
   "execution_count": null,
   "metadata": {
    "id": "V_W3IFi71nOt"
   },
   "outputs": [],
   "source": [
    "import pandas as pd\n",
    "from urllib import request\n",
    "\n",
    "# TODO: Get the playlist dataset file\n",
    "data = request.urlopen('https://storage.googleapis.com/maps-premium/dataset/yes_complete/train.txt')\n",
    "\n",
    "# TODO: Parse the playlist dataset file, skipping metadata lines\n",
    "lines = data.read().decode('utf-8').split('\\n')[2:]  # Hint: What encoding and split character?\n",
    "\n",
    "# TODO: Remove playlists with only one song\n",
    "playlists = [s.strip().split() for s in lines if len(s.strip().split()) > 1]  # Hint: Minimum songs per playlist?\n",
    "\n",
    "# TODO: Load song metadata\n",
    "songs_file = request.urlopen('https://storage.googleapis.com/maps-premium/dataset/yes_complete/song_hash.txt')\n",
    "songs_file = songs_file.read().decode('utf-8').split('\\n')  # Hint: Encoding and split character?\n",
    "songs = [s.strip().split('\\t') for s in songs_file if s.strip()]  # clean up empty lines\n",
    "\n",
    "# TODO: Create a DataFrame with song information\n",
    "songs_df = pd.DataFrame(data=songs, columns=['song_id', 'artist_name', 'track_name'])  # Hint: What data and column names?\n",
    "songs_df = songs_df.set_index('song_id')  # Hint: What column to use as index?\n",
    "songs_df"
   ]
  },
  {
   "cell_type": "markdown",
   "metadata": {
    "id": "VoZXeoikRPot"
   },
   "source": [
    "## 🎧 Display Sample Playlists\n",
    "\n",
    "Let’s preview a couple of playlists to understand the structure. Each ID corresponds to a specific song.\n"
   ]
  },
  {
   "cell_type": "code",
   "execution_count": null,
   "metadata": {
    "id": "SaN64tdU1nwU"
   },
   "outputs": [],
   "source": [
    "# TODO: Display sample playlists to understand the structure\n",
    "print('Playlist #1:\\n ', playlists[0], '\\n')  # Hint: Which playlist list and index?\n",
    "print('Playlist #2:\\n ', playlists[1])        # Hint: Which playlist list and index?\n"
   ]
  },
  {
   "cell_type": "markdown",
   "metadata": {
    "id": "REy8phl4Rbv5"
   },
   "source": [
    "## 🧠 Train a Word2Vec Model on Playlists\n",
    "\n",
    "We treat playlists like sentences and songs like words. Training Word2Vec on this lets us learn embeddings that capture song co-occurrence patterns.\n"
   ]
  },
  {
   "cell_type": "code",
   "execution_count": null,
   "metadata": {
    "id": "vdVz79F71uIj"
   },
   "outputs": [],
   "source": [
    "from gensim.models import Word2Vec\n",
    "\n",
    "# TODO: Train our Word2Vec model on playlist data\n",
    "model = Word2Vec(\n",
    "   playlists, vector_size=64, window=5, negative=10, min_count=1, workers=4\n",
    ")\n",
    "\n",
    "# Hint: What data to train on and what are reasonable parameter values?"
   ]
  },
  {
   "cell_type": "markdown",
   "metadata": {
    "id": "PXuPPOdqSAv2"
   },
   "source": [
    "## 🔍 Find Similar Songs by ID\n",
    "\n",
    "Using our trained model, we can now retrieve songs that are most similar to a given song based on their playlist co-occurrence.\n"
   ]
  },
  {
   "cell_type": "code",
   "execution_count": null,
   "metadata": {
    "id": "iuGF0Enp1uhY"
   },
   "outputs": [],
   "source": [
    "song_id = 2172\n",
    "\n",
    "# TODO: Ask the model for songs similar to song #2172\n",
    "model.wv.most_similar(positive=[str(song_id)])  # Hint: What song ID should we convert to string?"
   ]
  },
  {
   "cell_type": "markdown",
   "metadata": {
    "id": "R7wRIfb7SHU1"
   },
   "source": [
    "## 🎵 Look Up the Original Song\n",
    "\n",
    "Let’s look up the details (title and artist) of the query song to better understand the recommendations.\n"
   ]
  },
  {
   "cell_type": "code",
   "execution_count": null,
   "metadata": {
    "id": "sxXNC8fy1wv6"
   },
   "outputs": [],
   "source": [
    "# TODO: Look up the song details in our songs DataFrame\n",
    "print(songs_df.iloc[song_id])  # Hint: What song ID should we look up?"
   ]
  },
  {
   "cell_type": "markdown",
   "metadata": {
    "id": "6TgwvjZBSJ_m"
   },
   "source": [
    "## 📊 Define a Function to Print Song Recommendations\n",
    "\n",
    "This helper function prints the top 5 recommended songs for any song ID by mapping the result back to human-readable titles and artists.\n"
   ]
  },
  {
   "cell_type": "code",
   "execution_count": null,
   "metadata": {
    "id": "Bt68Yy5R1ysX"
   },
   "outputs": [],
   "source": [
    "import numpy as np\n",
    "\n",
    "def print_recommendations(song_id):\n",
    "   # TODO: Get similar songs from the Word2Vec model\n",
    "   similar_songs = np.array(\n",
    "       model.wv.most_similar(positive=[str(song_id)], topn=3)  # Hint: What song ID and how many recommendations?\n",
    "   )[:,0]\n",
    "\n",
    "   # TODO: Return the song details from our DataFrame\n",
    "   return songs_df.iloc[similar_songs]  # Hint: What variable contains the similar song IDs?\n",
    "\n",
    "# TODO: Extract recommendations for song 2172\n",
    "print_recommendations(song_id)  # Hint: What song ID should we test?"
   ]
  },
  {
   "cell_type": "markdown",
   "metadata": {
    "id": "EtHmwZnEV22N"
   },
   "source": [
    "## 🎧 View Song Recommendations\n",
    "\n",
    "Use the function to explore which songs are most similar to any track based on the playlist embedding model. Try it with different song IDs to see how recommendations vary across genres.\n"
   ]
  },
  {
   "cell_type": "code",
   "execution_count": null,
   "metadata": {
    "id": "iR_JENfJ1z8w"
   },
   "outputs": [],
   "source": [
    "# TODO: Use the function to explore recommendations for different songs\n",
    "print_recommendations(1500)  # Hint: Try a different song ID to see how recommendations vary"
   ]
  },
  {
   "cell_type": "code",
   "execution_count": null,
   "metadata": {
    "id": "4cF-3FE4lSri"
   },
   "outputs": [],
   "source": [
    "# 🤖 Load AI Models for Prompt Engineering\n",
    "# Run this cell ONCE at the beginning - models will stay loaded\n",
    "\n",
    "from transformers import AutoModelForCausalLM, AutoTokenizer\n",
    "import torch\n",
    "\n",
    "print(\"🔧 Loading Language Models...\")\n",
    "print(\"=\" * 50)\n",
    "\n",
    "# Load Phi-3 model and tokenizer\n",
    "print(\"Loading Phi-3 model and tokenizer...\")\n",
    "model = AutoModelForCausalLM.from_pretrained(\n",
    "    \"microsoft/Phi-3-mini-4k-instruct\",\n",
    "    device_map=\"auto\",\n",
    "    torch_dtype=torch.float16,\n",
    "    trust_remote_code=True\n",
    ")\n",
    "\n",
    "tokenizer = AutoTokenizer.from_pretrained(\"microsoft/Phi-3-mini-4k-instruct\")\n",
    "\n",
    "print(\"✅ Models loaded successfully!\")\n",
    "print(\"🎯 Models are now available for all prompt engineering experiments!\")\n",
    "print(\"=\" * 50)"
   ]
  },
  {
   "cell_type": "code",
   "execution_count": null,
   "metadata": {
    "id": "VQbWydWzlY61"
   },
   "outputs": [],
   "source": [
    "# 🛠️ Setup Generation Function\n",
    "# Run this cell after loading the models above\n",
    "\n",
    "def generate_response(messages, max_tokens=200):\n",
    "    # Simple prompt formatting\n",
    "    if isinstance(messages, list) and len(messages) > 0:\n",
    "        prompt = messages[0]['content']\n",
    "    else:\n",
    "        prompt = str(messages)\n",
    "\n",
    "    # Tokenize input\n",
    "    inputs = tokenizer(prompt, return_tensors=\"pt\").to(model.device)\n",
    "\n",
    "    # Generate response with minimal settings to avoid cache issues\n",
    "    with torch.no_grad():\n",
    "        outputs = model.generate(\n",
    "            inputs['input_ids'],\n",
    "            max_new_tokens=max_tokens,\n",
    "            temperature=0.7,\n",
    "            do_sample=True,\n",
    "            pad_token_id=tokenizer.eos_token_id,\n",
    "            use_cache=False  # Disable cache to avoid version issues\n",
    "        )\n",
    "\n",
    "    # Decode only the new tokens\n",
    "    response = tokenizer.decode(outputs[0][inputs['input_ids'].shape[1]:], skip_special_tokens=True)\n",
    "    return response\n",
    "\n",
    "print(\"✅ Generation function ready!\")\n",
    "print(\"🚀 Ready for prompt engineering experiments!\")\n",
    "print(\"=\" * 50)\n",
    "\n",
    "# Test the generation function\n",
    "test_messages = [{\"role\": \"user\", \"content\": \"Hello! Can you introduce yourself briefly?\"}]\n",
    "test_output = generate_response(test_messages)\n",
    "print(\"🧪 Test Output:\")\n",
    "print(test_output)\n",
    "print(\"\\n\" + \"=\"*50)\n",
    "print(\"🎯 Now let's explore how different prompts affect AI responses!\")"
   ]
  },
  {
   "cell_type": "code",
   "execution_count": null,
   "metadata": {
    "id": "2lJfrlF3qNH3"
   },
   "outputs": [],
   "source": [
    "# 🎯 EXPERIMENT 1: Basic vs Advanced Prompting\n",
    "# Compare how prompt quality affects AI responses\n",
    "\n",
    "print(\"🔍 BASIC vs ADVANCED PROMPTING EXPERIMENT\")\n",
    "print(\"=\" * 60)\n",
    "\n",
    "# Basic prompt (often gives generic responses)\n",
    "basic_prompt = \"Write about artificial intelligence\"\n",
    "\n",
    "print(\"❌ BASIC PROMPT:\")\n",
    "print(f\"Prompt: '{basic_prompt}'\")\n",
    "print(\"-\" * 40)\n",
    "basic_messages = [{\"role\": \"user\", \"content\": basic_prompt}]\n",
    "basic_output = generate_response(basic_messages)\n",
    "print(\"Result:\")\n",
    "print(basic_output)\n",
    "print(\"\\n\" + \"=\"*60)\n",
    "\n",
    "# Advanced prompt (specific, structured, with context)\n",
    "advanced_prompt = \"\"\"You are an AI researcher writing for a tech magazine. Write a 200-word article about how artificial intelligence is transforming healthcare. Include:\n",
    "- One specific real-world example\n",
    "- One challenge that still needs solving\n",
    "- A prediction for the next 5 years\n",
    "Use an engaging, accessible tone for general readers.\"\"\"\n",
    "\n",
    "print(\"✅ ADVANCED PROMPT:\")\n",
    "print(f\"Prompt: '{advanced_prompt}'\")\n",
    "print(\"-\" * 40)\n",
    "advanced_messages = [{\"role\": \"user\", \"content\": advanced_prompt}]\n",
    "advanced_output = generate_response(advanced_messages)\n",
    "print(\"Result:\")\n",
    "print(advanced_output)\n",
    "print(\"\\n\" + \"=\"*60)\n",
    "\n",
    "print(\"🤔 REFLECTION QUESTIONS:\")\n",
    "print(\"1. Which response was more useful and specific?\")\n",
    "print(\"2. What elements made the advanced prompt more effective?\")\n",
    "print(\"3. How did structure and context change the output quality?\")"
   ]
  },
  {
   "cell_type": "code",
   "execution_count": null,
   "metadata": {
    "id": "2WCGQDGeqsFO"
   },
   "outputs": [],
   "source": [
    "# 🎯 YOUR TURN: Improve This Code Prompt\n",
    "# Try to get better, more complete code from the AI\n",
    "\n",
    "print(\"🚀 STUDENT EXPERIMENT: Code Generation\")\n",
    "print(\"=\" * 50)\n",
    "\n",
    "# Weak starting prompt\n",
    "weak_prompt = \"Write a function to sort numbers\"\n",
    "\n",
    "print(\"😐 STARTING PROMPT (Needs Improvement):\")\n",
    "print(f\"'{weak_prompt}'\")\n",
    "weak_messages = [{\"role\": \"user\", \"content\": weak_prompt}]\n",
    "weak_output = generate_response(weak_messages)\n",
    "print(\"Result:\")\n",
    "print(weak_output)\n",
    "print(\"\\n\" + \"-\"*50)\n",
    "\n",
    "# YOUR IMPROVED PROMPT - Edit this!\n",
    "your_improved_prompt = \"Write function to sort float numbers using python with clear comments and steps without using build function from math library\"\n",
    "\n",
    "print(\"🔧 YOUR IMPROVED PROMPT:\")\n",
    "print(f\"'{your_improved_prompt}'\")\n",
    "# Uncomment the lines below when you're ready to test your improved prompt:\n",
    "improved_messages = [{\"role\": \"user\", \"content\": your_improved_prompt}]\n",
    "improved_output = generate_response(improved_messages)\n",
    "print(\"Your Result:\")\n",
    "print(improved_output)\n",
    "\n",
    "print(\"\\n📝 CHALLENGE: Rewrite 'your_improved_prompt' to get the best possible code!\")\n",
    "print(\"💡 TIPS: Be specific about documentation, error handling, examples, etc.\")"
   ]
  },
  {
   "cell_type": "code",
   "execution_count": null,
   "metadata": {
    "id": "MVqkBLnHrUMQ"
   },
   "outputs": [],
   "source": [
    "# 🎯 YOUR TURN: Creative Writing Challenge\n",
    "# Transform a boring prompt into something that generates amazing stories\n",
    "\n",
    "print(\"✨ STUDENT EXPERIMENT: Creative Writing\")\n",
    "print(\"=\" * 50)\n",
    "\n",
    "# Generic starting prompt\n",
    "boring_prompt = \"Tell me a story\"\n",
    "\n",
    "print(\"😴 BORING PROMPT:\")\n",
    "print(f\"'{boring_prompt}'\")\n",
    "boring_messages = [{\"role\": \"user\", \"content\": boring_prompt}]\n",
    "boring_output = generate_response(boring_messages)\n",
    "print(\"Result:\")\n",
    "print(boring_output)\n",
    "print(\"\\n\" + \"-\"*50)\n",
    "\n",
    "# YOUR CREATIVE PROMPT - Make it amazing!\n",
    "your_creative_prompt = \"tell me a creative story about good intentions of people within 100 words using advanced words\"\n",
    "\n",
    "print(\"🎨 YOUR CREATIVE PROMPT:\")\n",
    "print(f\"'{your_creative_prompt}'\")\n",
    "# Uncomment when ready to test:\n",
    "creative_messages = [{\"role\": \"user\", \"content\": your_creative_prompt}]\n",
    "creative_output = generate_response(creative_messages)\n",
    "print(\"Your Result:\")\n",
    "print(creative_output)\n",
    "\n",
    "print(\"\\n📝 CHALLENGE: Create a prompt that generates a compelling, specific story!\")\n",
    "print(\"💡 TIPS: Add constraints, vivid details, specific genres, character traits, etc.\")"
   ]
  },
  {
   "cell_type": "code",
   "execution_count": null,
   "metadata": {
    "id": "G91pFagtrksS"
   },
   "outputs": [],
   "source": [
    "# 🎯 YOUR TURN: Problem Solving Challenge\n",
    "# Get structured, actionable solutions instead of vague advice\n",
    "\n",
    "print(\"💡 STUDENT EXPERIMENT: Problem Solving\")\n",
    "print(\"=\" * 50)\n",
    "\n",
    "# Vague starting prompt\n",
    "vague_prompt = \"How can schools reduce student stress?\"\n",
    "\n",
    "print(\"🤔 VAGUE PROMPT:\")\n",
    "print(f\"'{vague_prompt}'\")\n",
    "vague_messages = [{\"role\": \"user\", \"content\": vague_prompt}]\n",
    "vague_output = generate_response(vague_messages)\n",
    "print(\"Result:\")\n",
    "print(vague_output)\n",
    "print(\"\\n\" + \"-\"*50)\n",
    "\n",
    "# YOUR STRUCTURED PROMPT - Make it actionable!\n",
    "your_structured_prompt = \"\"\"\n",
    "You're an education consultant advising schools on reducing student stress.\n",
    "Tell me how can schools reduce student stress? In term of study hour, sleep hour and rest hour.\n",
    "I want 100 words.\n",
    "\"\"\"\n",
    "\n",
    "print(\"📊 YOUR STRUCTURED PROMPT:\")\n",
    "print(f\"'{your_structured_prompt}'\")\n",
    "# Uncomment when ready to test:\n",
    "structured_messages = [{\"role\": \"user\", \"content\": your_structured_prompt}]\n",
    "structured_output = generate_response(structured_messages)\n",
    "print(\"Your Result:\")\n",
    "print(structured_output)\n",
    "\n",
    "print(\"\\n📝 CHALLENGE: Get specific, actionable solutions with clear steps!\")\n",
    "print(\"💡 TIPS: Ask for formats, timelines, metrics, specific constraints, etc.\")"
   ]
  },
  {
   "cell_type": "code",
   "execution_count": null,
   "metadata": {
    "id": "cdBBATmfvFZg"
   },
   "outputs": [],
   "source": [
    "# ⏱️ EXPERIMENT: Speed vs Quality Trade-offs\n",
    "# Time how long different prompts take and compare efficiency\n",
    "\n",
    "import time\n",
    "\n",
    "print(\"⏱️ SPEED & EFFICIENCY EXPERIMENT\")\n",
    "print(\"=\" * 50)\n",
    "\n",
    "def timed_generation(messages, label, max_tokens=150):\n",
    "    print(f\"\\n🔄 Generating: {label}\")\n",
    "    start_time = time.time()\n",
    "\n",
    "    result = generate_response(messages, max_tokens=max_tokens)\n",
    "\n",
    "    end_time = time.time()\n",
    "    duration = end_time - start_time\n",
    "\n",
    "    print(f\"⏱️  Time taken: {duration:.2f} seconds\")\n",
    "    print(f\"📝 Word count: ~{len(result.split())} words\")\n",
    "    print(f\"⚡ Words per second: {len(result.split())/duration:.1f}\")\n",
    "    print(f\"📄 Result:\\n{result}\")\n",
    "    print(\"-\" * 40)\n",
    "\n",
    "    return result, duration\n",
    "\n",
    "# Test different prompt lengths and complexity\n",
    "prompts_to_test = [\n",
    "    (\"Short & Simple\", \"Explain AI in one sentence\"),\n",
    "    (\"Medium & Specific\", \"Explain AI to a 12-year-old using simple examples\"),\n",
    "    (\"Long & Detailed\", \"\"\"You are a teacher explaining artificial intelligence to middle school students.\n",
    "    Create a 100-word explanation that includes:\n",
    "    - What AI means in simple terms\n",
    "    - One everyday example they know\n",
    "    - Why it's useful\n",
    "    - One limitation or concern\n",
    "    Use conversational tone and avoid technical jargon.\"\"\"),\n",
    "    (\"Your Custom Prompt\", \"ADD YOUR OWN PROMPT HERE TO TEST!\")\n",
    "]\n",
    "\n",
    "results = {}\n",
    "for label, prompt in prompts_to_test:\n",
    "    if prompt != \"You are now my teacher, Explain AI from basics to advanced examples\":  # Skip placeholder\n",
    "        messages = [{\"role\": \"user\", \"content\": prompt}]\n",
    "        result, duration = timed_generation(messages, label)\n",
    "        results[label] = {\"duration\": duration, \"result\": result}\n",
    "\n",
    "print(\"\\n📊 SPEED COMPARISON SUMMARY:\")\n",
    "print(\"=\" * 50)\n",
    "for label, data in results.items():\n",
    "    print(f\"{label}: {data['duration']:.2f}s\")\n",
    "\n",
    "print(\"\\n🤔 REFLECTION QUESTIONS:\")\n",
    "print(\"- Did more detailed prompts take longer?\")\n",
    "print(\"- Which prompt gave the best quality/speed ratio?\")\n",
    "print(\"- When might you prefer speed vs. detailed prompts?\")"
   ]
  },
  {
   "cell_type": "code",
   "execution_count": null,
   "metadata": {
    "id": "seleYisfwf1G"
   },
   "outputs": [],
   "source": [
    "# 🤖 EXPERIMENT: Multiple Models Comparison\n",
    "# Load different models and compare their responses to the same prompt\n",
    "\n",
    "print(\"🤖 MULTIPLE MODELS EXPERIMENT\")\n",
    "print(\"=\" * 50)\n",
    "\n",
    "# Load a second, smaller model for comparison\n",
    "print(\"Loading GPT-2 for comparison...\")\n",
    "from transformers import GPT2LMHeadModel, GPT2Tokenizer\n",
    "\n",
    "try:\n",
    "    gpt2_model = GPT2LMHeadModel.from_pretrained(\"gpt2\")\n",
    "    gpt2_tokenizer = GPT2Tokenizer.from_pretrained(\"gpt2\")\n",
    "    gpt2_tokenizer.pad_token = gpt2_tokenizer.eos_token\n",
    "\n",
    "    def generate_gpt2_response(prompt, max_tokens=100):\n",
    "        inputs = gpt2_tokenizer.encode(prompt, return_tensors=\"pt\")\n",
    "        with torch.no_grad():\n",
    "            outputs = gpt2_model.generate(\n",
    "                inputs,\n",
    "                max_new_tokens=max_tokens,\n",
    "                temperature=0.7,\n",
    "                do_sample=True,\n",
    "                pad_token_id=gpt2_tokenizer.eos_token_id\n",
    "            )\n",
    "        response = gpt2_tokenizer.decode(outputs[0][inputs.shape[1]:], skip_special_tokens=True)\n",
    "        return response\n",
    "\n",
    "    print(\"✅ GPT-2 loaded successfully!\")\n",
    "    gpt2_available = True\n",
    "\n",
    "except Exception as e:\n",
    "    print(f\"❌ Could not load GPT-2: {e}\")\n",
    "    print(\"Continuing with Phi-3 only...\")\n",
    "    gpt2_available = False\n",
    "\n",
    "print(\"=\" * 50)"
   ]
  },
  {
   "cell_type": "code",
   "execution_count": null,
   "metadata": {
    "id": "DkSzyAb9xho0"
   },
   "outputs": [],
   "source": [
    "# Test prompt for comparison\n",
    "test_prompt = \"Write a creative opening sentence for a mystery novel.\"\n",
    "\n",
    "print(f\"🎯 TEST PROMPT: '{test_prompt}'\")\n",
    "print(\"=\" * 50)\n",
    "\n",
    "# Phi-3 Response\n",
    "print(\"🔷 PHI-3 RESPONSE:\")\n",
    "phi3_start = time.time()\n",
    "phi3_messages = [{\"role\": \"user\", \"content\": test_prompt}]\n",
    "phi3_response = generate_response(phi3_messages, max_tokens=100)\n",
    "phi3_time = time.time() - phi3_start\n",
    "print(f\"⏱️  Time: {phi3_time:.2f}s\")\n",
    "print(f\"📝 Response: {phi3_response}\")\n",
    "print(\"-\" * 40)\n",
    "\n",
    "# GPT-2 Response (if available)\n",
    "if gpt2_available:\n",
    "    print(\"🔶 GPT-2 RESPONSE:\")\n",
    "    gpt2_start = time.time()\n",
    "    gpt2_response = generate_gpt2_response(test_prompt, max_tokens=100)\n",
    "    gpt2_time = time.time() - gpt2_start\n",
    "    print(f\"⏱️  Time: {gpt2_time:.2f}s\")\n",
    "    print(f\"📝 Response: {gpt2_response}\")\n",
    "    print(\"-\" * 40)\n",
    "\n",
    "    print(\"📊 MODEL COMPARISON:\")\n",
    "    print(f\"Phi-3 speed: {phi3_time:.2f}s\")\n",
    "    print(f\"GPT-2 speed: {gpt2_time:.2f}s\")\n",
    "    print(f\"Speed winner: {'GPT-2' if gpt2_time < phi3_time else 'Phi-3'}\")\n",
    "\n",
    "print(\"\\n🤔 REFLECTION QUESTIONS:\")\n",
    "print(\"- Which model gave more creative responses?\")\n",
    "print(\"- Which was faster?\")\n",
    "print(\"- How did response quality differ?\")\n",
    "print(\"- Which would you choose for different tasks?\")"
   ]
  },
  {
   "cell_type": "code",
   "execution_count": null,
   "metadata": {
    "id": "9AMNDc8mxklK"
   },
   "outputs": [],
   "source": [
    "# 🌡️ EXPERIMENT: Temperature Settings\n",
    "# See how creativity settings affect output consistency and variety\n",
    "\n",
    "print(\"🌡️ TEMPERATURE & CREATIVITY EXPERIMENT\")\n",
    "print(\"=\" * 50)\n",
    "\n",
    "def generate_with_temperature(messages, temp, max_tokens=80):\n",
    "    prompt = messages[0]['content']\n",
    "    inputs = tokenizer(prompt, return_tensors=\"pt\").to(model.device)\n",
    "\n",
    "    with torch.no_grad():\n",
    "        outputs = model.generate(\n",
    "            inputs['input_ids'],\n",
    "            max_new_tokens=max_tokens,\n",
    "            temperature=temp,\n",
    "            do_sample=True,\n",
    "            pad_token_id=tokenizer.eos_token_id,\n",
    "            use_cache=False\n",
    "        )\n",
    "\n",
    "    response = tokenizer.decode(outputs[0][inputs['input_ids'].shape[1]:], skip_special_tokens=True)\n",
    "    return response\n",
    "\n",
    "# Test prompt\n",
    "creativity_prompt = \"Come up with a unique name for a coffee shop and explain the concept.\"\n",
    "messages = [{\"role\": \"user\", \"content\": creativity_prompt}]\n",
    "\n",
    "temperatures = [0.1, 0.5, 0.9, 1.2]\n",
    "\n",
    "print(f\"🎯 TEST PROMPT: '{creativity_prompt}'\")\n",
    "print(\"=\" * 50)\n",
    "\n",
    "for temp in temperatures:\n",
    "    print(f\"🌡️  TEMPERATURE: {temp}\")\n",
    "    print(\"🔄 Generating 3 responses to show variety...\")\n",
    "\n",
    "    for i in range(3):\n",
    "        start_time = time.time()\n",
    "        response = generate_with_temperature(messages, temp)\n",
    "        duration = time.time() - start_time\n",
    "\n",
    "        print(f\"  Response {i+1} ({duration:.2f}s): {response[:100]}...\")\n",
    "\n",
    "    print(\"-\" * 40)\n",
    "\n",
    "print(\"\\n🤔 ANALYSIS QUESTIONS:\")\n",
    "print(\"- Which temperature gave the most creative responses?\")\n",
    "print(\"- Which was most consistent?\")\n",
    "print(\"- Which would you use for:\")\n",
    "print(\"  • Creative writing?\")\n",
    "print(\"  • Technical documentation?\")\n",
    "print(\"  • Factual answers?\")"
   ]
  },
  {
   "cell_type": "code",
   "execution_count": null,
   "metadata": {
    "id": "VIF-Bkkxx4uE"
   },
   "outputs": [],
   "source": [
    "# 🎓 ADVANCED PROMPT ENGINEERING TECHNIQUES\n",
    "# Experiment with different prompting strategies\n",
    "\n",
    "print(\"🎓 ADVANCED PROMPTING TECHNIQUES\")\n",
    "print(\"=\" * 50)\n",
    "\n",
    "base_question = \"How can a small business increase customer loyalty?\"\n",
    "\n",
    "techniques = {\n",
    "    \"Zero-Shot\": base_question,\n",
    "\n",
    "    \"Few-Shot\": \"\"\"Here are examples of business loyalty strategies:\n",
    "Example 1: Restaurant - Loyalty card with free meal after 10 visits\n",
    "Example 2: Bookstore - Monthly book club with member discounts\n",
    "Example 3: Gym - Referral bonus for bringing friends\n",
    "\n",
    "Now answer: How can a small business increase customer loyalty?\"\"\",\n",
    "\n",
    "    \"Chain-of-Thought\": \"\"\"Think step by step about how a small business can increase customer loyalty:\n",
    "\n",
    "Step 1: First, identify what makes customers loyal\n",
    "Step 2: Then, consider what small businesses can realistically implement\n",
    "Step 3: Finally, suggest specific actionable strategies\n",
    "\n",
    "How can a small business increase customer loyalty?\"\"\",\n",
    "\n",
    "    \"Role-Playing\": \"\"\"You are a successful small business consultant with 15 years of experience helping local shops and services grow their customer base. You've seen what works and what doesn't.\n",
    "\n",
    "A new small business owner asks: How can I increase customer loyalty?\"\"\",\n",
    "\n",
    "    \"Structured Output\": \"\"\"Provide strategies for small business customer loyalty in this format:\n",
    "\n",
    "IMMEDIATE ACTIONS (0-30 days):\n",
    "- [Strategy 1]: [Expected impact]\n",
    "- [Strategy 2]: [Expected impact]\n",
    "\n",
    "MEDIUM TERM (1-6 months):\n",
    "- [Strategy 1]: [Expected impact]\n",
    "- [Strategy 2]: [Expected impact]\n",
    "\n",
    "LONG TERM (6+ months):\n",
    "- [Strategy 1]: [Expected impact]\n",
    "\n",
    "How can a small business increase customer loyalty?\"\"\"\n",
    "}\n",
    "\n",
    "results = {}\n",
    "for technique, prompt in techniques.items():\n",
    "    print(f\"🔍 TECHNIQUE: {technique}\")\n",
    "    print(f\"Prompt: {prompt[:100]}...\")\n",
    "\n",
    "    start_time = time.time()\n",
    "    messages = [{\"role\": \"user\", \"content\": prompt}]\n",
    "    response = generate_response(messages, max_tokens=150)\n",
    "    duration = time.time() - start_time\n",
    "\n",
    "    print(f\"⏱️  Time: {duration:.2f}s\")\n",
    "    print(f\"📝 Response: {response}\")\n",
    "    print(\"-\" * 50)\n",
    "\n",
    "    results[technique] = {\"response\": response, \"time\": duration}\n",
    "\n",
    "print(\"📊 TECHNIQUE COMPARISON:\")\n",
    "print(\"=\" * 30)\n",
    "for technique, data in results.items():\n",
    "    print(f\"{technique}: {data['time']:.2f}s\")\n",
    "\n",
    "print(\"\\n🎯 YOUR EXPERIMENT:\")\n",
    "print(\"Try creating your own advanced prompt using multiple techniques!\")\n",
    "your_advanced_prompt = \"Explain for me briefly about LLms and what\"\n",
    "\n",
    "print(f\"Your prompt: {your_advanced_prompt}\")\n",
    "# Uncomment to test:\n",
    "# messages = [{\"role\": \"user\", \"content\": your_advanced_prompt}]\n",
    "# your_result = generate_response(messages)\n",
    "# print(f\"Your result: {your_result}\")"
   ]
  }
 ],
 "metadata": {
  "accelerator": "GPU",
  "colab": {
   "gpuType": "T4",
   "provenance": []
  },
  "kernelspec": {
   "display_name": "Python 3",
   "name": "python3"
  },
  "language_info": {
   "codemirror_mode": {
    "name": "ipython",
    "version": 3
   },
   "file_extension": ".py",
   "mimetype": "text/x-python",
   "name": "python",
   "nbconvert_exporter": "python",
   "pygments_lexer": "ipython3",
   "version": "3.12.9"
  }
 },
 "nbformat": 4,
 "nbformat_minor": 0
}
