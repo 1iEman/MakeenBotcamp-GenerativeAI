{
 "cells": [
  {
   "cell_type": "markdown",
   "metadata": {
    "id": "ReHSXj9xXqPD"
   },
   "source": [
    "# 🌍 Day 5: Document Translation with Transformers\n",
    "\n",
    "Welcome to Day 5 of the Generative AI workshop!\n",
    "\n",
    "Today we'll focus on **machine translation** — the task of automatically converting text from one language to another using transformer models. This is one of the most impactful applications of modern NLP.\n",
    "\n",
    "We'll walk through a practical pipeline:\n",
    "- Upload a PDF file in English\n",
    "- Extract and chunk the text\n",
    "- Use a pre-trained multilingual model to translate it (e.g., to Arabic)\n",
    "- View translated output for each chunk and compare results\n",
    "\n",
    "By the end of this session, you'll be able to build a simple document translator using open-source tools.\n"
   ]
  },
  {
   "cell_type": "markdown",
   "metadata": {
    "id": "3j6xltDiX-TT"
   },
   "source": [
    "## 🔧 Install Required Packages\n",
    "\n",
    "## What We'll Install:\n",
    "\n",
    "- **`PyPDF2`** - For extracting text from PDF documents\n",
    "- **`transformers`** - Hugging Face library for loading pre-trained translation models\n",
    "- **`tqdm`** - Creates progress bars to track translation progress\n",
    "- **`nltk`** - Natural Language Toolkit for text processing and BLEU score calculation\n",
    "- **`matplotlib`** - For creating visualizations of our results"
   ]
  },
  {
   "cell_type": "code",
   "execution_count": null,
   "metadata": {
    "colab": {
     "base_uri": "https://localhost:8080/"
    },
    "id": "-wXgLALnX-Dm",
    "outputId": "219f50d7-2808-40c8-e3d3-e1c96d1ffbf5"
   },
   "outputs": [
    {
     "name": "stdout",
     "output_type": "stream",
     "text": [
      "\u001b[?25l   \u001b[90m━━━━━━━━━━━━━━━━━━━━━━━━━━━━━━━━━━━━━━━━\u001b[0m \u001b[32m0.0/232.6 kB\u001b[0m \u001b[31m?\u001b[0m eta \u001b[36m-:--:--\u001b[0m\r",
      "\u001b[2K   \u001b[91m━━━━━━━━━━━━━━━━━━━━━━━━━━━━━━━━━\u001b[0m\u001b[90m╺\u001b[0m\u001b[90m━━━━━━\u001b[0m \u001b[32m194.6/232.6 kB\u001b[0m \u001b[31m5.6 MB/s\u001b[0m eta \u001b[36m0:00:01\u001b[0m\r",
      "\u001b[2K   \u001b[90m━━━━━━━━━━━━━━━━━━━━━━━━━━━━━━━━━━━━━━━━\u001b[0m \u001b[32m232.6/232.6 kB\u001b[0m \u001b[31m4.1 MB/s\u001b[0m eta \u001b[36m0:00:00\u001b[0m\n",
      "\u001b[?25h"
     ]
    }
   ],
   "source": [
    "!pip install PyPDF2 transformers tqdm nltk --quiet"
   ]
  },
  {
   "cell_type": "markdown",
   "metadata": {
    "id": "hy5hUQA7YEs7"
   },
   "source": [
    "Now we'll import all the libraries we need for our machine translation pipeline. Each import serves a specific role in our workflow.\n",
    "\n",
    "## Core Libraries Explained:\n",
    "\n",
    "- **`PdfReader`** - Extracts text from PDF files (we'll use a test story instead)\n",
    "- **`AutoTokenizer`** - Converts text into tokens that neural networks can understand\n",
    "- **`AutoModelForSeq2SeqLM`** - Loads pre-trained sequence-to-sequence translation models\n",
    "- **`tqdm`** - Displays progress bars during translation processes\n",
    "- **`torch`** - PyTorch framework that powers our neural translation models"
   ]
  },
  {
   "cell_type": "code",
   "execution_count": null,
   "metadata": {
    "id": "QUbQZavXX8pA"
   },
   "outputs": [],
   "source": [
    "from PyPDF2 import PdfReader\n",
    "from transformers import AutoTokenizer, AutoModelForSeq2SeqLM\n",
    "from tqdm import tqdm\n",
    "import torch"
   ]
  },
  {
   "cell_type": "markdown",
   "metadata": {
    "id": "JmFJh5UdRIwc"
   },
   "source": [
    "# 🌐 Load Translation Model\n",
    "\n",
    "We'll use a pre-trained model from Hugging Face to translate English to Arabic.\n",
    "\n",
    "**Model**: `Helsinki-NLP/opus-mt-en-ar`\n",
    "- **Helsinki-NLP**: Research group specializing in machine translation\n",
    "- **opus-mt**: OPUS Machine Translation project with 1000+ language pairs\n",
    "- **en-ar**: English → Arabic translation direction\n",
    "\n",
    "This model was trained on millions of parallel English-Arabic sentence pairs and can handle various text types, though it struggles with idioms and cultural expressions."
   ]
  },
  {
   "cell_type": "code",
   "execution_count": null,
   "metadata": {
    "colab": {
     "base_uri": "https://localhost:8080/",
     "height": 412,
     "referenced_widgets": [
      "038d964f6f7e4f32964b4a097f447101",
      "cfc06355e5f34e99b5e20b538a3d5e8e",
      "87c3554e757a43c28b189eecc532abc2",
      "19567f01525c4333a5ecbadf0cfd8234",
      "3d058b32dbf946b7b2db67fc5709f41d",
      "810b128c2f9746488586e729efaaee9f",
      "9d45c7020037442cac94f4a2a74825c0",
      "6934c234f6314f25ac38b1e1c7c5e4d2",
      "dd1551915f6143b6b6d40c2f01c9fef7",
      "2ab7fcae5a44495098f9a20da713768d",
      "8aaab0463a874f448f0f253a663ea860",
      "e6e5d05e809c4c6f979e8e65ce048c42",
      "e4a54d65d7f949b5ab3e249aaddeb131",
      "9cb472959af244f2860973dca9b3f96f",
      "4439e0fc225c4944a8cb89073480627b",
      "b58d272ec3724c8c8fcbc71e0e7f5629",
      "2274293965354d21bf4201d916a110e3",
      "18c30d8bc72949b7a72e3fc3c626bdb2",
      "ffd4ef6f50444ddfb9035d57409a10ce",
      "27e14197e5a1401384c1277e866a8f16",
      "15acd17060524cd89e49b394dc60b3fb",
      "95533be9935e439e92abadfda242402d",
      "ec9c7bdb4d514dd98e3086b331e5559d",
      "a8c1656b3f354a9eb46fcea7597bb38a",
      "7fe18c2d4f6b47ee8b3d86544ea57ce4",
      "41d67c75ebd64277bb42f0388dc6da74",
      "20804231d9604166b17c4f159e096e3c",
      "452f15ea94094981b4d45222388ff188",
      "5e9ddb99a9284063a578594c4f6e3085",
      "70e3968ccd9049f9b94d23633d7db215",
      "de101e0443284c5c882987e9b5ddbae7",
      "592f4586d541482d86e78a50f39ea5be",
      "78ec69910b6b4ceebfe5e3bc82095918",
      "80eaffdd3d8c4edc9a2b06f3f28e720e",
      "c2aea91e580d442ea6da0e61e87fdbc8",
      "cc25bfa0cc85437299e6d17fb9f7fa98",
      "3ab587e14a674e90b885f76ff65aff8b",
      "e8e39774cfcb4fddb915ce77f03ba118",
      "258b2a9583694d26a1d5ca2512ebdcee",
      "8cbf9018fde4496595eab4032d72f443",
      "f522447505ca4e1c8f0083f43aab66b1",
      "48431c813f80423dace24b37c0668a9a",
      "fead1e90051849b7bf7dfba51b25c6e8",
      "9d7ac45362f1419d9cccd711302ac738",
      "8d387514faa14c22ab79ba66fd252248",
      "c43fff9429684cbaaa41acf495d73885",
      "c329bdd61f374a69b100bf3f3850c01b",
      "93de21d8494b4318a114c96591ef3dde",
      "879931b73aa147328f7a1f3aaf49c75a",
      "f5647cbd61b142a4a82bd3f1b5ac6411",
      "73fa5159b6a84667beff34abb4c88950",
      "7938a1436cab4afa91e93e0a4b97deb3",
      "14a627f1096c4c2a940348fc5bd41e56",
      "9684553fdcdf43779b24c43bb2736edf",
      "247fb8d90b914a11a08010ad52be5a11",
      "0d67b16da9d84253b9d61ab78c48fc27",
      "51fc896b42434188a77d667cecfc6f4c",
      "0992ddd7961646a8a9229842185e0dd1",
      "fe0063cf237e40e185d26da34c45d5ef",
      "4141f4bf3d82458b87849bd51add6517",
      "6e7b3378d2cb431483835b56e24f8985",
      "b5c73402da0d4157b1b43e62eeee0ba8",
      "1d9cfaa306644fd3a4b04bc43a58b228",
      "e09970fd8dc64079827a58d492857e43",
      "3999e7257a234d95bfbcbec491e70741",
      "d9805c5d37fd48b28e274e83c0f491a3",
      "b7c5779f26504ff6aa88898dc0c8b5d2",
      "b272a609d51a4c6d8efbb0ffa501b889",
      "9d085c8c54c84710bc0454566b5340d1",
      "56eef7752bee4b90bd04ea6c9ceb5c26",
      "2cd43ab28004469c812cb5792fc4eeab",
      "d4d106b0d0cf4752aab6830735f71132",
      "43f43de9741d4f2e9eb94d2688e06813",
      "f44296b01a3b4ab8a381f8c5e35b0aa2",
      "ada6200534eb45adb431f82adabe5e78",
      "a92f6e12402d4d9cbea359c9b8371b2f",
      "41160d47b0f24431bc3f18c3317c3b6b",
      "dff014c31880415384e80f19c1365c92",
      "fdb72f0727524bc98e47f3a49772a750",
      "f12c40223afc4da7b1a21e2f402a296f",
      "6f0caf68ef2544518b5479ef0b29591f",
      "4d8d2e3ef59944599a53dd46102b7ccf",
      "2f410c1ee67442c89459afdfdbb66ea6",
      "1f3d3390537842cc8528423c19971942",
      "6aeef3d9a92c4ff883c86a27f5dbdb9d",
      "ed1fb2855fbb439d8870b0b6d3315825",
      "6eec01246aa544df9e577126b830eb7d",
      "9b1ff25ec7394f17a4051247d953eaaf"
     ]
    },
    "id": "XKiHQ9aURQQw",
    "outputId": "0cb7d4b6-fbcd-46ed-fd57-42907338e1bc"
   },
   "outputs": [
    {
     "name": "stderr",
     "output_type": "stream",
     "text": [
      "/usr/local/lib/python3.11/dist-packages/huggingface_hub/utils/_auth.py:94: UserWarning: \n",
      "The secret `HF_TOKEN` does not exist in your Colab secrets.\n",
      "To authenticate with the Hugging Face Hub, create a token in your settings tab (https://huggingface.co/settings/tokens), set it as secret in your Google Colab and restart your session.\n",
      "You will be able to reuse this secret in all of your notebooks.\n",
      "Please note that authentication is recommended but still optional to access public models or datasets.\n",
      "  warnings.warn(\n"
     ]
    },
    {
     "data": {
      "application/vnd.jupyter.widget-view+json": {
       "model_id": "038d964f6f7e4f32964b4a097f447101",
       "version_major": 2,
       "version_minor": 0
      },
      "text/plain": [
       "tokenizer_config.json:   0%|          | 0.00/44.0 [00:00<?, ?B/s]"
      ]
     },
     "metadata": {},
     "output_type": "display_data"
    },
    {
     "data": {
      "application/vnd.jupyter.widget-view+json": {
       "model_id": "e6e5d05e809c4c6f979e8e65ce048c42",
       "version_major": 2,
       "version_minor": 0
      },
      "text/plain": [
       "config.json: 0.00B [00:00, ?B/s]"
      ]
     },
     "metadata": {},
     "output_type": "display_data"
    },
    {
     "data": {
      "application/vnd.jupyter.widget-view+json": {
       "model_id": "ec9c7bdb4d514dd98e3086b331e5559d",
       "version_major": 2,
       "version_minor": 0
      },
      "text/plain": [
       "source.spm:   0%|          | 0.00/801k [00:00<?, ?B/s]"
      ]
     },
     "metadata": {},
     "output_type": "display_data"
    },
    {
     "data": {
      "application/vnd.jupyter.widget-view+json": {
       "model_id": "80eaffdd3d8c4edc9a2b06f3f28e720e",
       "version_major": 2,
       "version_minor": 0
      },
      "text/plain": [
       "target.spm:   0%|          | 0.00/917k [00:00<?, ?B/s]"
      ]
     },
     "metadata": {},
     "output_type": "display_data"
    },
    {
     "data": {
      "application/vnd.jupyter.widget-view+json": {
       "model_id": "8d387514faa14c22ab79ba66fd252248",
       "version_major": 2,
       "version_minor": 0
      },
      "text/plain": [
       "vocab.json: 0.00B [00:00, ?B/s]"
      ]
     },
     "metadata": {},
     "output_type": "display_data"
    },
    {
     "name": "stderr",
     "output_type": "stream",
     "text": [
      "/usr/local/lib/python3.11/dist-packages/transformers/models/marian/tokenization_marian.py:175: UserWarning: Recommended: pip install sacremoses.\n",
      "  warnings.warn(\"Recommended: pip install sacremoses.\")\n"
     ]
    },
    {
     "data": {
      "application/vnd.jupyter.widget-view+json": {
       "model_id": "0d67b16da9d84253b9d61ab78c48fc27",
       "version_major": 2,
       "version_minor": 0
      },
      "text/plain": [
       "pytorch_model.bin:   0%|          | 0.00/308M [00:00<?, ?B/s]"
      ]
     },
     "metadata": {},
     "output_type": "display_data"
    },
    {
     "data": {
      "application/vnd.jupyter.widget-view+json": {
       "model_id": "b7c5779f26504ff6aa88898dc0c8b5d2",
       "version_major": 2,
       "version_minor": 0
      },
      "text/plain": [
       "model.safetensors:   0%|          | 0.00/308M [00:00<?, ?B/s]"
      ]
     },
     "metadata": {},
     "output_type": "display_data"
    },
    {
     "data": {
      "application/vnd.jupyter.widget-view+json": {
       "model_id": "dff014c31880415384e80f19c1365c92",
       "version_major": 2,
       "version_minor": 0
      },
      "text/plain": [
       "generation_config.json:   0%|          | 0.00/293 [00:00<?, ?B/s]"
      ]
     },
     "metadata": {},
     "output_type": "display_data"
    }
   ],
   "source": [
    "# Load pre-trained English → Arabic translation model\n",
    "tokenizer = AutoTokenizer.from_pretrained(\"Helsinki-NLP/opus-mt-en-ar\")\n",
    "model = AutoModelForSeq2SeqLM.from_pretrained(\"Helsinki-NLP/opus-mt-en-ar\")"
   ]
  },
  {
   "cell_type": "markdown",
   "metadata": {
    "id": "IjOABtm_YNcc"
   },
   "source": [
    "# 📖 Load Test Story with Translation Challenges\n",
    "\n",
    "We'll translate a story containing challenging elements that will test our machine translation system:\n",
    "\n",
    "- **Idioms** (break a leg, piece of cake) - Often translate literally instead of meaningfully\n",
    "- **Numbers and dates** (March 15th, 2024, $95,750) - Formatting and cultural conventions\n",
    "- **Proper names** (Sarah Johnson, Robert Chen III) - Should remain unchanged\n",
    "- **Technical terms and percentages** - Domain-specific vocabulary challenges\n",
    "\n",
    "This story will help us understand both the **strengths** and **limitations** of modern machine translation."
   ]
  },
  {
   "cell_type": "code",
   "execution_count": null,
   "metadata": {
    "colab": {
     "base_uri": "https://localhost:8080/"
    },
    "id": "Cfdt2iv4YMcq",
    "outputId": "c37656d1-9d71-4a3d-cd06-cec2efe95a41"
   },
   "outputs": [
    {
     "name": "stdout",
     "output_type": "stream",
     "text": [
      "Test story loaded: 1669 characters\n",
      "Number of tokens: 405\n",
      "Average characters per token: 4.1\n"
     ]
    }
   ],
   "source": [
    "# Simple test story with token counting\n",
    "test_story = \"\"\"On March 15th, 2024, Sarah Johnson received an email that would change her life forever. The subject line read: \"Congratulations! You've been selected for TechVenture Accelerator 2024.\"\n",
    "\n",
    "Sarah couldn't believe her eyes. After 3.5 years of working as a software engineer at DataCorp Inc., earning $95,750 annually, she was finally getting her shot at the big leagues. Her startup idea, \"SmartHome AI,\" had caught the attention of investors.\n",
    "\n",
    "\"Break a leg at the presentation!\" texted her best friend Mike at 9:30 AM.\n",
    "\n",
    "The accelerator program was no joke. Sarah had to pitch to 50+ investors, including billionaire tech mogul Robert Chen III, who was known for being tougher than nails. The stakes were high: $2.5 million in seed funding was on the line.\n",
    "\n",
    "Sarah's presentation went like this: \"Ladies and gentlemen, imagine a world where your home knows you better than you know yourself. Our AI can predict when you'll arrive home with 97.3% accuracy, adjust the temperature to exactly 72.5°F, and even order groceries before you run out.\"\n",
    "\n",
    "The room was dead silent. Then Robert Chen stood up. \"That's a piece of cake for any decent ML engineer,\" he said. \"What makes you different?\"\n",
    "\n",
    "Sarah's heart sank. She felt like she was between a rock and a hard place. But then she remembered her secret weapon.\n",
    "\n",
    "\"Mr. Chen,\" she said, \"our AI doesn't just learn patterns. It understands context. When my grandmother, who's 84 years old, visits every Sunday at 2:00 PM, the system knows to prepare her favorite chamomile tea and lower the music volume. It's not just smart - it's thoughtful.\"\n",
    "\n",
    "Robert's expression softened. \"Now you're cooking with gas,\" he said. \"Tell me more.\"\n",
    "\"\"\"\n",
    "\n",
    "# Count tokens using the tokenizer\n",
    "tokens = tokenizer.encode(test_story)\n",
    "num_tokens = len(tokens)\n",
    "\n",
    "print(f\"Test story loaded: {len(test_story)} characters\")\n",
    "print(f\"Number of tokens: {num_tokens}\")\n",
    "print(f\"Average characters per token: {len(test_story)/num_tokens:.1f}\")"
   ]
  },
  {
   "cell_type": "markdown",
   "metadata": {
    "id": "d0VmmtpcYaF0"
   },
   "source": [
    "# ✂️ Chunk the Text\n",
    "\n",
    "Translation models work best with short segments. We'll break the document into smaller sentence-based chunks.\n",
    "\n",
    "**Why sentence-level chunking?**\n",
    "- **Better quality**: Each sentence gets focused translation attention\n",
    "- **Easier evaluation**: Compare translations sentence by sentence\n",
    "- **No cutoffs**: Complete thoughts translate more accurately than partial ones\n",
    "- **Educational value**: We can see exactly where translation succeeds or fails"
   ]
  },
  {
   "cell_type": "code",
   "execution_count": null,
   "metadata": {
    "colab": {
     "base_uri": "https://localhost:8080/",
     "height": 243
    },
    "id": "Q2T8zGogYVSr",
    "outputId": "7e6745db-ef96-40b5-d3da-c46e2cfc28ce"
   },
   "outputs": [
    {
     "name": "stdout",
     "output_type": "stream",
     "text": [
      "Created 23 sentences\n",
      "Sentence 1: On March 15th, 2024, Sarah Johnson received an email that would change her life forever.\n",
      "\n",
      "Sentence 2: The subject line read: \"Congratulations!\n",
      "\n",
      "Sentence 3: You've been selected for TechVenture Accelerator 2024.\"\n",
      "\n",
      "Sarah couldn't believe her eyes.\n",
      "\n",
      "Sentence 4: After 3.5 years of working as a software engineer at DataCorp Inc., earning $95,750 annually, she was finally getting her shot at the big leagues.\n",
      "\n",
      "Sentence 5: Her startup idea, \"SmartHome AI,\" had caught the attention of investors.\n",
      "\n"
     ]
    }
   ],
   "source": [
    "# Simple sentence-based chunking for better translation quality\n",
    "import re\n",
    "\n",
    "def split_by_sentences(text):\n",
    "    # Split on sentence endings, keep the punctuation\n",
    "    sentences = re.split(r'(?<=[.!?])\\s+', text.strip())\n",
    "    # Return only non-empty sentences\n",
    "    return [s.strip() for s in sentences if s.strip()]\n",
    "\n",
    "# Create sentence-level chunks instead of arbitrary length chunks\n",
    "sentence_chunks = split_by_sentences(test_story)\n",
    "\n",
    "print(f\"Created {len(sentence_chunks)} sentences\")\n",
    "# Preview first 5 sentences to see our chunking results\n",
    "for i, sentence in enumerate(sentence_chunks[:5]):\n",
    "    print(f\"Sentence {i+1}: {sentence}\")\n",
    "    print()"
   ]
  },
  {
   "cell_type": "markdown",
   "metadata": {
    "id": "f2xK4i-PYv3C"
   },
   "source": [
    "### 🧠 Define Translation Function\n",
    "\n",
    "This function will translate an **English sentence into Arabic** using a pre-trained transformer model (such as `MarianMT`, `M2M100`, or similar).\n",
    "\n",
    "---\n",
    "\n",
    "#### 🔍 Function Description:\n",
    "\n",
    "The `translate` function performs the following steps:\n",
    "\n",
    "1. **Tokenizes** the input English text using the model's tokenizer.\n",
    "2. **Generates** an Arabic translation using the `generate()` method.\n",
    "3. **Decodes** the model output token IDs into human-readable Arabic text.\n",
    "\n",
    "---\n",
    "\n",
    "#### 🛠️ Generation Parameters Explained:\n",
    "\n",
    "- `max_new_tokens=300`: Limits the number of tokens to generate.\n",
    "- `num_beams=5`: Uses beam search with 5 beams to enhance translation quality.\n",
    "- `do_sample=True`: Enables sampling instead of greedy decoding.\n",
    "- `top_k=50`: Limits sampling to the top 50 token options at each step.\n",
    "- `top_p=0.95`: Applies nucleus sampling (only sample from the smallest set whose cumulative probability ≥ 0.95).\n",
    "- `temperature=0.8`: Controls randomness in predictions (lower is more conservative).\n",
    "- `early_stopping=True`: Stops generation when the best output is likely reached.\n",
    "\n",
    "These parameters can be tuned for a balance between **translation accuracy** and **generation diversity**.\n"
   ]
  },
  {
   "cell_type": "code",
   "execution_count": null,
   "metadata": {
    "id": "9SfVoQqyYj8T"
   },
   "outputs": [],
   "source": [
    "def translate(text):\n",
    "    # Tokenize the input English sentence\n",
    "    inputs = tokenizer(\n",
    "        text,\n",
    "        return_tensors=\"pt\",\n",
    "        truncation=True,\n",
    "        padding=True,\n",
    "        max_length=512\n",
    "    )\n",
    "\n",
    "    # Generate Arabic translation with advanced decoding strategies\n",
    "    outputs = model.generate(\n",
    "        **inputs,\n",
    "        max_new_tokens=300,      # Limit on new tokens to generate\n",
    "        num_beams=5,             # Beam search with 5 beams for better translation\n",
    "        do_sample=True,          # Enable sampling (useful for diversity)\n",
    "        top_k=50,                # Top-k sampling\n",
    "        top_p=0.95,              # Nucleus sampling\n",
    "        temperature=0.8,         # Lower temp = more deterministic output\n",
    "        early_stopping=True      # Stop early when best translation is likely found\n",
    "    )\n",
    "\n",
    "    # Decode output token IDs into Arabic text\n",
    "    return tokenizer.decode(outputs[0], skip_special_tokens=True)\n"
   ]
  },
  {
   "cell_type": "markdown",
   "metadata": {
    "id": "mlUf_Sb6Yy2s"
   },
   "source": [
    "### 🔄 Translate All Chunks\n",
    "\n",
    "We’ll translate each **text chunk** (from English to Arabic) and collect the results in a list.\n",
    "\n",
    "This is useful when working with large inputs that have been pre-split into smaller segments (e.g., paragraphs, sentences, or token chunks). Each chunk will be translated individually, and a progress bar will show the translation progress using `tqdm`.\n",
    "\n",
    "---\n",
    "\n",
    "#### 🧠 Why Chunking?\n",
    "\n",
    "Translation models often have a token limit (e.g., 512 tokens), so chunking helps:\n",
    "- Avoid truncation or cutoff.\n",
    "- Improve translation quality.\n",
    "- Enable batch processing and progress tracking."
   ]
  },
  {
   "cell_type": "code",
   "execution_count": null,
   "metadata": {
    "colab": {
     "base_uri": "https://localhost:8080/",
     "height": 451
    },
    "id": "VGNEfHLQYxV7",
    "outputId": "4303c4fe-6af4-429e-97a2-52443aa4f9df"
   },
   "outputs": [
    {
     "name": "stderr",
     "output_type": "stream",
     "text": [
      "\n",
      "Translating chunks:   0%|          | 0/23 [00:00<?, ?it/s]\u001b[A\n",
      "Translating chunks:   4%|▍         | 1/23 [00:05<01:55,  5.24s/it]\u001b[A\n",
      "Translating chunks:   9%|▊         | 2/23 [00:06<01:01,  2.92s/it]\u001b[A\n",
      "Translating chunks:  13%|█▎        | 3/23 [00:09<00:59,  2.97s/it]\u001b[A\n",
      "Translating chunks:  17%|█▋        | 4/23 [00:12<00:53,  2.84s/it]\u001b[A\n",
      "Translating chunks:  22%|██▏       | 5/23 [00:13<00:41,  2.31s/it]\u001b[A\n",
      "Translating chunks:  26%|██▌       | 6/23 [00:15<00:35,  2.11s/it]\u001b[A\n",
      "Translating chunks:  30%|███       | 7/23 [00:16<00:27,  1.69s/it]\u001b[A\n",
      "Translating chunks:  35%|███▍      | 8/23 [00:19<00:31,  2.11s/it]\u001b[A\n",
      "Translating chunks:  39%|███▉      | 9/23 [00:20<00:25,  1.80s/it]\u001b[A\n",
      "Translating chunks:  43%|████▎     | 10/23 [00:22<00:23,  1.83s/it]\u001b[A\n",
      "Translating chunks:  48%|████▊     | 11/23 [00:25<00:26,  2.17s/it]\u001b[A\n",
      "Translating chunks:  52%|█████▏    | 12/23 [00:25<00:18,  1.68s/it]\u001b[A\n",
      "Translating chunks:  57%|█████▋    | 13/23 [00:26<00:15,  1.56s/it]\u001b[A\n",
      "Translating chunks:  61%|██████    | 14/23 [00:28<00:12,  1.42s/it]\u001b[A\n",
      "Translating chunks:  65%|██████▌   | 15/23 [00:28<00:09,  1.24s/it]\u001b[A\n",
      "Translating chunks:  70%|██████▉   | 16/23 [00:29<00:07,  1.02s/it]\u001b[A\n",
      "Translating chunks:  74%|███████▍  | 17/23 [00:29<00:04,  1.23it/s]\u001b[A\n",
      "Translating chunks:  78%|███████▊  | 18/23 [00:30<00:04,  1.20it/s]\u001b[A\n",
      "Translating chunks:  83%|████████▎ | 19/23 [00:31<00:02,  1.39it/s]\u001b[A\n",
      "Translating chunks:  87%|████████▋ | 20/23 [00:32<00:03,  1.03s/it]\u001b[A\n",
      "Translating chunks:  91%|█████████▏| 21/23 [00:34<00:02,  1.10s/it]\u001b[A\n",
      "Translating chunks:  96%|█████████▌| 22/23 [00:34<00:01,  1.03s/it]\u001b[A\n",
      "Translating chunks: 100%|██████████| 23/23 [00:35<00:00,  1.54s/it]\n"
     ]
    }
   ],
   "source": [
    "# Translate each chunk and show progress bar\n",
    "translations = [translate(chunk) for chunk in tqdm(sentence_chunks, desc=\"Translating chunks\")]"
   ]
  },
  {
   "cell_type": "markdown",
   "metadata": {
    "id": "r7LcBFeiY58m"
   },
   "source": [
    "### 📄 Translated Document (Arabic)\n",
    "\n",
    "Let’s view the translated version of the full document. This cell prints each original English chunk alongside its Arabic translation in a readable format.\n",
    "\n",
    "---\n",
    "\n",
    "#### 📝 What This Does:\n",
    "\n",
    "- Neatly formats the output for each translated chunk.\n",
    "- Labels each section to show which chunk is being printed.\n",
    "- Helps with debugging or manual inspection of translations.\n",
    "- Shows both original and translated texts for easy comparison.\n",
    "\n",
    "---\n",
    "\n",
    "#### 📌 Example Output:\n",
    "\n",
    "```\n",
    "==================================================\n",
    "TRANSLATION RESULTS\n",
    "==================================================\n",
    "\n",
    "--- Chunk 1 ---\n",
    "Original: This is an example.\n",
    "Arabic: هذا مثال.\n",
    "------------------------------\n",
    "```\n"
   ]
  },
  {
   "cell_type": "code",
   "execution_count": null,
   "metadata": {
    "colab": {
     "base_uri": "https://localhost:8080/"
    },
    "id": "i1TukUH2Y1Ni",
    "outputId": "8ff5fc3b-e04e-49bb-b4c3-5d0e7e667b94"
   },
   "outputs": [
    {
     "name": "stdout",
     "output_type": "stream",
     "text": [
      "\n",
      "==================================================\n",
      "TRANSLATION RESULTS\n",
      "==================================================\n",
      "\n",
      "--- Chunk 1 ---\n",
      "Original: On March 15th, 2024, Sarah Johnson received an email that would change her life forever.\n",
      "Arabic: في 15 مارس 2024، تلقت سارة جونسون رسالة إلكترونية من شأنها أن تغير حياتها إلى الأبد.\n",
      "------------------------------\n",
      "\n",
      "--- Chunk 2 ---\n",
      "Original: The subject line read: \"Congratulations!\n",
      "Arabic: وفيما يلي نص الموضوع: \"تهانينا!\n",
      "------------------------------\n",
      "\n",
      "--- Chunk 3 ---\n",
      "Original: You've been selected for TechVenture Accelerator 2024.\"\n",
      "\n",
      "Sarah couldn't believe her eyes.\n",
      "Arabic: تم اختيارك لتقنية \"التكنلوجيا\" Acelerator 2024 \"سارة\" لم تصدق عينيها\n",
      "------------------------------\n",
      "\n",
      "--- Chunk 4 ---\n",
      "Original: After 3.5 years of working as a software engineer at DataCorp Inc., earning $95,750 annually, she was finally getting her shot at the big leagues.\n",
      "Arabic: بعد 3.5 سنوات من العمل كمهندس برامج في شركة DataCorp Inc.، كسبت 95.5 750 دولار سنويا،\n",
      "------------------------------\n",
      "\n",
      "--- Chunk 5 ---\n",
      "Original: Her startup idea, \"SmartHome AI,\" had caught the attention of investors.\n",
      "Arabic: فكرة تأسيسها، \"SmartHome AI\" كانت قد لفتت انتباه المستثمرين.\n",
      "------------------------------\n",
      "\n",
      "--- Chunk 6 ---\n",
      "Original: \"Break a leg at the presentation!\" texted her best friend Mike at 9:30 AM.\n",
      "Arabic: \"أوقع ساق في العرض\" نص صديقها المفضل مايك في 9: 30 صباحا.\n",
      "------------------------------\n",
      "\n",
      "--- Chunk 7 ---\n",
      "Original: The accelerator program was no joke.\n",
      "Arabic: برنامج التسارع لم يكن مزحه\n",
      "------------------------------\n",
      "\n",
      "--- Chunk 8 ---\n",
      "Original: Sarah had to pitch to 50+ investors, including billionaire tech mogul Robert Chen III, who was known for being tougher than nails.\n",
      "Arabic: كان على (سارة) أن تقدم إلى 50 مستثمراً متقدماً، بما في ذلك ملياردير التكنولوجيا Mogul Robert Chin III، الذي كان معروفاً بكونه أقوى من الأظافر.\n",
      "------------------------------\n",
      "\n",
      "--- Chunk 9 ---\n",
      "Original: The stakes were high: $2.5 million in seed funding was on the line.\n",
      "Arabic: وكانت المخاطر كبيرة: فهناك 2.5 مليون دولار في شكل تمويل ابتدائي على المحك.\n",
      "------------------------------\n",
      "\n",
      "--- Chunk 10 ---\n",
      "Original: Sarah's presentation went like this: \"Ladies and gentlemen, imagine a world where your home knows you better than you know yourself.\n",
      "Arabic: عرض (سارة) كان مثل: \"سيداتي وسادتي، تخيلوا عالماً حيث يعرفكم منزلكم أفضل مما تعرفون أنفسكم.\n",
      "------------------------------\n",
      "\n",
      "--- Chunk 11 ---\n",
      "Original: Our AI can predict when you'll arrive home with 97.3% accuracy, adjust the temperature to exactly 72.5°F, and even order groceries before you run out.\"\n",
      "\n",
      "The room was dead silent.\n",
      "Arabic: يمكن لـ AIنا أن يتنبأ عندما تصل إلى المنزل مع 97.3٪ دقة، تعديل درجة الحرارة إلى بالضبط 72.5 درجة فئران، وحتى طلب البقالة قبل أن تنفذ.\" الغرفة كانت صامتة تماما.\n",
      "------------------------------\n",
      "\n",
      "--- Chunk 12 ---\n",
      "Original: Then Robert Chen stood up.\n",
      "Arabic: ثم وقف (روبرت تشين)\n",
      "------------------------------\n",
      "\n",
      "--- Chunk 13 ---\n",
      "Original: \"That's a piece of cake for any decent ML engineer,\" he said.\n",
      "Arabic: قال: \"هذه قطعة من الكعكة لأي مهندس ماجستير محترم\"\n",
      "------------------------------\n",
      "\n",
      "--- Chunk 14 ---\n",
      "Original: \"What makes you different?\"\n",
      "\n",
      "Sarah's heart sank.\n",
      "Arabic: \"ما الذي يجعلك مختلفة؟\" قلب سارة غرق.\n",
      "------------------------------\n",
      "\n",
      "--- Chunk 15 ---\n",
      "Original: She felt like she was between a rock and a hard place.\n",
      "Arabic: شعرت وكأنها كانت بين صخرة ومكان صعب.\n",
      "------------------------------\n",
      "\n",
      "--- Chunk 16 ---\n",
      "Original: But then she remembered her secret weapon.\n",
      "Arabic: ثم تذكرت سلاحها السري\n",
      "------------------------------\n",
      "\n",
      "--- Chunk 17 ---\n",
      "Original: \"Mr.\n",
      "Arabic: \" .\n",
      "------------------------------\n",
      "\n",
      "--- Chunk 18 ---\n",
      "Original: Chen,\" she said, \"our AI doesn't just learn patterns.\n",
      "Arabic: شين، قالت، \"معرفتنا لا تتعلم فقط الأنماط.\n",
      "------------------------------\n",
      "\n",
      "--- Chunk 19 ---\n",
      "Original: It understands context.\n",
      "Arabic: وهو يفهم السياق.\n",
      "------------------------------\n",
      "\n",
      "--- Chunk 20 ---\n",
      "Original: When my grandmother, who's 84 years old, visits every Sunday at 2:00 PM, the system knows to prepare her favorite chamomile tea and lower the music volume.\n",
      "Arabic: عندما جدتي، التي تبلغ من العمر 84 سنة، تقوم بزيارة كل أحد في الثانية مساءً، النظام يعرف إعداد الشاي المفضل لها\n",
      "------------------------------\n",
      "\n",
      "--- Chunk 21 ---\n",
      "Original: It's not just smart - it's thoughtful.\"\n",
      "\n",
      "Robert's expression softened.\n",
      "Arabic: ليس فقط ذكياً، بل مدروساً، تعبير (روبرت) مخفف\n",
      "------------------------------\n",
      "\n",
      "--- Chunk 22 ---\n",
      "Original: \"Now you're cooking with gas,\" he said.\n",
      "Arabic: \"الآن أنت تطبخ مع الغاز\" ، وقال.\n",
      "------------------------------\n",
      "\n",
      "--- Chunk 23 ---\n",
      "Original: \"Tell me more.\"\n",
      "Arabic: \"أخبريني أكثر\"\n",
      "------------------------------\n"
     ]
    }
   ],
   "source": [
    "# Print formatted translation results for the full document\n",
    "print(\"\\n\" + \"=\"*50)\n",
    "print(\"TRANSLATION RESULTS\")\n",
    "print(\"=\"*50)\n",
    "\n",
    "for i, (original, translation) in enumerate(zip(sentence_chunks, translations)):\n",
    "    print(f\"\\n--- Chunk {i+1} ---\")\n",
    "    print(f\"Original: {original}\")\n",
    "    print(f\"Arabic: {translation}\")\n",
    "    print(\"-\" * 30)\n"
   ]
  },
  {
   "cell_type": "markdown",
   "metadata": {
    "id": "76VazReHbnjX"
   },
   "source": [
    "### ✏️ BLEU Score Evaluation\n",
    "\n",
    "To measure the quality of our translations, we'll use the **BLEU score** (Bilingual Evaluation Understudy).\n",
    "\n",
    "---\n",
    "\n",
    "#### 🔍 What is BLEU?\n",
    "\n",
    "- **BLEU** compares the machine-generated translation with a human reference.\n",
    "- It evaluates the **precision of n-gram overlaps** between the two texts.\n",
    "- **Higher BLEU scores** (closer to 1.0) mean a closer match to the reference translation.\n",
    "- BLEU is widely used for evaluating translation tasks in NLP.\n",
    "\n",
    "---\n",
    "\n",
    "#### 📌 Key Points:\n",
    "\n",
    "- A perfect translation gets a BLEU score of 1.0.\n",
    "- A poor translation may get a score closer to 0.\n",
    "- BLEU is **case-sensitive** and often needs **smoothing** for short sentences.\n",
    "\n",
    "---\n",
    "\n",
    "We'll use **NLTK**'s `sentence_bleu()` method and apply a smoothing function to avoid zero scores on short sentences.\n"
   ]
  },
  {
   "cell_type": "code",
   "execution_count": null,
   "metadata": {
    "colab": {
     "base_uri": "https://localhost:8080/"
    },
    "id": "YZiqaGEiY7ud",
    "outputId": "63e38acc-b34f-485b-8655-5117a34e7294"
   },
   "outputs": [
    {
     "name": "stderr",
     "output_type": "stream",
     "text": [
      "[nltk_data] Downloading package punkt to /root/nltk_data...\n",
      "[nltk_data]   Unzipping tokenizers/punkt.zip.\n"
     ]
    },
    {
     "data": {
      "text/plain": [
       "True"
      ]
     },
     "execution_count": 9,
     "metadata": {},
     "output_type": "execute_result"
    }
   ],
   "source": [
    "# Import BLEU score tools from NLTK\n",
    "import nltk\n",
    "from nltk.translate.bleu_score import sentence_bleu, SmoothingFunction\n",
    "\n",
    "# Download required tokenizer data for NLTK (used internally by some BLEU functions)\n",
    "nltk.download(\"punkt\")\n"
   ]
  },
  {
   "cell_type": "markdown",
   "metadata": {
    "id": "QQ4jDHB_bvhL"
   },
   "source": [
    "### 📖 Reference Arabic Translations\n",
    "\n",
    "Here we define **reference translations** for the first few English chunks.  \n",
    "These are **human-curated** Arabic translations that serve as the **ground truth** when evaluating translation quality using BLEU or other metrics.\n",
    "\n",
    "---\n",
    "\n",
    "#### 📝 Why Are References Needed?\n",
    "\n",
    "- BLEU score works by comparing model-generated output with a human reference.\n",
    "- Accurate reference translations help measure how close the machine translation is to native-quality output.\n",
    "- These references usually come from professional translators or trusted bilingual speakers.\n",
    "\n",
    "---\n",
    "\n",
    "#### ✅ Notes:\n",
    "- Ensure each reference matches the corresponding English chunk in order.\n",
    "- The structure should be a list of Arabic strings (`sentence_references`), aligned index-wise with your `sentence_chunks`.\n"
   ]
  },
  {
   "cell_type": "code",
   "execution_count": null,
   "metadata": {
    "id": "_kR2_1aebpwt"
   },
   "outputs": [],
   "source": [
    "sentence_references = [\n",
    "   # 1\n",
    "   'في 15 مارس 2024، تلقت سارة جونسون رسالة بريد إلكتروني من شأنها أن تغير حياتها إلى الأبد.',\n",
    "\n",
    "   # 2\n",
    "   'كان عنوان الرسالة يقول: \"تهانينا!',\n",
    "\n",
    "   # 3\n",
    "   'لقد تم اختيارك لبرنامج TechVenture Accelerator 2024.\" لم تصدق سارة عينيها.',\n",
    "\n",
    "   # 4\n",
    "   'بعد 3.5 سنوات من العمل كمهندسة برمجيات في شركة DataCorp Inc.، وكسب 95,750 دولار سنوياً، كانت تحصل أخيراً على فرصتها في الدوري الكبير.',\n",
    "\n",
    "   # 5\n",
    "   'فكرة شركتها الناشئة \"SmartHome AI\" قد جذبت انتباه المستثمرين.',\n",
    "\n",
    "   # 6\n",
    "   'أرسل لها أفضل أصدقائها مايك رسالة نصية في الساعة 9:30 صباحاً قائلاً: \"حظاً موفقاً في العرض التقديمي!\"',\n",
    "\n",
    "   # 7\n",
    "   'لم يكن برنامج المسرّع مزحة.',\n",
    "\n",
    "   # 8\n",
    "   'كان على سارة أن تقدم عرضها أمام أكثر من 50 مستثمر، بما في ذلك المليardير في مجال التكنولوجيا روبرت تشن الثالث، الذي كان معروفاً بصرامته الشديدة.',\n",
    "\n",
    "   # 9\n",
    "   'كانت المخاطر عالية: 2.5 مليون دولار من التمويل الأولي كان على المحك.',\n",
    "\n",
    "   # 10\n",
    "   'جاء عرض سارة التقديمي كما يلي: \"سيداتي وسادتي، تخيلوا عالماً حيث منزلكم يعرفكم أفضل مما تعرفون أنفسكم.',\n",
    "\n",
    "   # 11\n",
    "   'ذكاؤنا الاصطناعي يمكنه التنبؤ بموعد وصولكم للمنزل بدقة 97.3%، وضبط درجة الحرارة إلى 72.5 فهرنهايت بالضبط، وحتى طلب البقالة قبل نفادها.\" ساد الصمت التام في القاعة.',\n",
    "\n",
    "   # 12\n",
    "   'ثم وقف روبرت تشن.',\n",
    "\n",
    "   # 13\n",
    "   'قال: \"هذا أمر سهل جداً لأي مهندس تعلم آلي محترم.\"',\n",
    "\n",
    "   # 14\n",
    "   '\"ما الذي يجعلك مختلفة؟\" انقبض قلب سارة.',\n",
    "\n",
    "   # 15\n",
    "   'شعرت وكأنها في موقف صعب للغاية.',\n",
    "\n",
    "   # 16\n",
    "   'لكنها تذكرت سلاحها السري.',\n",
    "\n",
    "   # 17\n",
    "   '\"سيد',\n",
    "\n",
    "   # 18\n",
    "   'تشن،\" قالت، \"ذكاؤنا الاصطناعي لا يتعلم الأنماط فحسب.',\n",
    "\n",
    "   # 19\n",
    "   'إنه يفهم السياق.',\n",
    "\n",
    "   # 20\n",
    "   'عندما تزورني جدتي، البالغة من العمر 84 عاماً، كل يوم أحد في الساعة 2:00 مساءً، يعرف النظام أن يحضر لها شاي البابونج المفضل ويخفض مستوى الموسيقى.',\n",
    "\n",
    "   # 21\n",
    "   'إنه ليس ذكياً فحسب - بل مراعٍ أيضاً.\" تلين تعبير روبرت.',\n",
    "\n",
    "   # 22\n",
    "   'قال: \"الآن أنت تتقدمين بشكل ممتاز.\"',\n",
    "\n",
    "   # 23\n",
    "   '\"أخبريني المزيد.\"'\n",
    "]"
   ]
  },
  {
   "cell_type": "markdown",
   "metadata": {
    "id": "r0U4eg8cdOaI"
   },
   "source": [
    "### 🧮 BLEU Score Results\n",
    "\n",
    "We'll now compute the **BLEU score** for each translation chunk and display the **average BLEU score** for all chunks.\n",
    "\n",
    "---\n",
    "\n",
    "#### 🔢 How This Works:\n",
    "\n",
    "- This compares each **model-generated translation** to its **human reference** using `sentence_bleu()` from NLTK.\n",
    "- BLEU is calculated per chunk, and then the **average BLEU score** is printed.\n",
    "\n",
    "---\n",
    "\n",
    "#### 🧪 Key Implementation Details:\n",
    "\n",
    "- `SmoothingFunction().method4`: Used to avoid BLEU = 0 on short or partial outputs by applying smoothing.\n",
    "- `.split()`: Tokenizes both reference and hypothesis sentences by whitespace.\n",
    "- `min(...)`: Ensures we only compare as many pairs as exist in both reference and translation lists.\n",
    "- `bleu_scores`: A list to store all individual scores.\n",
    "- The final average is calculated and printed with 4 decimal points.\n",
    "\n",
    "---\n",
    "\n",
    "#### 📌 Output Example:\n",
    "\n",
    "```\n",
    "Chunk 1 BLEU score: 0.6231\n",
    "Chunk 2 BLEU score: 0.5512\n",
    "Chunk 3 BLEU score: 0.7310\n",
    "\n",
    "◆ Average BLEU score: 0.6351\n",
    "```\n"
   ]
  },
  {
   "cell_type": "code",
   "execution_count": null,
   "metadata": {
    "colab": {
     "base_uri": "https://localhost:8080/"
    },
    "id": "9SOPrMKMbyEw",
    "outputId": "52a0918f-dedb-4995-c9a2-f53ef604a69f"
   },
   "outputs": [
    {
     "name": "stdout",
     "output_type": "stream",
     "text": [
      "Calculating BLEU scores for 23 chunks...\n",
      "Chunk 1 BLEU score: 0.7660\n",
      "Chunk 2 BLEU score: 0.0456\n",
      "Chunk 3 BLEU score: 0.0729\n",
      "Chunk 4 BLEU score: 0.2542\n",
      "Chunk 5 BLEU score: 0.0989\n",
      "Chunk 6 BLEU score: 0.0174\n",
      "Chunk 7 BLEU score: 0.1341\n",
      "Chunk 8 BLEU score: 0.1090\n",
      "Chunk 9 BLEU score: 0.1281\n",
      "Chunk 10 BLEU score: 0.3876\n",
      "Chunk 11 BLEU score: 0.1162\n",
      "Chunk 12 BLEU score: 0.1682\n",
      "Chunk 13 BLEU score: 0.0626\n",
      "Chunk 14 BLEU score: 0.4347\n",
      "Chunk 15 BLEU score: 0.0819\n",
      "Chunk 16 BLEU score: 0.1682\n",
      "Chunk 17 BLEU score: 0.0000\n",
      "Chunk 18 BLEU score: 0.0334\n",
      "Chunk 19 BLEU score: 0.2118\n",
      "Chunk 20 BLEU score: 0.0751\n",
      "Chunk 21 BLEU score: 0.0259\n",
      "Chunk 22 BLEU score: 0.0819\n",
      "Chunk 23 BLEU score: 0.0675\n",
      "\n",
      "◆ Average BLEU score: 0.1540\n"
     ]
    }
   ],
   "source": [
    "# Use smoothing method to handle short sentences\n",
    "smoother = SmoothingFunction().method4\n",
    "bleu_scores = []\n",
    "\n",
    "# Compare only available chunks in both lists\n",
    "num_to_compare = min(len(translations), len(sentence_references))\n",
    "\n",
    "print(f\"Calculating BLEU scores for {num_to_compare} chunks...\")\n",
    "\n",
    "for i in range(num_to_compare):\n",
    "    # Tokenize both reference and translation sentences\n",
    "    reference_tokens = [sentence_references[i].split()]\n",
    "    hypothesis_tokens = translations[i].split()\n",
    "\n",
    "    # Calculate BLEU score with smoothing\n",
    "    score = sentence_bleu(reference_tokens, hypothesis_tokens, smoothing_function=smoother)\n",
    "    bleu_scores.append(score)\n",
    "\n",
    "    print(f\"Chunk {i+1} BLEU score: {score:.4f}\")\n",
    "\n",
    "# Display average BLEU score\n",
    "if bleu_scores:\n",
    "    avg_bleu = sum(bleu_scores) / len(bleu_scores)\n",
    "    print(f\"\\n◆ Average BLEU score: {avg_bleu:.4f}\")\n",
    "else:\n",
    "    print(\"No BLEU scores calculated\")\n"
   ]
  },
  {
   "cell_type": "markdown",
   "metadata": {
    "id": "vdenGw_m0e19"
   },
   "source": [
    "### 📊 BLEU Score Visualization\n",
    "\n",
    "This cell visualizes the BLEU scores computed for each translated chunk using a bar plot.\n",
    "\n",
    "---\n",
    "\n",
    "#### 🎯 Why Visualize?\n",
    "\n",
    "- Makes it easy to **compare translation quality across chunks**.\n",
    "- Highlights any **low-quality translations** that might need manual review.\n",
    "- Gives a quick glance at **translation consistency**.\n",
    "\n",
    "---\n",
    "\n",
    "#### 📈 Plot Features:\n",
    "\n",
    "- Each bar represents the BLEU score for a chunk.\n",
    "- The **average BLEU score** is shown in the title.\n",
    "- Each bar is labeled with its individual BLEU value (rounded to 3 decimal places).\n",
    "- Uses a light **skyblue** color with some transparency for visual clarity.\n",
    "- Grid lines help align values across bars.\n",
    "\n",
    "\n"
   ]
  },
  {
   "cell_type": "code",
   "execution_count": null,
   "metadata": {
    "colab": {
     "base_uri": "https://localhost:8080/",
     "height": 607
    },
    "id": "-wR9IuFJdQ6H",
    "outputId": "18f3999d-dc79-4bd0-e931-a1483c77fa91"
   },
   "outputs": [
    {
     "data": {
      "image/png": "[encoded data removed]",
      "text/plain": [
       "<Figure size 1200x600 with 1 Axes>"
      ]
     },
     "metadata": {},
     "output_type": "display_data"
    }
   ],
   "source": [
    "import matplotlib.pyplot as plt\n",
    "\n",
    "if bleu_scores:\n",
    "    plt.figure(figsize=(12, 6))\n",
    "    bars = plt.bar(range(1, len(bleu_scores)+1), bleu_scores, color=\"skyblue\", alpha=0.7)\n",
    "\n",
    "    # Add value labels on bars\n",
    "    for i, bar in enumerate(bars):\n",
    "        plt.text(bar.get_x() + bar.get_width()/2, bar.get_height() + 0.01,\n",
    "                f'{bleu_scores[i]:.3f}', ha='center', va='bottom')\n",
    "\n",
    "    plt.xlabel(\"Chunk Number\")\n",
    "    plt.ylabel(\"BLEU Score\")\n",
    "    plt.title(f\"BLEU Scores for Translated Chunks (Avg: {avg_bleu:.4f})\")\n",
    "    plt.ylim(0, max(bleu_scores) * 1.2 if bleu_scores else 1)\n",
    "    plt.grid(True, linestyle=\"--\", alpha=0.3)\n",
    "    plt.tight_layout()\n",
    "    plt.show()\n",
    "else:\n",
    "    print(\"No data to plot\")"
   ]
  },
  {
   "cell_type": "markdown",
   "metadata": {
    "id": "lAUN32gs051L"
   },
   "source": [
    "### 📑 Sentence-by-Sentence Comparison with BLEU Scores\n",
    "\n",
    "This section provides a **detailed comparison** for each sentence, showing:\n",
    "\n",
    "- The original English chunk\n",
    "- The **model-generated Arabic translation**\n",
    "- The **reference human translation**\n",
    "- The **BLEU score** for each pair\n",
    "\n",
    "---\n",
    "\n",
    "#### 🎯 Purpose:\n",
    "\n",
    "- Helps in evaluating the **quality of each translation individually**.\n",
    "- Useful for manual error analysis and debugging.\n",
    "- Enables insight into **which sentences scored well or poorly**, and why."
   ]
  },
  {
   "cell_type": "code",
   "execution_count": null,
   "metadata": {
    "colab": {
     "base_uri": "https://localhost:8080/"
    },
    "id": "wzHjjGuDibqY",
    "outputId": "1a4ba071-35d5-42e6-a66c-6e7e7e9463eb"
   },
   "outputs": [
    {
     "name": "stdout",
     "output_type": "stream",
     "text": [
      "================================================================================\n",
      "SENTENCE-BY-SENTENCE COMPARISON WITH BLEU SCORES\n",
      "================================================================================\n",
      "\n",
      "--- Sentence 1 (BLEU: 0.7660) ---\n",
      "English:    On March 15th, 2024, Sarah Johnson received an email that would change her life forever.\n",
      "Generated:  في 15 مارس 2024، تلقت سارة جونسون رسالة إلكترونية من شأنها أن تغير حياتها إلى الأبد.\n",
      "Reference:  في 15 مارس 2024، تلقت سارة جونسون رسالة بريد إلكتروني من شأنها أن تغير حياتها إلى الأبد.\n",
      "--------------------------------------------------\n",
      "\n",
      "--- Sentence 2 (BLEU: 0.0456) ---\n",
      "English:    The subject line read: \"Congratulations!\n",
      "Generated:  وفيما يلي نص الموضوع: \"تهانينا!\n",
      "Reference:  كان عنوان الرسالة يقول: \"تهانينا!\n",
      "--------------------------------------------------\n",
      "\n",
      "--- Sentence 3 (BLEU: 0.0729) ---\n",
      "English:    You've been selected for TechVenture Accelerator 2024.\"\n",
      "\n",
      "Sarah couldn't believe her eyes.\n",
      "Generated:  تم اختيارك لتقنية \"التكنلوجيا\" Acelerator 2024 \"سارة\" لم تصدق عينيها\n",
      "Reference:  لقد تم اختيارك لبرنامج TechVenture Accelerator 2024.\" لم تصدق سارة عينيها.\n",
      "--------------------------------------------------\n",
      "\n",
      "--- Sentence 4 (BLEU: 0.2542) ---\n",
      "English:    After 3.5 years of working as a software engineer at DataCorp Inc., earning $95,750 annually, she was finally getting her shot at the big leagues.\n",
      "Generated:  بعد 3.5 سنوات من العمل كمهندس برامج في شركة DataCorp Inc.، كسبت 95.5 750 دولار سنويا،\n",
      "Reference:  بعد 3.5 سنوات من العمل كمهندسة برمجيات في شركة DataCorp Inc.، وكسب 95,750 دولار سنوياً، كانت تحصل أخيراً على فرصتها في الدوري الكبير.\n",
      "--------------------------------------------------\n",
      "\n",
      "--- Sentence 5 (BLEU: 0.0989) ---\n",
      "English:    Her startup idea, \"SmartHome AI,\" had caught the attention of investors.\n",
      "Generated:  فكرة تأسيسها، \"SmartHome AI\" كانت قد لفتت انتباه المستثمرين.\n",
      "Reference:  فكرة شركتها الناشئة \"SmartHome AI\" قد جذبت انتباه المستثمرين.\n",
      "--------------------------------------------------\n",
      "\n",
      "--- Sentence 6 (BLEU: 0.0174) ---\n",
      "English:    \"Break a leg at the presentation!\" texted her best friend Mike at 9:30 AM.\n",
      "Generated:  \"أوقع ساق في العرض\" نص صديقها المفضل مايك في 9: 30 صباحا.\n",
      "Reference:  أرسل لها أفضل أصدقائها مايك رسالة نصية في الساعة 9:30 صباحاً قائلاً: \"حظاً موفقاً في العرض التقديمي!\"\n",
      "--------------------------------------------------\n",
      "\n",
      "--- Sentence 7 (BLEU: 0.1341) ---\n",
      "English:    The accelerator program was no joke.\n",
      "Generated:  برنامج التسارع لم يكن مزحه\n",
      "Reference:  لم يكن برنامج المسرّع مزحة.\n",
      "--------------------------------------------------\n",
      "\n",
      "--- Sentence 8 (BLEU: 0.1090) ---\n",
      "English:    Sarah had to pitch to 50+ investors, including billionaire tech mogul Robert Chen III, who was known for being tougher than nails.\n",
      "Generated:  كان على (سارة) أن تقدم إلى 50 مستثمراً متقدماً، بما في ذلك ملياردير التكنولوجيا Mogul Robert Chin III، الذي كان معروفاً بكونه أقوى من الأظافر.\n",
      "Reference:  كان على سارة أن تقدم عرضها أمام أكثر من 50 مستثمر، بما في ذلك المليardير في مجال التكنولوجيا روبرت تشن الثالث، الذي كان معروفاً بصرامته الشديدة.\n",
      "--------------------------------------------------\n",
      "\n",
      "--- Sentence 9 (BLEU: 0.1281) ---\n",
      "English:    The stakes were high: $2.5 million in seed funding was on the line.\n",
      "Generated:  وكانت المخاطر كبيرة: فهناك 2.5 مليون دولار في شكل تمويل ابتدائي على المحك.\n",
      "Reference:  كانت المخاطر عالية: 2.5 مليون دولار من التمويل الأولي كان على المحك.\n",
      "--------------------------------------------------\n",
      "\n",
      "--- Sentence 10 (BLEU: 0.3876) ---\n",
      "English:    Sarah's presentation went like this: \"Ladies and gentlemen, imagine a world where your home knows you better than you know yourself.\n",
      "Generated:  عرض (سارة) كان مثل: \"سيداتي وسادتي، تخيلوا عالماً حيث يعرفكم منزلكم أفضل مما تعرفون أنفسكم.\n",
      "Reference:  جاء عرض سارة التقديمي كما يلي: \"سيداتي وسادتي، تخيلوا عالماً حيث منزلكم يعرفكم أفضل مما تعرفون أنفسكم.\n",
      "--------------------------------------------------\n",
      "\n",
      "--- Sentence 11 (BLEU: 0.1162) ---\n",
      "English:    Our AI can predict when you'll arrive home with 97.3% accuracy, adjust the temperature to exactly 72.5°F, and even order groceries before you run out.\"\n",
      "\n",
      "The room was dead silent.\n",
      "Generated:  يمكن لـ AIنا أن يتنبأ عندما تصل إلى المنزل مع 97.3٪ دقة، تعديل درجة الحرارة إلى بالضبط 72.5 درجة فئران، وحتى طلب البقالة قبل أن تنفذ.\" الغرفة كانت صامتة تماما.\n",
      "Reference:  ذكاؤنا الاصطناعي يمكنه التنبؤ بموعد وصولكم للمنزل بدقة 97.3%، وضبط درجة الحرارة إلى 72.5 فهرنهايت بالضبط، وحتى طلب البقالة قبل نفادها.\" ساد الصمت التام في القاعة.\n",
      "--------------------------------------------------\n",
      "\n",
      "--- Sentence 12 (BLEU: 0.1682) ---\n",
      "English:    Then Robert Chen stood up.\n",
      "Generated:  ثم وقف (روبرت تشين)\n",
      "Reference:  ثم وقف روبرت تشن.\n",
      "--------------------------------------------------\n",
      "\n",
      "--- Sentence 13 (BLEU: 0.0626) ---\n",
      "English:    \"That's a piece of cake for any decent ML engineer,\" he said.\n",
      "Generated:  قال: \"هذه قطعة من الكعكة لأي مهندس ماجستير محترم\"\n",
      "Reference:  قال: \"هذا أمر سهل جداً لأي مهندس تعلم آلي محترم.\"\n",
      "--------------------------------------------------\n",
      "\n",
      "--- Sentence 14 (BLEU: 0.4347) ---\n",
      "English:    \"What makes you different?\"\n",
      "\n",
      "Sarah's heart sank.\n",
      "Generated:  \"ما الذي يجعلك مختلفة؟\" قلب سارة غرق.\n",
      "Reference:  \"ما الذي يجعلك مختلفة؟\" انقبض قلب سارة.\n",
      "--------------------------------------------------\n",
      "\n",
      "--- Sentence 15 (BLEU: 0.0819) ---\n",
      "English:    She felt like she was between a rock and a hard place.\n",
      "Generated:  شعرت وكأنها كانت بين صخرة ومكان صعب.\n",
      "Reference:  شعرت وكأنها في موقف صعب للغاية.\n",
      "--------------------------------------------------\n",
      "\n",
      "--- Sentence 16 (BLEU: 0.1682) ---\n",
      "English:    But then she remembered her secret weapon.\n",
      "Generated:  ثم تذكرت سلاحها السري\n",
      "Reference:  لكنها تذكرت سلاحها السري.\n",
      "--------------------------------------------------\n",
      "\n",
      "--- Sentence 17 (BLEU: 0.0000) ---\n",
      "English:    \"Mr.\n",
      "Generated:  \" .\n",
      "Reference:  \"سيد\n",
      "--------------------------------------------------\n",
      "\n",
      "--- Sentence 18 (BLEU: 0.0334) ---\n",
      "English:    Chen,\" she said, \"our AI doesn't just learn patterns.\n",
      "Generated:  شين، قالت، \"معرفتنا لا تتعلم فقط الأنماط.\n",
      "Reference:  تشن،\" قالت، \"ذكاؤنا الاصطناعي لا يتعلم الأنماط فحسب.\n",
      "--------------------------------------------------\n",
      "\n",
      "--- Sentence 19 (BLEU: 0.2118) ---\n",
      "English:    It understands context.\n",
      "Generated:  وهو يفهم السياق.\n",
      "Reference:  إنه يفهم السياق.\n",
      "--------------------------------------------------\n",
      "\n",
      "--- Sentence 20 (BLEU: 0.0751) ---\n",
      "English:    When my grandmother, who's 84 years old, visits every Sunday at 2:00 PM, the system knows to prepare her favorite chamomile tea and lower the music volume.\n",
      "Generated:  عندما جدتي، التي تبلغ من العمر 84 سنة، تقوم بزيارة كل أحد في الثانية مساءً، النظام يعرف إعداد الشاي المفضل لها\n",
      "Reference:  عندما تزورني جدتي، البالغة من العمر 84 عاماً، كل يوم أحد في الساعة 2:00 مساءً، يعرف النظام أن يحضر لها شاي البابونج المفضل ويخفض مستوى الموسيقى.\n",
      "--------------------------------------------------\n",
      "\n",
      "--- Sentence 21 (BLEU: 0.0259) ---\n",
      "English:    It's not just smart - it's thoughtful.\"\n",
      "\n",
      "Robert's expression softened.\n",
      "Generated:  ليس فقط ذكياً، بل مدروساً، تعبير (روبرت) مخفف\n",
      "Reference:  إنه ليس ذكياً فحسب - بل مراعٍ أيضاً.\" تلين تعبير روبرت.\n",
      "--------------------------------------------------\n",
      "\n",
      "--- Sentence 22 (BLEU: 0.0819) ---\n",
      "English:    \"Now you're cooking with gas,\" he said.\n",
      "Generated:  \"الآن أنت تطبخ مع الغاز\" ، وقال.\n",
      "Reference:  قال: \"الآن أنت تتقدمين بشكل ممتاز.\"\n",
      "--------------------------------------------------\n",
      "\n",
      "--- Sentence 23 (BLEU: 0.0675) ---\n",
      "English:    \"Tell me more.\"\n",
      "Generated:  \"أخبريني أكثر\"\n",
      "Reference:  \"أخبريني المزيد.\"\n",
      "--------------------------------------------------\n"
     ]
    }
   ],
   "source": [
    "# Print visual header for the comparison\n",
    "print(\"=\" * 80)\n",
    "print(\"SENTENCE-BY-SENTENCE COMPARISON WITH BLEU SCORES\")\n",
    "print(\"=\" * 80)\n",
    "\n",
    "# Loop through all sentence chunks and compare each\n",
    "for i in range(len(sentence_chunks)):\n",
    "    # Calculate BLEU for this sentence\n",
    "    ref = [sentence_references[i].split()]         # Tokenized reference as a list of lists\n",
    "    hyp = translations[i].split()                  # Tokenized model-generated hypothesis\n",
    "    bleu_score = sentence_bleu(ref, hyp, smoothing_function=smoother)\n",
    "\n",
    "    # Print detailed output\n",
    "    print(f\"\\n--- Sentence {i+1} (BLEU: {bleu_score:.4f}) ---\")\n",
    "    print(f\"English:    {sentence_chunks[i]}\")\n",
    "    print(f\"Generated:  {translations[i]}\")\n",
    "    print(f\"Reference:  {sentence_references[i]}\")\n",
    "    print(\"-\" * 50)\n"
   ]
  },
  {
   "cell_type": "markdown",
   "metadata": {
    "id": "hKjTMW2Aels8"
   },
   "source": [
    "### 🔄 Model Comparison: Different Translation Models\n",
    "\n",
    "Let’s compare the quality of translations generated by **two different models**:\n",
    "\n",
    "- **`Helsinki-NLP/opus-mt-en-ar`**: A strong, traditional model trained specifically for English → Arabic translation.\n",
    "- **`facebook/nllb-200-distilled-600M`**: A multilingual model from Meta’s NLLB project that supports 200+ languages.\n",
    "\n",
    "---\n",
    "\n",
    "#### 🧪 Objective:\n",
    "\n",
    "We'll translate the **same English chunks** using both models and compute **BLEU scores** for each to evaluate performance.\n",
    "\n",
    "---\n",
    "\n",
    "#### ⚙️ Next Steps:\n",
    "\n",
    "1. Load both models and tokenizers.\n",
    "2. Define a translation function for each.\n",
    "3. Translate all chunks with both models.\n",
    "4. Compute BLEU scores and compare results.\n"
   ]
  },
  {
   "cell_type": "code",
   "execution_count": null,
   "metadata": {
    "colab": {
     "base_uri": "https://localhost:8080/",
     "height": 273,
     "referenced_widgets": [
      "c6a60c0c19d6493389e6a2b89069bf3f",
      "f1764708871b4fdb9b6c5c3ee02ba58f",
      "01e051b4477b4ac487ae709db3e37d88",
      "8977afb0f3d34cb29cddc2a8aeeeafed",
      "11b2470d1a5944368e54fc1bb85ea0d8",
      "79b7a42671dc4fcd9d34643811f86b50",
      "706cba24ca854ea092aded8a20bd1e71",
      "0b187d2d1016433197266328c6fd1c8c",
      "b286a427130b47b5953a9e44de29623f",
      "9a9212749f4145369358ea8330a67d3d",
      "00258a359e9041329335662e165e5014",
      "f66e2aed3b494902b9a9eec96f7fe4b3",
      "aa76a05c18e94b09a868176b8b93928d",
      "9bba14b7ee4d406ba129805ac989732b",
      "aa1873dc539c451597ea610d4f0c6a49",
      "1b18dabb1ad04c3a9de24f92cdb389b8",
      "a0cfe9d0a49847afa3323d8ef32ffb89",
      "f81afc46272e4a6492dfd797d1ae1ecc",
      "c76aa2c2de4b4b25ae0e2ff64e4b8fca",
      "5004257afd5340f5af7c8b35c0f3a4f6",
      "6870de66cd4f4a65b2830f25208dc696",
      "a5a2628f630f4b8ba97fe6af7b61bda8",
      "68186e5f42144c0197e954aec849db59",
      "a4d25694d50240379d42b1c19ced1434",
      "fd44ab9db5934c2bb9db93890979cb7a",
      "eb7b7394db884ab2aeb512dba7b67510",
      "ce6300ccaf0b484bada175745931579b",
      "c2d064693fb94bee9d1470abfac3c708",
      "ae0a10e898f74297bde2610106d3f205",
      "84321dfb9dab497e92e48018647cc1c5",
      "fd658a4b2f314f30894bb610296299d0",
      "1c964d2065bd409bb62505729250a3aa",
      "07a780cecfe347d18cab4e32d3399152",
      "3475e806961c487b9331434531105645",
      "7807715c70d14c7bbad5600791ab5784",
      "bfac3bf1fe3e4a4c8e53acfcba3b8452",
      "c95ab5c370414e4ca2a8d81879a4f6a1",
      "3244951d972545179a8b8a2257ebb54c",
      "8db40e9d3dea476f9059972e125cd300",
      "6cfdb4945ab945e1911cd33ffd4a1923",
      "d55f529524dc4e83b854b656e5ddb43c",
      "1aa44eea204541bda591811ee56f35e1",
      "c6a1c07a6fb34dfcb4bf41ce31d5ae49",
      "9590bde3456d43fa9dbaac6b33244630",
      "ca7040a5238b4f69a114debcb3a087a7",
      "99eae6028c32453cbcea062df8e60ed1",
      "e9ed7fbeceea4d8aa8505d6273dda54e",
      "0842ee8f7b4643a68fb164afec0ded16",
      "e3cd4b0060154f8980fbf8887fe75712",
      "67c1a9a630264f48a2acfc6051d45e79",
      "661f86c73c334ab7a749836ecae5ce9d",
      "e3313cdc5c12482aace9d98ee9572110",
      "3e409f8746794a86a1b3956adcdd8a3d",
      "f4e78508c26440fea514998954af4d77",
      "aa70a6eaf22b490b933f8075aca9cde3",
      "a8e27dd0fd804141a2c2aa3a51949306",
      "d42eb6d091ed4a77a2b5094ce1245039",
      "48817aa1182d42d99db0cfd42ed74508",
      "4ad3f4847c12418cb58153aa48c28364",
      "d568737e6c8d48be9c9ef85d7db8c411",
      "5b31be4b5061495cb8541a48b71fb06a",
      "dca8997a4eba4869ad9103b0707dbeb1",
      "e91868351fdc4265b57f7bdfdfed8337",
      "3373bbb2d0bd4c479fd16c8d05c33d74",
      "962733bde6b84af5a0aaea5a91b91f15",
      "e0b68bc2fa9e4b47873ddae0ae58f451",
      "a8df96f3dc584602a0b458c7087f1054",
      "1d18ccc512254f248523e95177cfeb18",
      "2f189291bac24eba900108e6b76ba535",
      "69d4f7ece8bd46f7bfdf19d98603fe83",
      "35780bf1f6694b29ba2d5135eee07b0b",
      "48e4a045c0474fa0bf7cd0301cb35a18",
      "f089d19f843242a9b27809b387732601",
      "b56b719f1002427eaabe1c7d073f4e50",
      "9e945ae4c9f645a287a72be2d6fe070d",
      "26fc05e31dfe475d84e8b343811fc7f3",
      "11b2cc9b77674a498df7b0c85bc0d06c",
      "87f806ff64594c4d8fd3ecf49a67c643",
      "f5f9089bc81d48d1be62a768a30db745",
      "ef412c4b31ff46ccbc6a6560232901a6",
      "140fedf724f848f38f346d2f264231a3",
      "927ef814308f4827a11d82f7b64151eb",
      "18f8de95f4be47ff8b7ccb67dc136dd1",
      "41ac8e21449f42e88654f8f62833263b",
      "197d7a7ebb6141f7a8cf8d7039720dc5",
      "0af47f8bc78f424cbbcd0859e961e0a0",
      "ff0422e18b9a4f9396731b9f73cd038f",
      "4363cb9203b74cd29fd6f2fe58e55d0c"
     ]
    },
    "id": "ILDgbVFedv44",
    "outputId": "a4a9cb53-5582-4cb3-ae02-a1d761c4ad9a"
   },
   "outputs": [
    {
     "data": {
      "application/vnd.jupyter.widget-view+json": {
       "model_id": "c6a60c0c19d6493389e6a2b89069bf3f",
       "version_major": 2,
       "version_minor": 0
      },
      "text/plain": [
       "config.json:   0%|          | 0.00/846 [00:00<?, ?B/s]"
      ]
     },
     "metadata": {},
     "output_type": "display_data"
    },
    {
     "data": {
      "application/vnd.jupyter.widget-view+json": {
       "model_id": "f66e2aed3b494902b9a9eec96f7fe4b3",
       "version_major": 2,
       "version_minor": 0
      },
      "text/plain": [
       "pytorch_model.bin:   0%|          | 0.00/2.46G [00:00<?, ?B/s]"
      ]
     },
     "metadata": {},
     "output_type": "display_data"
    },
    {
     "data": {
      "application/vnd.jupyter.widget-view+json": {
       "model_id": "68186e5f42144c0197e954aec849db59",
       "version_major": 2,
       "version_minor": 0
      },
      "text/plain": [
       "model.safetensors:   0%|          | 0.00/2.46G [00:00<?, ?B/s]"
      ]
     },
     "metadata": {},
     "output_type": "display_data"
    },
    {
     "data": {
      "application/vnd.jupyter.widget-view+json": {
       "model_id": "3475e806961c487b9331434531105645",
       "version_major": 2,
       "version_minor": 0
      },
      "text/plain": [
       "generation_config.json:   0%|          | 0.00/189 [00:00<?, ?B/s]"
      ]
     },
     "metadata": {},
     "output_type": "display_data"
    },
    {
     "data": {
      "application/vnd.jupyter.widget-view+json": {
       "model_id": "ca7040a5238b4f69a114debcb3a087a7",
       "version_major": 2,
       "version_minor": 0
      },
      "text/plain": [
       "tokenizer_config.json:   0%|          | 0.00/564 [00:00<?, ?B/s]"
      ]
     },
     "metadata": {},
     "output_type": "display_data"
    },
    {
     "data": {
      "application/vnd.jupyter.widget-view+json": {
       "model_id": "a8e27dd0fd804141a2c2aa3a51949306",
       "version_major": 2,
       "version_minor": 0
      },
      "text/plain": [
       "sentencepiece.bpe.model:   0%|          | 0.00/4.85M [00:00<?, ?B/s]"
      ]
     },
     "metadata": {},
     "output_type": "display_data"
    },
    {
     "data": {
      "application/vnd.jupyter.widget-view+json": {
       "model_id": "a8df96f3dc584602a0b458c7087f1054",
       "version_major": 2,
       "version_minor": 0
      },
      "text/plain": [
       "tokenizer.json:   0%|          | 0.00/17.3M [00:00<?, ?B/s]"
      ]
     },
     "metadata": {},
     "output_type": "display_data"
    },
    {
     "data": {
      "application/vnd.jupyter.widget-view+json": {
       "model_id": "87f806ff64594c4d8fd3ecf49a67c643",
       "version_major": 2,
       "version_minor": 0
      },
      "text/plain": [
       "special_tokens_map.json: 0.00B [00:00, ?B/s]"
      ]
     },
     "metadata": {},
     "output_type": "display_data"
    }
   ],
   "source": [
    "from transformers import AutoTokenizer, AutoModelForSeq2SeqLM\n",
    "\n",
    "# Load the multilingual model from Meta's NLLB project\n",
    "nllb_model = AutoModelForSeq2SeqLM.from_pretrained(\"facebook/nllb-200-distilled-600M\")\n",
    "nllb_tokenizer = AutoTokenizer.from_pretrained(\"facebook/nllb-200-distilled-600M\")\n"
   ]
  },
  {
   "cell_type": "markdown",
   "metadata": {
    "id": "ItT-GqVg1xU-"
   },
   "source": [
    "### 🌍 NLLB Translation Function\n",
    "\n",
    "This function uses **Meta's NLLB-200 model** (`facebook/nllb-200-distilled-600M`) to translate text from a source language to a target language.\n",
    "\n",
    "---\n",
    "\n",
    "#### 🧠 How It Works:\n",
    "\n",
    "- Sets the **source language** using `src_lang` (e.g., `\"eng_Latn\"` for English).\n",
    "- Sets the **target language** using `tgt_lang` (e.g., `\"arb_Arab\"` for Arabic).\n",
    "- Uses `forced_bos_token_id` to force decoding into the specified target language.\n",
    "- Generates the translated output using the model and decodes it into readable text.\n",
    "\n",
    "---\n",
    "\n",
    "**Note**: You can translate between any of the 200+ supported languages by changing the codes.\n"
   ]
  },
  {
   "cell_type": "code",
   "execution_count": null,
   "metadata": {
    "id": "kxr3sttien8f"
   },
   "outputs": [],
   "source": [
    "def translate_nllb(text, src_lang=\"eng_Latn\", tgt_lang=\"arb_Arab\"):\n",
    "    # Set the source language for the tokenizer\n",
    "    nllb_tokenizer.src_lang = src_lang\n",
    "\n",
    "    # Tokenize the input with padding/truncation\n",
    "    inputs = nllb_tokenizer(\n",
    "        text,\n",
    "        return_tensors=\"pt\",\n",
    "        padding=True,\n",
    "        truncation=True,\n",
    "        max_length=512\n",
    "    )\n",
    "\n",
    "    # Convert the target language code into a token ID\n",
    "    tgt_token_id = nllb_tokenizer.convert_tokens_to_ids(tgt_lang)\n",
    "\n",
    "    # Force decoder to start generation with the target language\n",
    "    inputs[\"forced_bos_token_id\"] = tgt_token_id\n",
    "\n",
    "    # Generate translation with a token cap\n",
    "    outputs = nllb_model.generate(**inputs, max_new_tokens=200)\n",
    "\n",
    "    # Decode the generated token IDs to readable text\n",
    "    return nllb_tokenizer.decode(outputs[0], skip_special_tokens=True)\n"
   ]
  },
  {
   "cell_type": "markdown",
   "metadata": {
    "id": "VG5JUHVy2XNS"
   },
   "source": [
    "### 🔁 NLLB Translation\n",
    "\n",
    "Translating all English chunks using the `translate_nllb` function and storing the results in `translations_nllb`.\n",
    "\n",
    "A progress bar is shown using `tqdm`.\n"
   ]
  },
  {
   "cell_type": "code",
   "execution_count": null,
   "metadata": {
    "colab": {
     "base_uri": "https://localhost:8080/"
    },
    "id": "TS-fJdRketXP",
    "outputId": "9d3caf12-b1e5-444a-bbf3-f5a43864369a"
   },
   "outputs": [
    {
     "name": "stderr",
     "output_type": "stream",
     "text": [
      "NLLB Translation: 100%|██████████| 23/23 [01:38<00:00,  4.29s/it]\n"
     ]
    }
   ],
   "source": [
    "translations_nllb = [translate_nllb(chunk) for chunk in tqdm(sentence_chunks, desc=\"NLLB Translation\")]"
   ]
  },
  {
   "cell_type": "markdown",
   "metadata": {
    "id": "FbffTA8V2fYc"
   },
   "source": [
    "### 📃 NLLB Translation Results\n",
    "\n",
    "Displaying each original English chunk alongside its Arabic translation generated by the NLLB model.\n"
   ]
  },
  {
   "cell_type": "code",
   "execution_count": null,
   "metadata": {
    "colab": {
     "base_uri": "https://localhost:8080/"
    },
    "id": "JbGhtEqPfBh3",
    "outputId": "6c905a82-7c40-4910-ac7a-a49acc69a7ab"
   },
   "outputs": [
    {
     "name": "stdout",
     "output_type": "stream",
     "text": [
      "\n",
      "==================================================\n",
      "NLLB TRANSLATION RESULTS\n",
      "==================================================\n",
      "\n",
      "--- Chunk 1 ---\n",
      "Original: On March 15th, 2024, Sarah Johnson received an email that would change her life forever.\n",
      "Arabic (NLLB): في 15 مارس 2024، تلقت سارة جونسون رسالة بريد إلكترونيّة ستغير حياتها إلى الأبد.\n",
      "------------------------------\n",
      "\n",
      "--- Chunk 2 ---\n",
      "Original: The subject line read: \"Congratulations!\n",
      "Arabic (NLLB): موضوع الموضوع: \"تهنئة!\n",
      "------------------------------\n",
      "\n",
      "--- Chunk 3 ---\n",
      "Original: You've been selected for TechVenture Accelerator 2024.\"\n",
      "\n",
      "Sarah couldn't believe her eyes.\n",
      "Arabic (NLLB): لقد تم اختيارك لـ\"تيكفينتور اكسلراتور 2024\". لا تصدق سارة عينيها\n",
      "------------------------------\n",
      "\n",
      "--- Chunk 4 ---\n",
      "Original: After 3.5 years of working as a software engineer at DataCorp Inc., earning $95,750 annually, she was finally getting her shot at the big leagues.\n",
      "Arabic (NLLB): بعد 3.5 سنة من العمل كمحترفة برمجيات في شركة \"دايتاكورب\" التي تكسب 95 750 دولار سنوياً، كانت تحصل أخيراً على فرصة في الدوري الكبير.\n",
      "------------------------------\n",
      "\n",
      "--- Chunk 5 ---\n",
      "Original: Her startup idea, \"SmartHome AI,\" had caught the attention of investors.\n",
      "Arabic (NLLB): فكرتها الناشئة، \" الذكاء الاصطناعي الذكي في المنزل\" ، قد استقطبت انتباه المستثمرين.\n",
      "------------------------------\n",
      "\n",
      "--- Chunk 6 ---\n",
      "Original: \"Break a leg at the presentation!\" texted her best friend Mike at 9:30 AM.\n",
      "Arabic (NLLB): \"كسر ساقها في العرض!\" أرسلت صديقتها المفضلة مايك في الساعة 9:30 صباحا.\n",
      "------------------------------\n",
      "\n",
      "--- Chunk 7 ---\n",
      "Original: The accelerator program was no joke.\n",
      "Arabic (NLLB): برنامج التسارع لم يكن مزحة\n",
      "------------------------------\n",
      "\n",
      "--- Chunk 8 ---\n",
      "Original: Sarah had to pitch to 50+ investors, including billionaire tech mogul Robert Chen III, who was known for being tougher than nails.\n",
      "Arabic (NLLB): كان عليها أن ترفع إلى أكثر من 50 مستثمرًا، بما في ذلك الملياردير روبرت تشين الثالث، الذي كان معروفًا بأنه أقوى من الأظافر.\n",
      "------------------------------\n",
      "\n",
      "--- Chunk 9 ---\n",
      "Original: The stakes were high: $2.5 million in seed funding was on the line.\n",
      "Arabic (NLLB): كانت المخاطر عالية: 2.5 مليون دولار من التمويل البذري كان على المحك.\n",
      "------------------------------\n",
      "\n",
      "--- Chunk 10 ---\n",
      "Original: Sarah's presentation went like this: \"Ladies and gentlemen, imagine a world where your home knows you better than you know yourself.\n",
      "Arabic (NLLB): كانت تقديم سارة هكذا: \"سيداتي سادتي، تخيلوا عالم يعرفكم فيه منزلكم أكثر مما تعرفون أنفسكم.\n",
      "------------------------------\n",
      "\n",
      "--- Chunk 11 ---\n",
      "Original: Our AI can predict when you'll arrive home with 97.3% accuracy, adjust the temperature to exactly 72.5°F, and even order groceries before you run out.\"\n",
      "\n",
      "The room was dead silent.\n",
      "Arabic (NLLB): يمكن لذكاءنا الذكوي أن يتوقع متى ستصل إلى المنزل بدقة 97.3٪، وتعيين درجة الحرارة إلى بالضبط 72.5 درجة فهرنهايت، وحتى طلب البقالة قبل أن تنتهي\". كانت الغرفة صامتة للغاية.\n",
      "------------------------------\n",
      "\n",
      "--- Chunk 12 ---\n",
      "Original: Then Robert Chen stood up.\n",
      "Arabic (NLLB): ثم قام روبرت تشين\n",
      "------------------------------\n",
      "\n",
      "--- Chunk 13 ---\n",
      "Original: \"That's a piece of cake for any decent ML engineer,\" he said.\n",
      "Arabic (NLLB): \"هذا قطعة كعكة لأي مهندس ML لائق، \"قال.\n",
      "------------------------------\n",
      "\n",
      "--- Chunk 14 ---\n",
      "Original: \"What makes you different?\"\n",
      "\n",
      "Sarah's heart sank.\n",
      "Arabic (NLLB): \"ما الذي يجعلك مختلفة؟\" قلب سارة غزت.\n",
      "------------------------------\n",
      "\n",
      "--- Chunk 15 ---\n",
      "Original: She felt like she was between a rock and a hard place.\n",
      "Arabic (NLLB): شعرت أنها كانت بين صخرة ومكان صعب.\n",
      "------------------------------\n",
      "\n",
      "--- Chunk 16 ---\n",
      "Original: But then she remembered her secret weapon.\n",
      "Arabic (NLLB): لكن بعد ذلك تذكرت سلاحها السري\n",
      "------------------------------\n",
      "\n",
      "--- Chunk 17 ---\n",
      "Original: \"Mr.\n",
      "Arabic (NLLB): \"سيد\n",
      "------------------------------\n",
      "\n",
      "--- Chunk 18 ---\n",
      "Original: Chen,\" she said, \"our AI doesn't just learn patterns.\n",
      "Arabic (NLLB): تشين\" قالت \"إن الذكاء الاصطناعي لا يتعلم فقط الأنماط\n",
      "------------------------------\n",
      "\n",
      "--- Chunk 19 ---\n",
      "Original: It understands context.\n",
      "Arabic (NLLB): إنه يفهم السياق\n",
      "------------------------------\n",
      "\n",
      "--- Chunk 20 ---\n",
      "Original: When my grandmother, who's 84 years old, visits every Sunday at 2:00 PM, the system knows to prepare her favorite chamomile tea and lower the music volume.\n",
      "Arabic (NLLB): عندما تزور جدتي التي تبلغ من العمر 84 عاماً كل يوم الأحد في الساعة الثانية مساءً، يُعرف النظام كيف يعد شاي الكاموميل المفضل لها ويقلل حجم الموسيقى.\n",
      "------------------------------\n",
      "\n",
      "--- Chunk 21 ---\n",
      "Original: It's not just smart - it's thoughtful.\"\n",
      "\n",
      "Robert's expression softened.\n",
      "Arabic (NLLB): \"كيف يمكن أن تكون هذه الطريقة جيدة؟\n",
      "------------------------------\n",
      "\n",
      "--- Chunk 22 ---\n",
      "Original: \"Now you're cooking with gas,\" he said.\n",
      "Arabic (NLLB): \"الآن أنت تطبخ مع الغاز، \"قال.\n",
      "------------------------------\n",
      "\n",
      "--- Chunk 23 ---\n",
      "Original: \"Tell me more.\"\n",
      "Arabic (NLLB): \"أخبرني أكثر\".\n",
      "------------------------------\n"
     ]
    }
   ],
   "source": [
    "# Print all NLLB translations alongside original chunks\n",
    "print(\"\\n\" + \"=\"*50)\n",
    "print(\"NLLB TRANSLATION RESULTS\")\n",
    "print(\"=\"*50)\n",
    "\n",
    "for i, (original, translation) in enumerate(zip(sentence_chunks, translations_nllb)):\n",
    "    print(f\"\\n--- Chunk {i+1} ---\")\n",
    "    print(f\"Original: {original}\")\n",
    "    print(f\"Arabic (NLLB): {translation}\")\n",
    "    print(\"-\" * 30)\n"
   ]
  },
  {
   "cell_type": "markdown",
   "metadata": {
    "id": "AHQ3mUhuexKO"
   },
   "source": [
    "### ⚖️ Compare BLEU Scores: Opus-MT vs NLLB\n",
    "\n",
    "Now we’ll compare a specific sentence across:\n",
    "\n",
    "- The original English input\n",
    "- Opus-MT translation\n",
    "- NLLB translation\n",
    "- Reference translation\n",
    "\n",
    "We’ll also analyze token overlap to better understand the lexical similarity between each model’s output and the reference.\n"
   ]
  },
  {
   "cell_type": "code",
   "execution_count": null,
   "metadata": {
    "colab": {
     "base_uri": "https://localhost:8080/"
    },
    "id": "FcOUbT1ifvp2",
    "outputId": "7e50720a-2705-49dc-bab2-9b4fd27ed866"
   },
   "outputs": [
    {
     "name": "stdout",
     "output_type": "stream",
     "text": [
      "=== SENTENCE COMPARISON ===\n",
      "Original English:\n",
      "You've been selected for TechVenture Accelerator 2024.\"\n",
      "\n",
      "Sarah couldn't believe her eyes.\n",
      "\n",
      "==================================================\n",
      "Opus Translation:\n",
      "تم اختيارك لتقنية \"التكنلوجيا\" Acelerator 2024 \"سارة\" لم تصدق عينيها\n",
      "\n",
      "==================================================\n",
      "NLLB Translation:\n",
      "لقد تم اختيارك لـ\"تيكفينتور اكسلراتور 2024\". لا تصدق سارة عينيها\n",
      "\n",
      "==================================================\n",
      "Reference:\n",
      "لقد تم اختيارك لبرنامج TechVenture Accelerator 2024.\" لم تصدق سارة عينيها.\n",
      "\n",
      "==================================================\n",
      "=== TOKEN ANALYSIS ===\n",
      "Opus tokens: 10 words\n",
      "NLLB tokens: 10 words\n",
      "Reference tokens: 11 words\n",
      "\n",
      "Opus matches: 4 words: ['اختيارك', 'تم', 'لم', 'تصدق']\n",
      "NLLB matches: 5 words: ['اختيارك', 'تم', 'سارة', 'لقد', 'تصدق']\n"
     ]
    }
   ],
   "source": [
    "# === SENTENCE COMPARISON ===\n",
    "print(\"=== SENTENCE COMPARISON ===\")\n",
    "print(\"Original English:\")\n",
    "print(sentence_chunks[2])\n",
    "print(\"\\n\" + \"=\"*50)\n",
    "\n",
    "print(\"Opus Translation:\")\n",
    "print(translations[2])\n",
    "print(\"\\n\" + \"=\"*50)\n",
    "\n",
    "print(\"NLLB Translation:\")\n",
    "print(translations_nllb[2])\n",
    "print(\"\\n\" + \"=\"*50)\n",
    "\n",
    "print(\"Reference:\")\n",
    "print(sentence_references[2])\n",
    "print(\"\\n\" + \"=\"*50)\n",
    "\n",
    "# === TOKEN ANALYSIS ===\n",
    "print(\"=== TOKEN ANALYSIS ===\")\n",
    "\n",
    "# Tokenize all sentences by whitespace\n",
    "opus_tokens = translations[2].split()\n",
    "nllb_tokens = translations_nllb[2].split()\n",
    "ref_tokens = sentence_references[2].split()\n",
    "\n",
    "# Print number of words\n",
    "print(f\"Opus tokens: {len(opus_tokens)} words\")\n",
    "print(f\"NLLB tokens: {len(nllb_tokens)} words\")\n",
    "print(f\"Reference tokens: {len(ref_tokens)} words\")\n",
    "\n",
    "# Calculate overlapping tokens with reference\n",
    "opus_matches = set(opus_tokens) & set(ref_tokens)\n",
    "nllb_matches = set(nllb_tokens) & set(ref_tokens)\n",
    "\n",
    "# Print overlap count and examples (up to 10 tokens)\n",
    "print(f\"\\nOpus matches: {len(opus_matches)} words: {list(opus_matches)[:10]}\")\n",
    "print(f\"NLLB matches: {len(nllb_matches)} words: {list(nllb_matches)[:10]}\")\n"
   ]
  },
  {
   "cell_type": "markdown",
   "metadata": {
    "id": "2sDFisYZ2_Bz"
   },
   "source": [
    "### 📊 BLEU Score & Sentence Comparison: Opus-MT vs NLLB\n",
    "\n",
    "For each chunk, we show:\n",
    "- The English source\n",
    "- Translations from both models\n",
    "- Reference translation\n",
    "- BLEU scores for Opus-MT and NLLB\n"
   ]
  },
  {
   "cell_type": "code",
   "execution_count": null,
   "metadata": {
    "colab": {
     "base_uri": "https://localhost:8080/"
    },
    "id": "BlOkihQgeurN",
    "outputId": "ddac33bc-3f62-47fa-c4be-abb9f6c09e10"
   },
   "outputs": [
    {
     "name": "stdout",
     "output_type": "stream",
     "text": [
      "\n",
      "=== Chunk 1 ===\n",
      "🔹 English:     On March 15th, 2024, Sarah Johnson received an email that would change her life forever.\n",
      "🔷 Opus-MT:     في 15 مارس 2024، تلقت سارة جونسون رسالة إلكترونية من شأنها أن تغير حياتها إلى الأبد.\n",
      "🟡 NLLB:        في 15 مارس 2024، تلقت سارة جونسون رسالة بريد إلكترونيّة ستغير حياتها إلى الأبد.\n",
      "✅ Reference:   في 15 مارس 2024، تلقت سارة جونسون رسالة بريد إلكتروني من شأنها أن تغير حياتها إلى الأبد.\n",
      "📈 BLEU (Opus): 0.7660\n",
      "📈 BLEU (NLLB): 0.5648\n",
      "------------------------------------------------------------\n",
      "\n",
      "=== Chunk 2 ===\n",
      "🔹 English:     The subject line read: \"Congratulations!\n",
      "🔷 Opus-MT:     وفيما يلي نص الموضوع: \"تهانينا!\n",
      "🟡 NLLB:        موضوع الموضوع: \"تهنئة!\n",
      "✅ Reference:   كان عنوان الرسالة يقول: \"تهانينا!\n",
      "📈 BLEU (Opus): 0.0456\n",
      "📈 BLEU (NLLB): 0.0000\n",
      "------------------------------------------------------------\n",
      "\n",
      "=== Chunk 3 ===\n",
      "🔹 English:     You've been selected for TechVenture Accelerator 2024.\"\n",
      "\n",
      "Sarah couldn't believe her eyes.\n",
      "🔷 Opus-MT:     تم اختيارك لتقنية \"التكنلوجيا\" Acelerator 2024 \"سارة\" لم تصدق عينيها\n",
      "🟡 NLLB:        لقد تم اختيارك لـ\"تيكفينتور اكسلراتور 2024\". لا تصدق سارة عينيها\n",
      "✅ Reference:   لقد تم اختيارك لبرنامج TechVenture Accelerator 2024.\" لم تصدق سارة عينيها.\n",
      "📈 BLEU (Opus): 0.0729\n",
      "📈 BLEU (NLLB): 0.1464\n",
      "------------------------------------------------------------\n",
      "\n",
      "=== Chunk 4 ===\n",
      "🔹 English:     After 3.5 years of working as a software engineer at DataCorp Inc., earning $95,750 annually, she was finally getting her shot at the big leagues.\n",
      "🔷 Opus-MT:     بعد 3.5 سنوات من العمل كمهندس برامج في شركة DataCorp Inc.، كسبت 95.5 750 دولار سنويا،\n",
      "🟡 NLLB:        بعد 3.5 سنة من العمل كمحترفة برمجيات في شركة \"دايتاكورب\" التي تكسب 95 750 دولار سنوياً، كانت تحصل أخيراً على فرصة في الدوري الكبير.\n",
      "✅ Reference:   بعد 3.5 سنوات من العمل كمهندسة برمجيات في شركة DataCorp Inc.، وكسب 95,750 دولار سنوياً، كانت تحصل أخيراً على فرصتها في الدوري الكبير.\n",
      "📈 BLEU (Opus): 0.2542\n",
      "📈 BLEU (NLLB): 0.3338\n",
      "------------------------------------------------------------\n",
      "\n",
      "=== Chunk 5 ===\n",
      "🔹 English:     Her startup idea, \"SmartHome AI,\" had caught the attention of investors.\n",
      "🔷 Opus-MT:     فكرة تأسيسها، \"SmartHome AI\" كانت قد لفتت انتباه المستثمرين.\n",
      "🟡 NLLB:        فكرتها الناشئة، \" الذكاء الاصطناعي الذكي في المنزل\" ، قد استقطبت انتباه المستثمرين.\n",
      "✅ Reference:   فكرة شركتها الناشئة \"SmartHome AI\" قد جذبت انتباه المستثمرين.\n",
      "📈 BLEU (Opus): 0.0989\n",
      "📈 BLEU (NLLB): 0.0490\n",
      "------------------------------------------------------------\n",
      "\n",
      "=== Chunk 6 ===\n",
      "🔹 English:     \"Break a leg at the presentation!\" texted her best friend Mike at 9:30 AM.\n",
      "🔷 Opus-MT:     \"أوقع ساق في العرض\" نص صديقها المفضل مايك في 9: 30 صباحا.\n",
      "🟡 NLLB:        \"كسر ساقها في العرض!\" أرسلت صديقتها المفضلة مايك في الساعة 9:30 صباحا.\n",
      "✅ Reference:   أرسل لها أفضل أصدقائها مايك رسالة نصية في الساعة 9:30 صباحاً قائلاً: \"حظاً موفقاً في العرض التقديمي!\"\n",
      "📈 BLEU (Opus): 0.0174\n",
      "📈 BLEU (NLLB): 0.0793\n",
      "------------------------------------------------------------\n",
      "\n",
      "=== Chunk 7 ===\n",
      "🔹 English:     The accelerator program was no joke.\n",
      "🔷 Opus-MT:     برنامج التسارع لم يكن مزحه\n",
      "🟡 NLLB:        برنامج التسارع لم يكن مزحة\n",
      "✅ Reference:   لم يكن برنامج المسرّع مزحة.\n",
      "📈 BLEU (Opus): 0.1341\n",
      "📈 BLEU (NLLB): 0.1341\n",
      "------------------------------------------------------------\n",
      "\n",
      "=== Chunk 8 ===\n",
      "🔹 English:     Sarah had to pitch to 50+ investors, including billionaire tech mogul Robert Chen III, who was known for being tougher than nails.\n",
      "🔷 Opus-MT:     كان على (سارة) أن تقدم إلى 50 مستثمراً متقدماً، بما في ذلك ملياردير التكنولوجيا Mogul Robert Chin III، الذي كان معروفاً بكونه أقوى من الأظافر.\n",
      "🟡 NLLB:        كان عليها أن ترفع إلى أكثر من 50 مستثمرًا، بما في ذلك الملياردير روبرت تشين الثالث، الذي كان معروفًا بأنه أقوى من الأظافر.\n",
      "✅ Reference:   كان على سارة أن تقدم عرضها أمام أكثر من 50 مستثمر، بما في ذلك المليardير في مجال التكنولوجيا روبرت تشن الثالث، الذي كان معروفاً بصرامته الشديدة.\n",
      "📈 BLEU (Opus): 0.1090\n",
      "📈 BLEU (NLLB): 0.1173\n",
      "------------------------------------------------------------\n",
      "\n",
      "=== Chunk 9 ===\n",
      "🔹 English:     The stakes were high: $2.5 million in seed funding was on the line.\n",
      "🔷 Opus-MT:     وكانت المخاطر كبيرة: فهناك 2.5 مليون دولار في شكل تمويل ابتدائي على المحك.\n",
      "🟡 NLLB:        كانت المخاطر عالية: 2.5 مليون دولار من التمويل البذري كان على المحك.\n",
      "✅ Reference:   كانت المخاطر عالية: 2.5 مليون دولار من التمويل الأولي كان على المحك.\n",
      "📈 BLEU (Opus): 0.1281\n",
      "📈 BLEU (NLLB): 0.7349\n",
      "------------------------------------------------------------\n",
      "\n",
      "=== Chunk 10 ===\n",
      "🔹 English:     Sarah's presentation went like this: \"Ladies and gentlemen, imagine a world where your home knows you better than you know yourself.\n",
      "🔷 Opus-MT:     عرض (سارة) كان مثل: \"سيداتي وسادتي، تخيلوا عالماً حيث يعرفكم منزلكم أفضل مما تعرفون أنفسكم.\n",
      "🟡 NLLB:        كانت تقديم سارة هكذا: \"سيداتي سادتي، تخيلوا عالم يعرفكم فيه منزلكم أكثر مما تعرفون أنفسكم.\n",
      "✅ Reference:   جاء عرض سارة التقديمي كما يلي: \"سيداتي وسادتي، تخيلوا عالماً حيث منزلكم يعرفكم أفضل مما تعرفون أنفسكم.\n",
      "📈 BLEU (Opus): 0.3876\n",
      "📈 BLEU (NLLB): 0.0939\n",
      "------------------------------------------------------------\n",
      "\n",
      "=== Chunk 11 ===\n",
      "🔹 English:     Our AI can predict when you'll arrive home with 97.3% accuracy, adjust the temperature to exactly 72.5°F, and even order groceries before you run out.\"\n",
      "\n",
      "The room was dead silent.\n",
      "🔷 Opus-MT:     يمكن لـ AIنا أن يتنبأ عندما تصل إلى المنزل مع 97.3٪ دقة، تعديل درجة الحرارة إلى بالضبط 72.5 درجة فئران، وحتى طلب البقالة قبل أن تنفذ.\" الغرفة كانت صامتة تماما.\n",
      "🟡 NLLB:        يمكن لذكاءنا الذكوي أن يتوقع متى ستصل إلى المنزل بدقة 97.3٪، وتعيين درجة الحرارة إلى بالضبط 72.5 درجة فهرنهايت، وحتى طلب البقالة قبل أن تنتهي\". كانت الغرفة صامتة للغاية.\n",
      "✅ Reference:   ذكاؤنا الاصطناعي يمكنه التنبؤ بموعد وصولكم للمنزل بدقة 97.3%، وضبط درجة الحرارة إلى 72.5 فهرنهايت بالضبط، وحتى طلب البقالة قبل نفادها.\" ساد الصمت التام في القاعة.\n",
      "📈 BLEU (Opus): 0.1162\n",
      "📈 BLEU (NLLB): 0.1241\n",
      "------------------------------------------------------------\n",
      "\n",
      "=== Chunk 12 ===\n",
      "🔹 English:     Then Robert Chen stood up.\n",
      "🔷 Opus-MT:     ثم وقف (روبرت تشين)\n",
      "🟡 NLLB:        ثم قام روبرت تشين\n",
      "✅ Reference:   ثم وقف روبرت تشن.\n",
      "📈 BLEU (Opus): 0.1682\n",
      "📈 BLEU (NLLB): 0.0726\n",
      "------------------------------------------------------------\n",
      "\n",
      "=== Chunk 13 ===\n",
      "🔹 English:     \"That's a piece of cake for any decent ML engineer,\" he said.\n",
      "🔷 Opus-MT:     قال: \"هذه قطعة من الكعكة لأي مهندس ماجستير محترم\"\n",
      "🟡 NLLB:        \"هذا قطعة كعكة لأي مهندس ML لائق، \"قال.\n",
      "✅ Reference:   قال: \"هذا أمر سهل جداً لأي مهندس تعلم آلي محترم.\"\n",
      "📈 BLEU (Opus): 0.0626\n",
      "📈 BLEU (NLLB): 0.0614\n",
      "------------------------------------------------------------\n",
      "\n",
      "=== Chunk 14 ===\n",
      "🔹 English:     \"What makes you different?\"\n",
      "\n",
      "Sarah's heart sank.\n",
      "🔷 Opus-MT:     \"ما الذي يجعلك مختلفة؟\" قلب سارة غرق.\n",
      "🟡 NLLB:        \"ما الذي يجعلك مختلفة؟\" قلب سارة غزت.\n",
      "✅ Reference:   \"ما الذي يجعلك مختلفة؟\" انقبض قلب سارة.\n",
      "📈 BLEU (Opus): 0.4347\n",
      "📈 BLEU (NLLB): 0.4347\n",
      "------------------------------------------------------------\n",
      "\n",
      "=== Chunk 15 ===\n",
      "🔹 English:     She felt like she was between a rock and a hard place.\n",
      "🔷 Opus-MT:     شعرت وكأنها كانت بين صخرة ومكان صعب.\n",
      "🟡 NLLB:        شعرت أنها كانت بين صخرة ومكان صعب.\n",
      "✅ Reference:   شعرت وكأنها في موقف صعب للغاية.\n",
      "📈 BLEU (Opus): 0.0819\n",
      "📈 BLEU (NLLB): 0.0324\n",
      "------------------------------------------------------------\n",
      "\n",
      "=== Chunk 16 ===\n",
      "🔹 English:     But then she remembered her secret weapon.\n",
      "🔷 Opus-MT:     ثم تذكرت سلاحها السري\n",
      "🟡 NLLB:        لكن بعد ذلك تذكرت سلاحها السري\n",
      "✅ Reference:   لكنها تذكرت سلاحها السري.\n",
      "📈 BLEU (Opus): 0.1682\n",
      "📈 BLEU (NLLB): 0.0972\n",
      "------------------------------------------------------------\n",
      "\n",
      "=== Chunk 17 ===\n",
      "🔹 English:     \"Mr.\n",
      "🔷 Opus-MT:     \" .\n",
      "🟡 NLLB:        \"سيد\n",
      "✅ Reference:   \"سيد\n",
      "📈 BLEU (Opus): 0.0000\n",
      "📈 BLEU (NLLB): 1.0000\n",
      "------------------------------------------------------------\n",
      "\n",
      "=== Chunk 18 ===\n",
      "🔹 English:     Chen,\" she said, \"our AI doesn't just learn patterns.\n",
      "🔷 Opus-MT:     شين، قالت، \"معرفتنا لا تتعلم فقط الأنماط.\n",
      "🟡 NLLB:        تشين\" قالت \"إن الذكاء الاصطناعي لا يتعلم فقط الأنماط\n",
      "✅ Reference:   تشن،\" قالت، \"ذكاؤنا الاصطناعي لا يتعلم الأنماط فحسب.\n",
      "📈 BLEU (Opus): 0.0334\n",
      "📈 BLEU (NLLB): 0.1553\n",
      "------------------------------------------------------------\n",
      "\n",
      "=== Chunk 19 ===\n",
      "🔹 English:     It understands context.\n",
      "🔷 Opus-MT:     وهو يفهم السياق.\n",
      "🟡 NLLB:        إنه يفهم السياق\n",
      "✅ Reference:   إنه يفهم السياق.\n",
      "📈 BLEU (Opus): 0.2118\n",
      "📈 BLEU (NLLB): 0.2118\n",
      "------------------------------------------------------------\n",
      "\n",
      "=== Chunk 20 ===\n",
      "🔹 English:     When my grandmother, who's 84 years old, visits every Sunday at 2:00 PM, the system knows to prepare her favorite chamomile tea and lower the music volume.\n",
      "🔷 Opus-MT:     عندما جدتي، التي تبلغ من العمر 84 سنة، تقوم بزيارة كل أحد في الثانية مساءً، النظام يعرف إعداد الشاي المفضل لها\n",
      "🟡 NLLB:        عندما تزور جدتي التي تبلغ من العمر 84 عاماً كل يوم الأحد في الساعة الثانية مساءً، يُعرف النظام كيف يعد شاي الكاموميل المفضل لها ويقلل حجم الموسيقى.\n",
      "✅ Reference:   عندما تزورني جدتي، البالغة من العمر 84 عاماً، كل يوم أحد في الساعة 2:00 مساءً، يعرف النظام أن يحضر لها شاي البابونج المفضل ويخفض مستوى الموسيقى.\n",
      "📈 BLEU (Opus): 0.0751\n",
      "📈 BLEU (NLLB): 0.0814\n",
      "------------------------------------------------------------\n",
      "\n",
      "=== Chunk 21 ===\n",
      "🔹 English:     It's not just smart - it's thoughtful.\"\n",
      "\n",
      "Robert's expression softened.\n",
      "🔷 Opus-MT:     ليس فقط ذكياً، بل مدروساً، تعبير (روبرت) مخفف\n",
      "🟡 NLLB:        \"كيف يمكن أن تكون هذه الطريقة جيدة؟\n",
      "✅ Reference:   إنه ليس ذكياً فحسب - بل مراعٍ أيضاً.\" تلين تعبير روبرت.\n",
      "📈 BLEU (Opus): 0.0259\n",
      "📈 BLEU (NLLB): 0.0000\n",
      "------------------------------------------------------------\n",
      "\n",
      "=== Chunk 22 ===\n",
      "🔹 English:     \"Now you're cooking with gas,\" he said.\n",
      "🔷 Opus-MT:     \"الآن أنت تطبخ مع الغاز\" ، وقال.\n",
      "🟡 NLLB:        \"الآن أنت تطبخ مع الغاز، \"قال.\n",
      "✅ Reference:   قال: \"الآن أنت تتقدمين بشكل ممتاز.\"\n",
      "📈 BLEU (Opus): 0.0819\n",
      "📈 BLEU (NLLB): 0.0972\n",
      "------------------------------------------------------------\n",
      "\n",
      "=== Chunk 23 ===\n",
      "🔹 English:     \"Tell me more.\"\n",
      "🔷 Opus-MT:     \"أخبريني أكثر\"\n",
      "🟡 NLLB:        \"أخبرني أكثر\".\n",
      "✅ Reference:   \"أخبريني المزيد.\"\n",
      "📈 BLEU (Opus): 0.0675\n",
      "📈 BLEU (NLLB): 0.0000\n",
      "------------------------------------------------------------\n",
      "\n",
      "🔷 Avg Opus-MT BLEU: 0.1540\n",
      "🟡 Avg NLLB BLEU:    0.2009\n"
     ]
    }
   ],
   "source": [
    "from nltk.translate.bleu_score import sentence_bleu, SmoothingFunction\n",
    "\n",
    "# Use smoothing to avoid zero BLEU for short sequences\n",
    "smoother = SmoothingFunction().method4\n",
    "\n",
    "# Lists to store scores\n",
    "bleu_opus, bleu_nllb = [], []\n",
    "\n",
    "# Loop through all references\n",
    "for i in range(len(sentence_references)):\n",
    "    ref = [sentence_references[i].split()]         # Human reference tokens\n",
    "    h1 = translations[i].split()                   # Opus-MT tokens\n",
    "    h2 = translations_nllb[i].split()              # NLLB tokens\n",
    "\n",
    "    # Calculate BLEU scores\n",
    "    score_opus = sentence_bleu(ref, h1, smoothing_function=smoother)\n",
    "    score_nllb = sentence_bleu(ref, h2, smoothing_function=smoother)\n",
    "\n",
    "    # Store scores\n",
    "    bleu_opus.append(score_opus)\n",
    "    bleu_nllb.append(score_nllb)\n",
    "\n",
    "    # Display everything per chunk\n",
    "    print(f\"\\n=== Chunk {i+1} ===\")\n",
    "    print(f\"🔹 English:     {sentence_chunks[i]}\")\n",
    "    print(f\"🔷 Opus-MT:     {translations[i]}\")\n",
    "    print(f\"🟡 NLLB:        {translations_nllb[i]}\")\n",
    "    print(f\"✅ Reference:   {sentence_references[i]}\")\n",
    "    print(f\"📈 BLEU (Opus): {score_opus:.4f}\")\n",
    "    print(f\"📈 BLEU (NLLB): {score_nllb:.4f}\")\n",
    "    print(\"-\" * 60)\n",
    "\n",
    "# Print average scores at the end\n",
    "print(f\"\\n🔷 Avg Opus-MT BLEU: {sum(bleu_opus)/len(bleu_opus):.4f}\")\n",
    "print(f\"🟡 Avg NLLB BLEU:    {sum(bleu_nllb)/len(bleu_nllb):.4f}\")\n"
   ]
  },
  {
   "cell_type": "markdown",
   "metadata": {
    "id": "ioGZsIhn3fxK"
   },
   "source": [
    "### 📊 BLEU Score Bar Chart: Opus-MT vs NLLB\n",
    "\n",
    "This plot shows the BLEU scores for each sentence chunk, comparing **Opus-MT** and **NLLB** side-by-side.\n"
   ]
  },
  {
   "cell_type": "code",
   "execution_count": null,
   "metadata": {
    "colab": {
     "base_uri": "https://localhost:8080/",
     "height": 487
    },
    "id": "ebhJWexJezjJ",
    "outputId": "1a7ecd11-052b-4148-d934-877d6a7547ac"
   },
   "outputs": [
    {
     "data": {
      "image/png": "[encoded data removed]",
      "text/plain": [
       "<Figure size 1000x500 with 1 Axes>"
      ]
     },
     "metadata": {},
     "output_type": "display_data"
    }
   ],
   "source": [
    "import matplotlib.pyplot as plt\n",
    "\n",
    "# X-axis: chunk indices\n",
    "x = range(1, len(bleu_opus) + 1)\n",
    "\n",
    "plt.figure(figsize=(10, 5))\n",
    "\n",
    "# Plot Opus-MT bars shifted left\n",
    "plt.bar(\n",
    "    [i - 0.2 for i in x],\n",
    "    bleu_opus,\n",
    "    width=0.4,\n",
    "    label=\"Opus-MT\",\n",
    "    color=\"skyblue\"\n",
    ")\n",
    "\n",
    "# Plot NLLB bars shifted right\n",
    "plt.bar(\n",
    "    [i + 0.2 for i in x],\n",
    "    bleu_nllb,\n",
    "    width=0.4,\n",
    "    label=\"NLLB\",\n",
    "    color=\"orchid\"\n",
    ")\n",
    "\n",
    "# X-axis labels and styling\n",
    "plt.xticks(x)\n",
    "plt.xlabel(\"Chunk\")\n",
    "plt.ylabel(\"BLEU Score\")\n",
    "plt.title(\"BLEU Comparison: Opus-MT vs NLLB\")\n",
    "plt.legend()\n",
    "plt.grid(True, linestyle=\"--\", alpha=0.6)\n",
    "\n",
    "# Show the plot\n",
    "plt.show()\n"
   ]
  },
  {
   "cell_type": "markdown",
   "metadata": {
    "id": "4tRP6DUxEWEm"
   },
   "source": [
    "### 🎵 Bonus Task: Arabic to English Translation (Your Favorite Song)\n",
    "\n",
    "Let's flip the task! Now it's your turn to translate **from Arabic into English** using your favorite Arabic song lyrics.\n",
    "\n",
    "---\n",
    "\n",
    "#### 🎯 Your Mission:\n",
    "\n",
    "1. **Choose a short Arabic song or verse** that you love (3–5 lines).\n",
    "2. **Translate it into English** using one of the following:\n",
    "   - A model (`nllb-200` or `opus-mt-ar-en`)\n",
    "   - Your own understanding\n",
    "   - GPT or any tool you like (just note the method used)\n",
    "3. **Analyze the result**:\n",
    "   - How accurate is the translation?\n",
    "   - What meaning or emotion was lost or kept?\n",
    "   - Which model did better (if you tried more than one)?\n",
    "\n",
    "---\n",
    "\n",
    "\n",
    "\n",
    "Enjoy translating — and bring your favorite music to life in a new language! 🎤🌍\n"
   ]
  },
  {
   "cell_type": "code",
   "execution_count": null,
   "metadata": {
    "colab": {
     "base_uri": "https://localhost:8080/"
    },
    "id": "r7_id4v2FUx6",
    "outputId": "eecf87aa-f64a-474c-8a21-90f7a62adb23"
   },
   "outputs": [
    {
     "name": "stdout",
     "output_type": "stream",
     "text": [
      "🎶 Original Arabic Lyrics:\n",
      "تَعَلَّقَ قَلبي طَفلَةً عَرَبِيَّةً\n",
      "تَنَعمُ في الدِّيبَاجِ والحَلى والحُلَل\n",
      "لَهَا مُقلَةٌ لَو أَنَّهَا نَظَرَت بِهَا\n",
      "إِلى رَاهِبٍ قَد صَامَ لِلّهِ وابتَهَل\n",
      "لَأَصبَحَ مَفتُوناً مُعَنَّى بِحُبِّهَا\n",
      "كَأَن لَم يَصُم لِلّهِ يَوماً ولَم يُصَل\n",
      "\n",
      " Translated English:\n",
      "My heart hung on an Arab child who was soothing in dipping and sweet and sweet her heart was so worried if she looked at her like a monk who had fasted to God and neglected to become a lover of her as if he had never fasted to God and never prayed.\n"
     ]
    }
   ],
   "source": [
    "# Your Arabic song lyrics (multi-line string)\n",
    "arabic_lyrics = \"\"\"\n",
    "تَعَلَّقَ قَلبي طَفلَةً عَرَبِيَّةً\n",
    "تَنَعمُ في الدِّيبَاجِ والحَلى والحُلَل\n",
    "لَهَا مُقلَةٌ لَو أَنَّهَا نَظَرَت بِهَا\n",
    "إِلى رَاهِبٍ قَد صَامَ لِلّهِ وابتَهَل\n",
    "لَأَصبَحَ مَفتُوناً مُعَنَّى بِحُبِّهَا\n",
    "كَأَن لَم يَصُم لِلّهِ يَوماً ولَم يُصَل\n",
    "\"\"\"\n",
    "\n",
    "# Translate using existing function\n",
    "english_translation = translate_nllb(arabic_lyrics, src_lang=\"arb_Arab\", tgt_lang=\"eng_Latn\")\n",
    "\n",
    "# Display result\n",
    "print(\"🎶 Original Arabic Lyrics:\")\n",
    "print(arabic_lyrics.strip())\n",
    "print(\"\\n Translated English:\")\n",
    "print(english_translation)\n"
   ]
  },
  {
   "cell_type": "markdown",
   "metadata": {
    "id": "NvoJoRBGA2Wq"
   },
   "source": [
    "### 🧭 Next Steps: Choose Your Improvement Track\n",
    "\n",
    "Now that you've completed the base translation notebook, here are **5 optional learning tracks** to help you improve translation quality and deepen your understanding.\n",
    "\n",
    "Choose one (or more) to explore further — each has clear goals and outcomes.\n",
    "\n",
    "---\n",
    "\n",
    "#### 📏 Track 1: Context-Aware Chunking\n",
    "**Goal:** Improve translation quality by grouping related sentences.\n",
    "\n",
    "**What you'll do:**\n",
    "- Merge related chunks into paragraphs before translating.\n",
    "- Compare BLEU scores before vs. after.\n",
    "\n",
    "**What to expect:**\n",
    "✅ Better handling of pronouns, idioms, and flow  \n",
    "📉 Slightly slower inference, but more coherent output\n",
    "\n",
    "---\n",
    "\n",
    "#### 🎛️ Track 2: Decoding Parameter Tuning\n",
    "**Goal:** Find the best decoding settings for your model.\n",
    "\n",
    "**What you'll do:**\n",
    "- Experiment with `top_k`, `top_p`, `temperature`, and `num_beams`.\n",
    "- Evaluate results using BLEU and your own judgment.\n",
    "\n",
    "**Suggested ranges:**\n",
    "- `top_k`      | 30–60\n",
    "- `top_p`      | 0.85–0.95\n",
    "- `temperature`| 0.7–1.0\n",
    "- `num_beams`  | 4–6\n",
    "\n",
    "**What to expect:**\n",
    "🎨 More diverse or controlled outputs  \n",
    "🧠 Better understanding of sampling vs. beam search\n",
    "\n",
    "---\n",
    "\n",
    "#### 🧪 Track 3: Metric Upgrade\n",
    "**Goal:** Evaluate translations using more reliable metrics.\n",
    "\n",
    "**What you'll do:**\n",
    "- Use `sacrebleu`, `chrF`, or `BERTScore`.\n",
    "- Compare how each metric ranks your translations.\n",
    "\n",
    "**What to expect:**\n",
    "✅ Insights into how BLEU can be misleading  \n",
    "📈 More correlation with human judgment (especially for Arabic)\n",
    "\n",
    "---\n",
    "\n",
    "#### 🤖 Track 4: Try Bigger or Specialized Models\n",
    "**Goal:** Improve quality using larger or better-suited models.\n",
    "\n",
    "**What you'll do:**\n",
    "- Replace your current model with one of the following:\n",
    "  - `facebook/nllb-200-1.3B`\n",
    "  - `facebook/m2m100_1.2B`\n",
    "- OR test the same input using commercial APIs (DeepL, Google Translate, Azure).\n",
    "\n",
    "**What to expect:**\n",
    "🚀 Higher BLEU scores  \n",
    "💻 Increased memory and runtime requirements  \n",
    "💡 Trade-offs between open-source and commercial solutions\n",
    "\n",
    "---\n",
    "\n",
    "#### ✍️ Track 5: Post-Editing and Retraining\n",
    "**Goal:** Learn how human feedback fits into machine translation workflows.\n",
    "\n",
    "**What you'll do:**\n",
    "- Manually correct the lowest-scoring translations.\n",
    "- Optionally fine-tune a model on the improved samples.\n",
    "\n",
    "**What to expect:**\n",
    "🛠️ Clear quality gains with minimal effort  \n",
    "🔁 Understand real-world translation workflows  \n",
    "📚 Learn how feedback improves models\n",
    "\n",
    "---\n",
    "\n",
    "Choose a track based on your interests and curiosity — and don’t be afraid to mix and match! 🚀\n"
   ]
  }
 ],
 "metadata": {
  "accelerator": "GPU",
  "colab": {
   "gpuType": "T4",
   "provenance": []
  },
  "kernelspec": {
   "display_name": "Python 3 (ipykernel)",
   "language": "python",
   "name": "python3"
  },
  "language_info": {
   "codemirror_mode": {
    "name": "ipython",
    "version": 3
   },
   "file_extension": ".py",
   "mimetype": "text/x-python",
   "name": "python",
   "nbconvert_exporter": "python",
   "pygments_lexer": "ipython3",
   "version": "3.10.12"
  }
 },
 "nbformat": 4,
 "nbformat_minor": 1
}
