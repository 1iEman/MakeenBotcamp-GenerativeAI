{
 "cells": [
  {
   "cell_type": "code",
   "execution_count": null,
   "metadata": {
    "id": "bmVkLRfas0jb"
   },
   "outputs": [],
   "source": [
    "!pip install -U transformers"
   ]
  },
  {
   "cell_type": "markdown",
   "metadata": {
    "id": "Wb5nX5Gks0jl"
   },
   "source": [
    "## Local Inference on GPU\n",
    "Model page: https://huggingface.co/PRAli22/arat5-arabic-dialects-translation\n",
    "\n",
    "⚠️ If the generated code snippets do not work, please open an issue on either the [model repo](https://huggingface.co/PRAli22/arat5-arabic-dialects-translation)\n",
    "\t\t\tand/or on [huggingface.js](https://github.com/huggingface/huggingface.js/blob/main/packages/tasks/src/model-libraries-snippets.ts) 🙏"
   ]
  },
  {
   "cell_type": "code",
   "execution_count": null,
   "metadata": {
    "colab": {
     "base_uri": "https://localhost:8080/",
     "height": 209,
     "referenced_widgets": [
      "fb603a6fe562417f8bc9b8a3d08028f3",
      "2c3cde2bf8a6414e80bd92b99f14d94c",
      "f1bb4b6a0d544ee6a77fdb56967f1b7f",
      "b38c05b069174ddd88b6d660a61c5b28",
      "45349d0f460a4b4a99c56179b8956f3a",
      "fce9e017e4d44f30a026135134a6e846",
      "046c214e6d424d23a75bd0e7e5fe620b",
      "ffc0fb2e8ea74f06bf9c01c1ee38c5ff",
      "dcb7117bb72248879457190a16dc102b",
      "cc71e73aab474d72a690da9ece3ede79",
      "44b0822be2fb49c08e1435bfed30e89f",
      "4e697aeb790544ef9a7c866ee4fb8a2c",
      "8aa1460fd4344dfc8dc599f86bdbc594",
      "427f8b8e06ba4e74b2e611c856a6e0a2",
      "835a24d5499e45d49bbfb11673b7f76e",
      "b14ec661b47f41f3af1f24c067a2bbf4",
      "e664048ca72d44f187ccd5b5e14e744f",
      "84809b45d80a430290dee771f0f14534",
      "ba5091413b17487db8de383bc1e48289",
      "1106379e2cec43deaa7458951256e610",
      "b909477997f34cdcbb0e75464c56fb39",
      "24dd6de3bf5d4047a2862d4aa1c8815d",
      "140436a9c56b4d3f9d12024b872010ce",
      "89bdb713ed2a46a59c30c77c9d375387",
      "6d934db47f8a4bc898208ce575104724",
      "bc24f23ca9bb4b938a2377829359d2ff",
      "f3df280a97d944c9afd385101d2bc2e3",
      "da867d1437d8463886eb6ffb747c7d18",
      "5db47f0fe45c44c7b10ab27656e53488",
      "5ad34e905a0849cca703ecbdaf9b7798",
      "c35153ba94ef4165b15057291056c664",
      "00296c8f8e144cf49a177ff60946c520",
      "ac56dab0b854423ea7cbc0648624d815",
      "5c87a0808a0e41c59ab2413fb6571d24",
      "4f95b9d6e8054929a63df1ab172f097c",
      "39c864ce503e46b4ba49060f174f1d30",
      "eed918f1199d4fc085cd331ab479780f",
      "e74085c5280c4c18924719bfad3835a0",
      "e61f9919b87344efb96c3f7de53e91f6",
      "ac91fa19c796488b9bf72cb672cb53db",
      "11b4fdaaf8f84cb487a9f5f7a9477f00",
      "f03aae543a93421d800a3660fbba9f43",
      "89a318dd286c4f8da0b4aa1d306375f8",
      "65582f7b25134a3a8951c5d3b831b472",
      "6ec4371ff5c34ebda5ba26921bf1e508",
      "f2716dd4f1264896b3c3c1d9f5c2179c",
      "0db97926339d4664a280c5266293c5be",
      "5b0dcfb2b45f408c9711cadd22202a06",
      "a1bcfe38dad949c4aef7907de5b5bdf1",
      "12b9c9e720a2464ea16a3d47723fe819",
      "bd10b71d9bfc44988c74fa8aedcca4d5",
      "0d34a537ca7e48ae9c3bd6a9c03d22c3",
      "6f07bd06820d47ab81681ab3048a86f2",
      "32b1cf11cac740939e4dbee05084600a",
      "3cdba41439c4486f85f9cace4002df0e",
      "ef24d6932b30451ca3420cf4f11eb5fe",
      "0874bdca47374559a83f495389a840bb",
      "d6ebeb6193904398b79af47ffcab2865",
      "a9b2de490e6140b69994a9348296ce17",
      "11a892f71e384001a6fc59b68572be57",
      "9d457a6945874a64869af4777c0289a9",
      "65bb0c59182345ba80e04668a7ec09bd",
      "bd7ef2a3f8794f03ad499ba7beadeb1b",
      "756ac0f47ee249018c64c8b095963831",
      "467b0a5d66a74e5f9fd09bc27b068355",
      "7e8f25c121e04e7f824e4973855d467c"
     ]
    },
    "id": "s0gQFMFZuLVq",
    "outputId": "eee8d57a-9244-483a-a83e-47a03a5dae6b"
   },
   "outputs": [
    {
     "data": {
      "application/vnd.jupyter.widget-view+json": {
       "model_id": "fb603a6fe562417f8bc9b8a3d08028f3",
       "version_major": 2,
       "version_minor": 0
      },
      "text/plain": [
       "tokenizer_config.json: 0.00B [00:00, ?B/s]"
      ]
     },
     "metadata": {},
     "output_type": "display_data"
    },
    {
     "data": {
      "application/vnd.jupyter.widget-view+json": {
       "model_id": "4e697aeb790544ef9a7c866ee4fb8a2c",
       "version_major": 2,
       "version_minor": 0
      },
      "text/plain": [
       "tokenizer.json: 0.00B [00:00, ?B/s]"
      ]
     },
     "metadata": {},
     "output_type": "display_data"
    },
    {
     "data": {
      "application/vnd.jupyter.widget-view+json": {
       "model_id": "140436a9c56b4d3f9d12024b872010ce",
       "version_major": 2,
       "version_minor": 0
      },
      "text/plain": [
       "special_tokens_map.json: 0.00B [00:00, ?B/s]"
      ]
     },
     "metadata": {},
     "output_type": "display_data"
    },
    {
     "data": {
      "application/vnd.jupyter.widget-view+json": {
       "model_id": "5c87a0808a0e41c59ab2413fb6571d24",
       "version_major": 2,
       "version_minor": 0
      },
      "text/plain": [
       "config.json:   0%|          | 0.00/875 [00:00<?, ?B/s]"
      ]
     },
     "metadata": {},
     "output_type": "display_data"
    },
    {
     "data": {
      "application/vnd.jupyter.widget-view+json": {
       "model_id": "6ec4371ff5c34ebda5ba26921bf1e508",
       "version_major": 2,
       "version_minor": 0
      },
      "text/plain": [
       "model.safetensors:   0%|          | 0.00/1.47G [00:00<?, ?B/s]"
      ]
     },
     "metadata": {},
     "output_type": "display_data"
    },
    {
     "data": {
      "application/vnd.jupyter.widget-view+json": {
       "model_id": "ef24d6932b30451ca3420cf4f11eb5fe",
       "version_major": 2,
       "version_minor": 0
      },
      "text/plain": [
       "generation_config.json:   0%|          | 0.00/142 [00:00<?, ?B/s]"
      ]
     },
     "metadata": {},
     "output_type": "display_data"
    }
   ],
   "source": [
    "from transformers import AutoTokenizer, AutoModelForSeq2SeqLM\n",
    "\n",
    "# Load model and tokenizer\n",
    "tokenizer = AutoTokenizer.from_pretrained(\"PRAli22/arat5-arabic-dialects-translation\")\n",
    "model = AutoModelForSeq2SeqLM.from_pretrained(\"PRAli22/arat5-arabic-dialects-translation\")"
   ]
  },
  {
   "cell_type": "code",
   "execution_count": null,
   "metadata": {
    "colab": {
     "base_uri": "https://localhost:8080/"
    },
    "id": "4QkLPvZ-uhIv",
    "outputId": "c539a429-5320-4a3e-9677-11d240de2945"
   },
   "outputs": [
    {
     "name": "stderr",
     "output_type": "stream",
     "text": [
      "Asking to truncate to max_length but no maximum length is provided and the model has no predefined maximum length. Default to no truncation.\n"
     ]
    },
    {
     "name": "stdout",
     "output_type": "stream",
     "text": [
      "Dialect: ؟ شخبارك\n",
      "MSA: الترجمة. كيف حالك ؟\n",
      "------------------------------------------------------------\n",
      "Dialect: كيف حالك؟\n",
      "MSA: الترجمة. كيف حالك ؟\n",
      "------------------------------------------------------------\n",
      "Dialect: أنا مشغول اليوم\n",
      "MSA: مترجم : أنا مشغول اليوم\n",
      "------------------------------------------------------------\n",
      "Dialect: وين كنت امس؟\n",
      "MSA: مترجم. أين كنت الليلة الماضية ؟\n",
      "------------------------------------------------------------\n",
      "Dialect: الجو حار جدا اليوم\n",
      "MSA: مترجم : الجو حار جدا اليوم\n",
      "------------------------------------------------------------\n",
      "Dialect: شلونك\n",
      "MSA: مترجم. كيف حالك ؟\n",
      "------------------------------------------------------------\n",
      "Dialect: ازيك\n",
      "MSA: مترجم. مرحباً\n",
      "------------------------------------------------------------\n",
      "Dialect: وايد\n",
      "MSA: الترجمة : كثيرة جدا\n",
      "------------------------------------------------------------\n",
      "Dialect: كفو\n",
      "MSA: الترجمة : جيدة\n",
      "------------------------------------------------------------\n",
      "Dialect: دق علي\n",
      "MSA: الترجمة : اتصل بي\n",
      "------------------------------------------------------------\n",
      "Dialect: وش تبي\n",
      "MSA: الترجمة : ماذا تريد\n",
      "------------------------------------------------------------\n",
      "Dialect:  الله يصلح حالك\n",
      "MSA: مترجم. أصلح الله حالك.\n",
      "------------------------------------------------------------\n",
      "Dialect: سنع\n",
      "MSA: الترجمة : نعم\n",
      "------------------------------------------------------------\n",
      "Dialect: منقود\n",
      "MSA: الترجمة : منقولة\n",
      "------------------------------------------------------------\n",
      "Dialect: اونه\n",
      "MSA: الترجمة هنا\n",
      "------------------------------------------------------------\n"
     ]
    }
   ],
   "source": [
    "\n",
    "# Arabic sentences list\n",
    "arabic_sentences = [\n",
    "    \"؟ شخبارك\",          # Gulf dialect\n",
    "    \"كيف حالك؟\",          # MSA\n",
    "    \"أنا مشغول اليوم\",     # I'm busy today\n",
    "    \"وين كنت امس؟\",        # Where were you yesterday? (dialect)\n",
    "    \"الجو حار جدا اليوم\"   # The weather is very hot today\n",
    "    , \"شلونك\"\n",
    "    , \"ازيك\"\n",
    "     , \"وايد\"\n",
    "     , \"كفو\"\n",
    "     , \"دق علي\"\n",
    "     , \"وش تبي\"\n",
    "     , \" الله يصلح حالك\"\n",
    "     , \"سنع\"\n",
    "     , \"منقود\"\n",
    "     , \"اونه\"\n",
    "]\n",
    "\n",
    "# Translate each sentence\n",
    "translations = []\n",
    "for sentence in arabic_sentences:\n",
    "    # Format input as expected by T5 (e.g., \"translate: وش اخبارك\")\n",
    "    input_text = f\"translate: {sentence}\"\n",
    "    inputs = tokenizer(input_text, return_tensors=\"pt\", padding=True, truncation=True)\n",
    "\n",
    "    generated = model.generate(**inputs)\n",
    "    translation = tokenizer.decode(generated[0], skip_special_tokens=True)\n",
    "    translations.append(translation)\n",
    "\n",
    "# Show results\n",
    "for ar, ar2 in zip(arabic_sentences, translations):\n",
    "    print(f\"Dialect: {ar}\")\n",
    "    print(f\"MSA: {ar2}\")\n",
    "    print(\"-\" * 60)\n"
   ]
  },
  {
   "cell_type": "code",
   "execution_count": null,
   "metadata": {
    "colab": {
     "background_save": true,
     "referenced_widgets": [
      "513670cbe64c4694948b0275f2acd003",
      "d1f9dde3ffa847f4b8a6f95d2c6f7c6f",
      "81509bb09e6b46f3b29a384af993202c",
      "8d6d4b90a6de493186f31ae64888b44f",
      "7b3ef21ce0aa499f83b05360642bc395",
      "d2f5308f497f4065b362df162d42b344",
      "4945a858e3284189885403482c91a94a",
      "5baaa0e0e27548a1809e903d67062736"
     ]
    },
    "id": "0bJuqQLYvoMU",
    "outputId": "3f7c2dcc-5e1a-4788-f5b2-b49efd2833e1"
   },
   "outputs": [
    {
     "data": {
      "application/vnd.jupyter.widget-view+json": {
       "model_id": "513670cbe64c4694948b0275f2acd003",
       "version_major": 2,
       "version_minor": 0
      },
      "text/plain": [
       "tokenizer_config.json:   0%|          | 0.00/298 [00:00<?, ?B/s]"
      ]
     },
     "metadata": {},
     "output_type": "display_data"
    },
    {
     "data": {
      "application/vnd.jupyter.widget-view+json": {
       "model_id": "d1f9dde3ffa847f4b8a6f95d2c6f7c6f",
       "version_major": 2,
       "version_minor": 0
      },
      "text/plain": [
       "config.json:   0%|          | 0.00/908 [00:00<?, ?B/s]"
      ]
     },
     "metadata": {},
     "output_type": "display_data"
    },
    {
     "data": {
      "application/vnd.jupyter.widget-view+json": {
       "model_id": "81509bb09e6b46f3b29a384af993202c",
       "version_major": 2,
       "version_minor": 0
      },
      "text/plain": [
       "vocab.json: 0.00B [00:00, ?B/s]"
      ]
     },
     "metadata": {},
     "output_type": "display_data"
    },
    {
     "data": {
      "application/vnd.jupyter.widget-view+json": {
       "model_id": "8d6d4b90a6de493186f31ae64888b44f",
       "version_major": 2,
       "version_minor": 0
      },
      "text/plain": [
       "sentencepiece.bpe.model:   0%|          | 0.00/2.42M [00:00<?, ?B/s]"
      ]
     },
     "metadata": {},
     "output_type": "display_data"
    },
    {
     "data": {
      "application/vnd.jupyter.widget-view+json": {
       "model_id": "7b3ef21ce0aa499f83b05360642bc395",
       "version_major": 2,
       "version_minor": 0
      },
      "text/plain": [
       "special_tokens_map.json: 0.00B [00:00, ?B/s]"
      ]
     },
     "metadata": {},
     "output_type": "display_data"
    },
    {
     "data": {
      "application/vnd.jupyter.widget-view+json": {
       "model_id": "d2f5308f497f4065b362df162d42b344",
       "version_major": 2,
       "version_minor": 0
      },
      "text/plain": [
       "pytorch_model.bin:   0%|          | 0.00/1.94G [00:00<?, ?B/s]"
      ]
     },
     "metadata": {},
     "output_type": "display_data"
    },
    {
     "data": {
      "application/vnd.jupyter.widget-view+json": {
       "model_id": "4945a858e3284189885403482c91a94a",
       "version_major": 2,
       "version_minor": 0
      },
      "text/plain": [
       "model.safetensors:   0%|          | 0.00/1.94G [00:00<?, ?B/s]"
      ]
     },
     "metadata": {},
     "output_type": "display_data"
    },
    {
     "data": {
      "application/vnd.jupyter.widget-view+json": {
       "model_id": "5baaa0e0e27548a1809e903d67062736",
       "version_major": 2,
       "version_minor": 0
      },
      "text/plain": [
       "generation_config.json:   0%|          | 0.00/233 [00:00<?, ?B/s]"
      ]
     },
     "metadata": {},
     "output_type": "display_data"
    }
   ],
   "source": [
    "# Step 2: Load Arabic → English model (M2M100)\n",
    "en_tokenizer = AutoTokenizer.from_pretrained(\"facebook/m2m100_418M\")\n",
    "en_model = AutoModelForSeq2SeqLM.from_pretrained(\"facebook/m2m100_418M\")"
   ]
  },
  {
   "cell_type": "code",
   "execution_count": null,
   "metadata": {
    "id": "v5renYk8xptg"
   },
   "outputs": [],
   "source": [
    "\n",
    "final_translations = []\n",
    "\n",
    "for original_ar, ar2 in zip(arabic_sentences, translations):\n",
    "    # Set the source language for Arabic\n",
    "    en_tokenizer.src_lang = \"ar\"\n",
    "\n",
    "    # Tokenize MSA sentence (ar2) and translate to English\n",
    "    en_inputs = en_tokenizer(ar2, return_tensors=\"pt\")\n",
    "    output_ids = en_model.generate(**en_inputs, forced_bos_token_id=en_tokenizer.get_lang_id(\"en\"))\n",
    "    english = en_tokenizer.decode(output_ids[0], skip_special_tokens=True)\n",
    "\n",
    "    final_translations.append((original_ar, ar2, english))\n",
    "\n",
    "# Nicely print the 3 steps: Dialect → MSA → English\n",
    "print(\"Dialect → MSA → English\\n\" + \"=\"*40)\n",
    "for dialect, msa, en in final_translations:\n",
    "    print(f\"Dialect: {dialect}\")\n",
    "    print(f\"MSA: {msa}\")\n",
    "    print(f\"English translation: {en}\")\n",
    "    print(\"-\" * 60)\n"
   ]
  },
  {
   "cell_type": "code",
   "execution_count": 1,
   "metadata": {
    "colab": {
     "base_uri": "https://localhost:8080/"
    },
    "id": "FH-49BlBooPH",
    "outputId": "72a695d4-4337-4caf-b673-2b27cd5996f2"
   },
   "outputs": [
    {
     "name": "stderr",
     "output_type": "stream",
     "text": [
      "[nltk_data] Downloading package punkt to /root/nltk_data...\n",
      "[nltk_data]   Unzipping tokenizers/punkt.zip.\n"
     ]
    },
    {
     "data": {
      "text/plain": [
       "True"
      ]
     },
     "execution_count": 1,
     "metadata": {},
     "output_type": "execute_result"
    }
   ],
   "source": [
    "from transformers import AutoTokenizer, AutoModelForSeq2SeqLM\n",
    "from nltk.translate.bleu_score import sentence_bleu, SmoothingFunction\n",
    "import nltk\n",
    "\n",
    "# Download punkt for tokenization used by nltk BLEU\n",
    "nltk.download(\"punkt\")"
   ]
  },
  {
   "cell_type": "code",
   "execution_count": 2,
   "metadata": {
    "id": "b4warMXGooTy"
   },
   "outputs": [],
   "source": [
    "# -----------------------------------------------\n",
    "#  Step 1: Input Data (Dialect + English Reference)\n",
    "# -----------------------------------------------\n",
    "dialect_pairs = [\n",
    "    (\"شلونك اليوم؟ شخبارك؟ إن شاء الله أمورك طيبة وما فيه تعب.\",\n",
    "     \"How are you today? Hope you're doing well and not too tired.\"),\n",
    "    (\"كيف حالك اليوم؟ أتمنى أن تكون بخير وفي أحسن حال.\",\n",
    "     \"How are you today? I hope you're well and in great condition.\"),\n",
    "    (\"أنا مشغول اليوم من الصبح، كان عندي دوام وشغل كثير.\",\n",
    "     \"I've been busy since this morning, had work and a lot to do.\"),\n",
    "    (\"وين كنت امس؟ حاولت أتواصل معك بس ما رديت علي.\",\n",
    "     \"Where were you yesterday? I tried to reach you but you didn’t answer.\"),\n",
    "    (\"الجو حار جدا اليوم، ما أقدر أطلع من البيت بدون تكييف.\",\n",
    "     \"It's extremely hot today, I can't leave the house without the AC.\"),\n",
    "    (\"شلونك يا خوي؟ من زمان ما سمعنا صوتك.\",\n",
    "     \"How are you, brother? We haven’t heard from you in a while.\"),\n",
    "    (\"ازيك يا صاحبي؟ أخبارك إيه؟ وحشتني والله.\",\n",
    "     \"How are you, my friend? What’s up? I really missed you.\"),\n",
    "    (\"وايد زحمة اليوم في الشارع، ما قدرت أوصل بسرعة.\",\n",
    "     \"It was really crowded on the streets today, I couldn’t arrive quickly.\"),\n",
    "    (\"كفو والله! سويت اللي ما قدر عليه غيرك.\",\n",
    "     \"Well done! You did what no one else could.\"),\n",
    "    (\"دق علي لما توصل عشان أجيك عند الباب.\",\n",
    "     \"Call me when you arrive so I can come meet you at the door.\"),\n",
    "    (\"وش تبي بالضبط؟ تكلم واضح عشان أفهم عليك.\",\n",
    "     \"What exactly do you want? Speak clearly so I can understand you.\"),\n",
    "    (\"الله يصلح حالك ويهدي بالك، ما يصير كذا تزعل الناس.\",\n",
    "     \"May God guide you and calm your mind. You can’t go around upsetting people like that.\"),\n",
    "    (\"الرجال هذا سنع، يعرف كيف يرتب أموره.\",\n",
    "     \"This guy is reliable, he knows how to handle his stuff.\"),\n",
    "    (\"منقود هالكلمة من زمان ما سمعتها، تذكرني بأيام زمان.\",\n",
    "     \"It’s been a long time since I heard that word 'manqood'. It reminds me of the old days.\"),\n",
    "    (\"اونه يبي يساعد، بس كل مرة يسحب علينا بدون ما يقول.\",\n",
    "     \"He *says* he wants to help, but every time he bails on us without a word.\")\n",
    "]\n",
    "\n",
    "arabic_dialect_sentences = [pair[0] for pair in dialect_pairs]\n",
    "reference_english = [pair[1] for pair in dialect_pairs]\n",
    "\n"
   ]
  },
  {
   "cell_type": "code",
   "execution_count": 3,
   "metadata": {
    "colab": {
     "base_uri": "https://localhost:8080/",
     "height": 569,
     "referenced_widgets": [
      "b1beaaf389f145678f871422d602eeda",
      "8fd4cbba75d74bc985f2f02dd71b356a",
      "8355fd7428154d038a91ac6601a3b8ff",
      "df7c72df7e0a454db7fbccdf1cb3bd29",
      "36be1430d2c7400c919241de4b5c681a",
      "c88fa2a909f243c683ca86cd6d923682",
      "4f696869d5f9417caab10718340ade8b",
      "d7a6317cc45e49aaa1fcbb5245f388b9",
      "d307b2ecdc104596b1d68a6b59fc42b3",
      "e974d9cbe5bf4cebb995bf61f5a1965a",
      "ad4b9d3c2c85416bb1a53358d6bc4a4b",
      "fe0bb33f6d8545d2bf15465cb8f5060a",
      "c17d92fe19384296ae63cb4acf6c079b",
      "580e433a2bcb4cafbb4c4b07a49b5ea3",
      "74326581a5604b8e8b11c5ef5ea6990c",
      "e7f71f318b2f43a8bf5ddd0e2b9662a0",
      "73e57e3800674c9181961131b5eeb09f",
      "09e3605b19a24009b4a8794b233f3d73",
      "0ca0a25d94204245965e528c11ee309e",
      "0b34626583c647329476ebab79290b76",
      "76c5d2a799184d6bb095a2f9c54dccca",
      "cfaa40aa7d174c869186b2a588cafc21",
      "6e9a95bdf7b34dd4a565f0543140ffc4",
      "02f17f489e7b4f63beb5eb989186ad9b",
      "8abab54942ea4569a1bb776e4758fc4e",
      "9ac1689e0a8f438d8587e2b0bf90efff",
      "f439e52d00084c2cb0010b99d15496ea",
      "60902fab4ffc44ffa56338db4eadb3a4",
      "7bada0f968c2463f95c4886b6d8434ec",
      "db50278e8a2b40cfa3fc465b95e2130d",
      "feb54b4e2e8445e197e470f5a9f4c6bc",
      "e9d7ebc3e0ba48f68081d63cfe25cfe9",
      "f13aac66354b491680864f3f5429972e",
      "aa043cc4d8d04deda884e082e0e33151",
      "3ed1c1dcc6824cfa9843827dfebd66d0",
      "2893f62017d64e959fbb447da019b174",
      "057c164a384b475c9ae9eeb07a523152",
      "9400407aae674f3a853592df745888b6",
      "d64052a6df254979bd50498d42d5d40e",
      "fc888d231fba4dd692114e0b00899d75",
      "cf8f72b9eed048129a7f1852cf681671",
      "461e0ea11f27416b9619a8051e2c40db",
      "35209ad3f4104f71aed9dd522dd56f0a",
      "48c7cbbfa2d84afa881f11fd032dc5d2",
      "2daba2864a044bdeaa5bea8169df7cbf",
      "cf74b2609be94495bd3164de810677b9",
      "f91f31618cfe483e83feaa7c7ce501de",
      "c86feb2e3ac944dbb74efe3b6fc9ce0a",
      "9358fd26b9c1434784ae8ba225a665c8",
      "21c67b99085144f58856caa53af7b71c",
      "9fa485203c234919b586428d90a944a3",
      "aa6a9343e9c247f7bfd340532b9a8335",
      "1b101c1fbea54533bc009560d500e4c1",
      "d8384c13bc3d42959bb2618a1d163abc",
      "be0f4cb284fc4506b98c01e527e179ce",
      "71cfa726cc0042678a4ffd7b9a215636",
      "6ce57ad716d5410cbb2e8b1ebf88b0eb",
      "3274b1e1b2b349ee82bdcbb4f3ccae4b",
      "9b0c6601cdfe47b08c3c41f4978230d5",
      "daf8a1e117f64fcca47050bbda1fa76b",
      "fe136bd739654de09a222a2499dc24a9",
      "4fed997b74ac440b9a6df81cfd6669f8",
      "e98d41a2246a4407abc179253f89a377",
      "8531df6690b049dbbe10706a03715c1a",
      "ab37742b0df042b8ab860bca8aa418dc",
      "78940e10c46b4aa3bad8f526b16fd21d",
      "1b49fc0d0e244780acf20c9372017e03",
      "876db1d71e4d4aaf8234a7d1314c02c7",
      "82c62a6d1a6c42a7bfa32085f0cc2e14",
      "8320cf876b5a4a639cbb01157e1d5271",
      "f4e4ea3d0c5f42a7aa9aa054c4e0eaf3",
      "446490e819ae4ceead9e55ea56592bad",
      "9dc684b69ed243cba6b3ede8316fd2a5",
      "346f2a94147f4b5e8353fe31a82ba504",
      "191e77afb24d48fb9fd3bc2fc3b3f855",
      "dbda7a3e6686498aba6c006550b404a8",
      "396b7b1f83b24f5685def349696cccff",
      "71fe643396ca42feb110b398fb10783c",
      "bee56d4267c3491dbe3b368f86baf971",
      "60124193280a4f0696d181c35fa04020",
      "162f7879b7754c99a1171b6b7458c36a",
      "f8f551fa292d475ca4ea9408f0c1f8e2",
      "13c3fb5eaca54783b9430e72b424ef3d",
      "12a6ccdb7f654381b9e04dc928ef923f",
      "55fc9ec4936d447d9ac14f4c1c36f08f",
      "b5a271a5fd10435ca564421bf1238f53",
      "973f9be71c6841b885479f325cfea04d",
      "d158dd5a963a43f69f58aa3070cf42d0",
      "bfd0465a033e4b8895aa61e8c321f710",
      "88dd1dede70241f79ef8061495f723ef",
      "aff676f5738f457d9a199809bc663139",
      "c248b7309e3d4a5284ca6aee571ed937",
      "adcf6678cbf346d3bdc01a12a9cad952",
      "a79b53b84ded4cecaef59d1a2d59938e",
      "79b674a8541b4db0b1cd9a934939a13f",
      "280ba9aac7ba4176b3289a884918286a",
      "cbcaedaa96e94db4a41c2edb91e58fdc",
      "c07681a6cd834cd9a7f70f0514d33bea",
      "c089064dacf94d11afbeec0b1ba4bfaa",
      "71ff7bad56eb4a55adda50f1a4d88e98",
      "6137d461722d48deb6f314783c35471d",
      "3b83e0be86f84807ba6ddb776cbf4b5e",
      "74dbd8babbea4e40938bb4f284d939b3",
      "70e4a08ee7a14498ae48ce86858e3457",
      "963ffc755c244b59860d09049e68261f",
      "1905e507d53d4f26b0c4251bf8d75a87",
      "c9cfa406704a4d369e1f311fdc4f7ae2",
      "d47fb25bce8d4ab6b88159d6f29d3655",
      "5f831705eae84afa856d9d8cf7559109",
      "912e693352f947d286e5628eb8c76b84",
      "7ed5d623d007405cbbeeb85e8222ee07",
      "917a0169add0435ea460c2a32704c1ff",
      "64595c68d1fb47ccb0ad08caf8dd7183",
      "56c304a15f2d431da0e3ff0b0a970523",
      "28da13e7138c4c22aa5078d79e51093e",
      "0689e20fcfa743478316e8ea221b55bf",
      "b496ac729b6c470f823a301ae83affaf",
      "6872cdf5c2024a6b9da99533d13d5704",
      "269a3daad3414a15b92f232cb59aed23",
      "9b32d48f7fe34f6d9fbb785983f39c3c",
      "f92775f346a447878f2b081095ffb127",
      "64a2e1648274475a82df0361ce7fa28c",
      "b9fd4c40e7ce4913a28f92de41fcdbfd",
      "ce468a26f93a47e3879d178f935b505b",
      "ca1b98f20a134fd6b96391df98a67d10",
      "d9f90131e0af4541b404cc708ff03660",
      "2c0e4fc4fe084d85973b1d82df0ccbbe",
      "fd5790f9212541c88668914c95773a3c",
      "1f86e81d3fb746b785441442d47e5cdd",
      "679ff94d5400421582feca747e7d2cd9",
      "f648bd2660c0405eaeeb84183aac557b",
      "814da36b95d9408aa5021184115b864a",
      "2f5cb3e606f545af92104b4f4118a87c",
      "78c87d933bbf4e54b2a225dbc34c1603",
      "9d31111d40de4bdd883faca1ab6bffe9",
      "38d1a4382c304fb6974d33b0a1bec46a",
      "76a0b3a0643c49e49062812d0281086a",
      "674fda70bb044d0586856a37694c92ef",
      "8cc8c714edf24f799350ac7a37572105",
      "2994fd7aab2348e2a4c37d080dd39a87",
      "4b2130e30f324bab886fb19d01526357",
      "5654a6f3b0984a56bd5cbccf5ec62f39",
      "7a01ed2a5b5b4a5b82446532cc579b27",
      "f73b0613a599429c8a572584b74cea7b",
      "d7ceb1c886ae40dd82fad5afda2c03da",
      "034a96213d374377aecd4fec2ed38d84",
      "720832781b2543369ca255f2c98da4c9",
      "fb7fa55c048e4b93916aad3a9095a0f4",
      "3efbc38307f5482c84c4504dc89c57c2",
      "c4a8c6e28c604770bb56d6249a20d92f",
      "740a92872c7941f898f6ce7de35d8a6e",
      "c127de7b27144540b660cfa27c35f1dc",
      "847c3f06deef44118d707e49c7154716",
      "088af090ffe74436a1483da3c5a0d780"
     ]
    },
    "id": "XZAZCCC4ooXt",
    "outputId": "e469174c-2fc1-45e4-87f0-56afde694084"
   },
   "outputs": [
    {
     "name": "stderr",
     "output_type": "stream",
     "text": [
      "/usr/local/lib/python3.11/dist-packages/huggingface_hub/utils/_auth.py:94: UserWarning: \n",
      "The secret `HF_TOKEN` does not exist in your Colab secrets.\n",
      "To authenticate with the Hugging Face Hub, create a token in your settings tab (https://huggingface.co/settings/tokens), set it as secret in your Google Colab and restart your session.\n",
      "You will be able to reuse this secret in all of your notebooks.\n",
      "Please note that authentication is recommended but still optional to access public models or datasets.\n",
      "  warnings.warn(\n"
     ]
    },
    {
     "data": {
      "application/vnd.jupyter.widget-view+json": {
       "model_id": "b1beaaf389f145678f871422d602eeda",
       "version_major": 2,
       "version_minor": 0
      },
      "text/plain": [
       "tokenizer_config.json: 0.00B [00:00, ?B/s]"
      ]
     },
     "metadata": {},
     "output_type": "display_data"
    },
    {
     "data": {
      "application/vnd.jupyter.widget-view+json": {
       "model_id": "fe0bb33f6d8545d2bf15465cb8f5060a",
       "version_major": 2,
       "version_minor": 0
      },
      "text/plain": [
       "tokenizer.json: 0.00B [00:00, ?B/s]"
      ]
     },
     "metadata": {},
     "output_type": "display_data"
    },
    {
     "data": {
      "application/vnd.jupyter.widget-view+json": {
       "model_id": "6e9a95bdf7b34dd4a565f0543140ffc4",
       "version_major": 2,
       "version_minor": 0
      },
      "text/plain": [
       "special_tokens_map.json: 0.00B [00:00, ?B/s]"
      ]
     },
     "metadata": {},
     "output_type": "display_data"
    },
    {
     "data": {
      "application/vnd.jupyter.widget-view+json": {
       "model_id": "aa043cc4d8d04deda884e082e0e33151",
       "version_major": 2,
       "version_minor": 0
      },
      "text/plain": [
       "config.json:   0%|          | 0.00/875 [00:00<?, ?B/s]"
      ]
     },
     "metadata": {},
     "output_type": "display_data"
    },
    {
     "data": {
      "application/vnd.jupyter.widget-view+json": {
       "model_id": "2daba2864a044bdeaa5bea8169df7cbf",
       "version_major": 2,
       "version_minor": 0
      },
      "text/plain": [
       "model.safetensors:   0%|          | 0.00/1.47G [00:00<?, ?B/s]"
      ]
     },
     "metadata": {},
     "output_type": "display_data"
    },
    {
     "data": {
      "application/vnd.jupyter.widget-view+json": {
       "model_id": "71cfa726cc0042678a4ffd7b9a215636",
       "version_major": 2,
       "version_minor": 0
      },
      "text/plain": [
       "generation_config.json:   0%|          | 0.00/142 [00:00<?, ?B/s]"
      ]
     },
     "metadata": {},
     "output_type": "display_data"
    },
    {
     "data": {
      "application/vnd.jupyter.widget-view+json": {
       "model_id": "1b49fc0d0e244780acf20c9372017e03",
       "version_major": 2,
       "version_minor": 0
      },
      "text/plain": [
       "tokenizer_config.json:   0%|          | 0.00/298 [00:00<?, ?B/s]"
      ]
     },
     "metadata": {},
     "output_type": "display_data"
    },
    {
     "data": {
      "application/vnd.jupyter.widget-view+json": {
       "model_id": "71fe643396ca42feb110b398fb10783c",
       "version_major": 2,
       "version_minor": 0
      },
      "text/plain": [
       "config.json:   0%|          | 0.00/908 [00:00<?, ?B/s]"
      ]
     },
     "metadata": {},
     "output_type": "display_data"
    },
    {
     "data": {
      "application/vnd.jupyter.widget-view+json": {
       "model_id": "bfd0465a033e4b8895aa61e8c321f710",
       "version_major": 2,
       "version_minor": 0
      },
      "text/plain": [
       "vocab.json: 0.00B [00:00, ?B/s]"
      ]
     },
     "metadata": {},
     "output_type": "display_data"
    },
    {
     "data": {
      "application/vnd.jupyter.widget-view+json": {
       "model_id": "71ff7bad56eb4a55adda50f1a4d88e98",
       "version_major": 2,
       "version_minor": 0
      },
      "text/plain": [
       "sentencepiece.bpe.model:   0%|          | 0.00/2.42M [00:00<?, ?B/s]"
      ]
     },
     "metadata": {},
     "output_type": "display_data"
    },
    {
     "data": {
      "application/vnd.jupyter.widget-view+json": {
       "model_id": "7ed5d623d007405cbbeeb85e8222ee07",
       "version_major": 2,
       "version_minor": 0
      },
      "text/plain": [
       "special_tokens_map.json: 0.00B [00:00, ?B/s]"
      ]
     },
     "metadata": {},
     "output_type": "display_data"
    },
    {
     "data": {
      "application/vnd.jupyter.widget-view+json": {
       "model_id": "64a2e1648274475a82df0361ce7fa28c",
       "version_major": 2,
       "version_minor": 0
      },
      "text/plain": [
       "pytorch_model.bin:   0%|          | 0.00/1.94G [00:00<?, ?B/s]"
      ]
     },
     "metadata": {},
     "output_type": "display_data"
    },
    {
     "data": {
      "application/vnd.jupyter.widget-view+json": {
       "model_id": "2f5cb3e606f545af92104b4f4118a87c",
       "version_major": 2,
       "version_minor": 0
      },
      "text/plain": [
       "model.safetensors:   0%|          | 0.00/1.94G [00:00<?, ?B/s]"
      ]
     },
     "metadata": {},
     "output_type": "display_data"
    },
    {
     "data": {
      "application/vnd.jupyter.widget-view+json": {
       "model_id": "f73b0613a599429c8a572584b74cea7b",
       "version_major": 2,
       "version_minor": 0
      },
      "text/plain": [
       "generation_config.json:   0%|          | 0.00/233 [00:00<?, ?B/s]"
      ]
     },
     "metadata": {},
     "output_type": "display_data"
    }
   ],
   "source": [
    "\n",
    "# -----------------------------------------------\n",
    "#  Step 2: Load Models\n",
    "# -----------------------------------------------\n",
    "\n",
    "# Dialect → MSA model\n",
    "dialect_tokenizer = AutoTokenizer.from_pretrained(\"PRAli22/arat5-arabic-dialects-translation\")\n",
    "dialect_model = AutoModelForSeq2SeqLM.from_pretrained(\"PRAli22/arat5-arabic-dialects-translation\")\n",
    "\n",
    "# MSA → English model\n",
    "en_tokenizer = AutoTokenizer.from_pretrained(\"facebook/m2m100_418M\")\n",
    "en_model = AutoModelForSeq2SeqLM.from_pretrained(\"facebook/m2m100_418M\")\n",
    "en_tokenizer.src_lang = \"ar\"\n"
   ]
  },
  {
   "cell_type": "code",
   "execution_count": 4,
   "metadata": {
    "colab": {
     "base_uri": "https://localhost:8080/",
     "height": 1000
    },
    "id": "-OtoRVhroob2",
    "outputId": "fe234f87-d4c2-4726-e4e7-3985efd51303"
   },
   "outputs": [
    {
     "name": "stderr",
     "output_type": "stream",
     "text": [
      "Asking to truncate to max_length but no maximum length is provided and the model has no predefined maximum length. Default to no truncation.\n"
     ]
    },
    {
     "name": "stdout",
     "output_type": "stream",
     "text": [
      "🔁 Translating from Dialect → MSA → English with BLEU Evaluation\n",
      "\n",
      "🟧 Example #1\n",
      "🟡 Dialect:    شلونك اليوم؟ شخبارك؟ إن شاء الله أمورك طيبة وما فيه تعب.\n",
      "🟢 MSA:        مترجم. كيف حالك ؟ أتمنى لك يوماً سعيداً.\n",
      "🔵 Predicted:  How do you feel? I wish you a good day.\n",
      "🔴 Reference:  How are you today? Hope you're doing well and not too tired.\n",
      "🎯 BLEU:       0.0228\n",
      "----------------------------------------------------------------------------------------------------\n",
      "🟧 Example #2\n",
      "🟡 Dialect:    كيف حالك اليوم؟ أتمنى أن تكون بخير وفي أحسن حال.\n",
      "🟢 MSA:        مترجم. كيف حالك اليوم ؟ أتمنى لك يوماً سعيداً.\n",
      "🔵 Predicted:  How do you feel today? I wish you a good day.\n",
      "🔴 Reference:  How are you today? I hope you're well and in great condition.\n",
      "🎯 BLEU:       0.0564\n",
      "----------------------------------------------------------------------------------------------------\n",
      "🟧 Example #3\n",
      "🟡 Dialect:    أنا مشغول اليوم من الصبح، كان عندي دوام وشغل كثير.\n",
      "🟢 MSA:        الترجمة. أنا مشغول اليوم ، ولقد قضيت وقتاً طويلاً في العمل.\n",
      "🔵 Predicted:  I’m busy today, and I’ve spent a long time working.\n",
      "🔴 Reference:  I've been busy since this morning, had work and a lot to do.\n",
      "🎯 BLEU:       0.0229\n",
      "----------------------------------------------------------------------------------------------------\n",
      "🟧 Example #4\n",
      "🟡 Dialect:    وين كنت امس؟ حاولت أتواصل معك بس ما رديت علي.\n",
      "🟢 MSA:        الترجمة. أين كنت الليلة الماضية ؟ حاولت الاتصال بك لكن لم يرد أحد.\n",
      "🔵 Predicted:  I tried to contact you but no one answered.\n",
      "🔴 Reference:  Where were you yesterday? I tried to reach you but you didn’t answer.\n",
      "🎯 BLEU:       0.1165\n",
      "----------------------------------------------------------------------------------------------------\n",
      "🟧 Example #5\n",
      "🟡 Dialect:    الجو حار جدا اليوم، ما أقدر أطلع من البيت بدون تكييف.\n",
      "🟢 MSA:        مترجم. الطقس حار جداً اليوم ، لذا لا أستطيع الخروج من المنزل بدون تكييف هواء.\n",
      "🔵 Predicted:  The weather is very hot today, so I can’t get out of the house without air conditioning.\n",
      "🔴 Reference:  It's extremely hot today, I can't leave the house without the AC.\n",
      "🎯 BLEU:       0.0972\n",
      "----------------------------------------------------------------------------------------------------\n",
      "🟧 Example #6\n",
      "🟡 Dialect:    شلونك يا خوي؟ من زمان ما سمعنا صوتك.\n",
      "🟢 MSA:        مترجم. كيف حالك يا أخي ؟ لم نسمع صوتك من قبل.\n",
      "🔵 Predicted:  How do you feel, my brother? we haven’t heard your voice before.\n",
      "🔴 Reference:  How are you, brother? We haven’t heard from you in a while.\n",
      "🎯 BLEU:       0.0600\n",
      "----------------------------------------------------------------------------------------------------\n",
      "🟧 Example #7\n",
      "🟡 Dialect:    ازيك يا صاحبي؟ أخبارك إيه؟ وحشتني والله.\n",
      "🟢 MSA:        مترجم. كيف حالك يا صديقي ؟ كيف حالك ؟ إنني مشتاق لك كثيراً.\n",
      "🔵 Predicted:  How are you? how are you? how are you? how are you? how are you? how are you?\n",
      "🔴 Reference:  How are you, my friend? What’s up? I really missed you.\n",
      "🎯 BLEU:       0.0327\n",
      "----------------------------------------------------------------------------------------------------\n",
      "🟧 Example #8\n",
      "🟡 Dialect:    وايد زحمة اليوم في الشارع، ما قدرت أوصل بسرعة.\n",
      "🟢 MSA:        الترجمة. إن الشارع مزدحم جدا اليوم ، لذلك لا أستطيع السير بسرعة.\n",
      "🔵 Predicted:  The street is too busy today, so I can’t walk quickly.\n",
      "🔴 Reference:  It was really crowded on the streets today, I couldn’t arrive quickly.\n",
      "🎯 BLEU:       0.0260\n",
      "----------------------------------------------------------------------------------------------------\n",
      "🟧 Example #9\n",
      "🟡 Dialect:    كفو والله! سويت اللي ما قدر عليه غيرك.\n",
      "🟢 MSA:        الترجمة. رائع ، لقد فعلت ما لم يفعله أحد من قبلك.\n",
      "🔵 Predicted:  Great, I did what no one did before you.\n",
      "🔴 Reference:  Well done! You did what no one else could.\n",
      "🎯 BLEU:       0.2985\n",
      "----------------------------------------------------------------------------------------------------\n",
      "🟧 Example #10\n",
      "🟡 Dialect:    دق علي لما توصل عشان أجيك عند الباب.\n",
      "🟢 MSA:        الترجمة. اتصل بي عندما تصل إلى البوابة.\n",
      "🔵 Predicted:  Call me when you get to the gate.\n",
      "🔴 Reference:  Call me when you arrive so I can come meet you at the door.\n",
      "🎯 BLEU:       0.1727\n",
      "----------------------------------------------------------------------------------------------------\n",
      "🟧 Example #11\n",
      "🟡 Dialect:    وش تبي بالضبط؟ تكلم واضح عشان أفهم عليك.\n",
      "🟢 MSA:        الترجمة. ماذا تريد بالضبط ؟ تكلم بوضوح حتى أستطيع فهمك.\n",
      "🔵 Predicted:  What exactly do you want? speak clearly so that I can understand you.\n",
      "🔴 Reference:  What exactly do you want? Speak clearly so I can understand you.\n",
      "🎯 BLEU:       0.5266\n",
      "----------------------------------------------------------------------------------------------------\n",
      "🟧 Example #12\n",
      "🟡 Dialect:    الله يصلح حالك ويهدي بالك، ما يصير كذا تزعل الناس.\n",
      "🟢 MSA:        الترجمة. من فضلك اعتني بنفسك. لا تزعج الناس.\n",
      "🔵 Predicted:  Please take care of yourself. don't bother people.\n",
      "🔴 Reference:  May God guide you and calm your mind. You can’t go around upsetting people like that.\n",
      "🎯 BLEU:       0.0000\n",
      "----------------------------------------------------------------------------------------------------\n",
      "🟧 Example #13\n",
      "🟡 Dialect:    الرجال هذا سنع، يعرف كيف يرتب أموره.\n",
      "🟢 MSA:        مترجم. هذا الرجل لطيف, يعرف كيف ترتيب الأشياء.\n",
      "🔵 Predicted:  This guy is nice, knows how to arrange things.\n",
      "🔴 Reference:  This guy is reliable, he knows how to handle his stuff.\n",
      "🎯 BLEU:       0.1946\n",
      "----------------------------------------------------------------------------------------------------\n",
      "🟧 Example #14\n",
      "🟡 Dialect:    منقود هالكلمة من زمان ما سمعتها، تذكرني بأيام زمان.\n",
      "🟢 MSA:        الترجمة. لم أسمع هذه الكلمة من قبل. إنها تذكرني بأيام قديمة.\n",
      "🔵 Predicted:  I have never heard this word before. it reminds me of old days.\n",
      "🔴 Reference:  It’s been a long time since I heard that word 'manqood'. It reminds me of the old days.\n",
      "🎯 BLEU:       0.0937\n",
      "----------------------------------------------------------------------------------------------------\n",
      "🟧 Example #15\n",
      "🟡 Dialect:    اونه يبي يساعد، بس كل مرة يسحب علينا بدون ما يقول.\n",
      "🟢 MSA:        الترجمة. ربما يريد مساعدتنا ، لكن ليس بالضرورة أن يقول ذلك.\n",
      "🔵 Predicted:  He may want to help us, but he doesn’t necessarily say that.\n",
      "🔴 Reference:  He *says* he wants to help, but every time he bails on us without a word.\n",
      "🎯 BLEU:       0.0203\n",
      "----------------------------------------------------------------------------------------------------\n"
     ]
    }
   ],
   "source": [
    "\n",
    "# -----------------------------------------------\n",
    "# Step 3: Translate and Evaluate\n",
    "# -----------------------------------------------\n",
    "\n",
    "smoothie = SmoothingFunction().method4\n",
    "total_bleu = 0\n",
    "translations = []\n",
    "\n",
    "print(\"🔁 Translating from Dialect → MSA → English with BLEU Evaluation\\n\")\n",
    "\n",
    "for idx, (dialect, reference) in enumerate(zip(arabic_dialect_sentences, reference_english), 1):\n",
    "    # Step 1: Dialect → MSA\n",
    "    input_text = f\"translate: {dialect}\"\n",
    "    inputs = dialect_tokenizer(input_text, return_tensors=\"pt\", padding=True, truncation=True)\n",
    "    msa_output = dialect_model.generate(**inputs)\n",
    "    msa_sentence = dialect_tokenizer.decode(msa_output[0], skip_special_tokens=True)\n",
    "\n",
    "    # Step 2: MSA → English\n",
    "    en_inputs = en_tokenizer(msa_sentence, return_tensors=\"pt\")\n",
    "    en_output = en_model.generate(**en_inputs, forced_bos_token_id=en_tokenizer.get_lang_id(\"en\"))\n",
    "    en_sentence = en_tokenizer.decode(en_output[0], skip_special_tokens=True)\n",
    "    translations.append(en_sentence)\n",
    "\n",
    "    # Step 3: BLEU Evaluation\n",
    "    bleu = sentence_bleu([reference.split()], en_sentence.split(), smoothing_function=smoothie)\n",
    "    total_bleu += bleu\n",
    "\n",
    "    # Output results\n",
    "    print(f\"🟧 Example #{idx}\")\n",
    "    print(f\"🟡 Dialect:    {dialect}\")\n",
    "    print(f\"🟢 MSA:        {msa_sentence}\")\n",
    "    print(f\"🔵 Predicted:  {en_sentence}\")\n",
    "    print(f\"🔴 Reference:  {reference}\")\n",
    "    print(f\"🎯 BLEU:       {bleu:.4f}\")\n",
    "    print(\"-\" * 100)"
   ]
  },
  {
   "cell_type": "code",
   "execution_count": 5,
   "metadata": {
    "colab": {
     "base_uri": "https://localhost:8080/"
    },
    "id": "ZHmndW8Foq6K",
    "outputId": "08da7a56-1c04-4c2e-b6f4-905d347a15f3"
   },
   "outputs": [
    {
     "name": "stdout",
     "output_type": "stream",
     "text": [
      "\n",
      "🔥 Average BLEU Score: 0.1161\n"
     ]
    }
   ],
   "source": [
    "\n",
    "\n",
    "# Average BLEU Score\n",
    "avg_bleu = total_bleu / len(arabic_dialect_sentences)\n",
    "print(f\"\\n🔥 Average BLEU Score: {avg_bleu:.4f}\")\n"
   ]
  }
 ],
 "metadata": {
  "accelerator": "GPU",
  "colab": {
   "gpuType": "T4",
   "provenance": []
  },
  "kaggle": {
   "accelerator": "gpu"
  },
  "kernelspec": {
   "display_name": "Python 3",
   "name": "python3"
  },
  "language_info": {
   "name": "python"
  }
 },
 "nbformat": 4,
 "nbformat_minor": 0
}
