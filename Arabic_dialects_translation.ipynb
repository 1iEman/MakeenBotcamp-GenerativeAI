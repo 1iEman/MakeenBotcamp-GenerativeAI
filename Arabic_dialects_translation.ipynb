{
 "cells": [
  {
   "cell_type": "code",
   "execution_count": null,
   "metadata": {
    "id": "bmVkLRfas0jb"
   },
   "outputs": [],
   "source": [
    "!pip install -U transformers"
   ]
  },
  {
   "cell_type": "markdown",
   "metadata": {
    "id": "Wb5nX5Gks0jl"
   },
   "source": [
    "## Local Inference on GPU\n",
    "Model page: https://huggingface.co/PRAli22/arat5-arabic-dialects-translation\n",
    "\n",
    "⚠️ If the generated code snippets do not work, please open an issue on either the [model repo](https://huggingface.co/PRAli22/arat5-arabic-dialects-translation)\n",
    "\t\t\tand/or on [huggingface.js](https://github.com/huggingface/huggingface.js/blob/main/packages/tasks/src/model-libraries-snippets.ts) 🙏"
   ]
  },
  {
   "cell_type": "code",
   "execution_count": 1,
   "metadata": {
    "colab": {
     "base_uri": "https://localhost:8080/",
     "height": 313,
     "referenced_widgets": [
      "3bb79576df6241898ef595fa35692961",
      "a48762a78bbe43edaf280043b9c4e2e1",
      "7c16f3ab2fad47a0a16d509353bff8fe",
      "78fffd451b1d48399cca303c3d01dd7c",
      "a503181c00fa4c238bbb2f141a63ee4a",
      "1f6d5d2aae5841e6bf8c866c202fdc19",
      "baa468cede664157a7b51040341338ab",
      "3c67c48cd4f84601bab95e8b27f67b8c",
      "7a0e6901194b4aa8b443a9a4adf60e83",
      "4f37ad97b2594614a3e9bf18c7ebc1d2",
      "3cd627050a4e4a27bd9515fd1ab1a265",
      "476b1388e32b44399294f762f7785eb2",
      "35031c58b5e247f68e916781dd3d9c69",
      "54cbeeabcdae4aedb1e11bfd181fe002",
      "0fc0171332984839b6c958ba19526b60",
      "8dddb42882854d77ab4479bb64c0b390",
      "7458c005bc434da2900cbb8ddb4d23c8",
      "072b6ce911044e5188297844398447ae",
      "649099c60ba94ea8993b3761df024459",
      "b86195912b47463fa66ea4ff3bdbe8db",
      "e2b742a6afbf412bb5928b000eebc19d",
      "fed8a5d55bf948b38a6280dcde361440",
      "c169e8d30d4a40708c39a23a290698a3",
      "1da920f3c8cf439da119628013af9705",
      "0712a62a6bfd42b9992367f4011f3735",
      "7a78e65520e142c2b423f679185d0c28",
      "1ffb4facf7a14aa1b9e9c6e54950e014",
      "a4dadd8f84b544c69a13b7466c9c0421",
      "db694709458f4b92b78845d486df16a6",
      "8ec4bee874804e80b5bdf499336176e0",
      "486b8ccf04f84fabaf3dcb17d84b1f2e",
      "703e5ba1378e457694c84a0824f83653",
      "9c3812200f884165b9ff131291758f75",
      "9cc4bc225c1640ce9a85be493c7809be",
      "88f906b8220f458fbf9c310e22393a91",
      "a734b72f892a41d5bcc44ecec7246128",
      "64b60d8105a6487387973b504bbfd7ab",
      "ddb2e1c977ac43fbb7e1a4515c8896ae",
      "3490686bc9244d07aba973792ff78b0f",
      "172a8c019e134e53ae1b9fd58e720748",
      "44a1518ffae04a99b0cbee3d89a2db66",
      "b6f36a5d9aad4824bcd801eca1b95e11",
      "a4f7c837399446a799efec4575ed0a64",
      "7752baffb5ac453f9402ce2e976b3eb1",
      "873594d5d6a44ef7821afa827c8139ab",
      "0ac6a79f0c1d45529eb135792bb9883e",
      "ffe19a96694b4f38abe9a38beffaab40",
      "60c747f309594da086f4f7519ecf0253",
      "34ed4ea0cc47445eba81abcb3934c3b3",
      "68a7a125602b40b689030bafb20ec3e3",
      "8ee234f328dd49cfa33978f1bc90a15a",
      "087ddb63a3b146d3a40466d43746f626",
      "ea397650ae9d49e38b0483bbe2d2fadd",
      "197d5042f3a04814bf9b6843cd770ea1",
      "124d844bc750424397c2073b525f1281",
      "ca3131cdeac24e97b89d38aaa710b226",
      "7c85b094ec904ace9d15da2487aa97fd",
      "e8ce3ccf3403497c82ecb71bcb74b2c0",
      "b188b1a040e14776ace0cc1b7c3b38c2",
      "3da67bf1c5a949cca32a908adeeefe06",
      "4afe1dad92a4496c82fb3536d3bd9eff",
      "c11ff61c57ce4c4caea68d5c73d43e60",
      "939546401ac54797b26aec58f52a83e0",
      "6d9f577633d241b89434a97c8d63a0c0",
      "d5b664f12d5948858d4dd8833564f01d",
      "b8603e1bdec649f79c7eb4ac214be092"
     ]
    },
    "id": "s0gQFMFZuLVq",
    "outputId": "5a7cb8fd-6eec-49d6-929e-a8224b6eaad3"
   },
   "outputs": [
    {
     "metadata": {
      "tags": null
     },
     "name": "stderr",
     "output_type": "stream",
     "text": [
      "/usr/local/lib/python3.11/dist-packages/huggingface_hub/utils/_auth.py:94: UserWarning: \n",
      "The secret `HF_TOKEN` does not exist in your Colab secrets.\n",
      "To authenticate with the Hugging Face Hub, create a token in your settings tab (https://huggingface.co/settings/tokens), set it as secret in your Google Colab and restart your session.\n",
      "You will be able to reuse this secret in all of your notebooks.\n",
      "Please note that authentication is recommended but still optional to access public models or datasets.\n",
      "  warnings.warn(\n"
     ]
    },
    {
     "data": {
      "application/vnd.jupyter.widget-view+json": {
       "model_id": "3bb79576df6241898ef595fa35692961",
       "version_major": 2,
       "version_minor": 0
      },
      "text/plain": [
       "tokenizer_config.json: 0.00B [00:00, ?B/s]"
      ]
     },
     "metadata": {},
     "output_type": "display_data"
    },
    {
     "data": {
      "application/vnd.jupyter.widget-view+json": {
       "model_id": "476b1388e32b44399294f762f7785eb2",
       "version_major": 2,
       "version_minor": 0
      },
      "text/plain": [
       "tokenizer.json: 0.00B [00:00, ?B/s]"
      ]
     },
     "metadata": {},
     "output_type": "display_data"
    },
    {
     "data": {
      "application/vnd.jupyter.widget-view+json": {
       "model_id": "c169e8d30d4a40708c39a23a290698a3",
       "version_major": 2,
       "version_minor": 0
      },
      "text/plain": [
       "special_tokens_map.json: 0.00B [00:00, ?B/s]"
      ]
     },
     "metadata": {},
     "output_type": "display_data"
    },
    {
     "data": {
      "application/vnd.jupyter.widget-view+json": {
       "model_id": "9cc4bc225c1640ce9a85be493c7809be",
       "version_major": 2,
       "version_minor": 0
      },
      "text/plain": [
       "config.json:   0%|          | 0.00/875 [00:00<?, ?B/s]"
      ]
     },
     "metadata": {},
     "output_type": "display_data"
    },
    {
     "data": {
      "application/vnd.jupyter.widget-view+json": {
       "model_id": "873594d5d6a44ef7821afa827c8139ab",
       "version_major": 2,
       "version_minor": 0
      },
      "text/plain": [
       "model.safetensors:   0%|          | 0.00/1.47G [00:00<?, ?B/s]"
      ]
     },
     "metadata": {},
     "output_type": "display_data"
    },
    {
     "data": {
      "application/vnd.jupyter.widget-view+json": {
       "model_id": "ca3131cdeac24e97b89d38aaa710b226",
       "version_major": 2,
       "version_minor": 0
      },
      "text/plain": [
       "generation_config.json:   0%|          | 0.00/142 [00:00<?, ?B/s]"
      ]
     },
     "metadata": {},
     "output_type": "display_data"
    }
   ],
   "source": [
    "from transformers import AutoTokenizer, AutoModelForSeq2SeqLM\n",
    "\n",
    "# Load model and tokenizer\n",
    "tokenizer = AutoTokenizer.from_pretrained(\"PRAli22/arat5-arabic-dialects-translation\")\n",
    "model = AutoModelForSeq2SeqLM.from_pretrained(\"PRAli22/arat5-arabic-dialects-translation\")"
   ]
  },
  {
   "cell_type": "code",
   "execution_count": 2,
   "metadata": {
    "colab": {
     "base_uri": "https://localhost:8080/"
    },
    "id": "4QkLPvZ-uhIv",
    "outputId": "d0aee298-46e7-43dc-b0d8-4c774ce4d1fd"
   },
   "outputs": [
    {
     "name": "stderr",
     "output_type": "stream",
     "text": [
      "Asking to truncate to max_length but no maximum length is provided and the model has no predefined maximum length. Default to no truncation.\n"
     ]
    },
    {
     "name": "stdout",
     "output_type": "stream",
     "text": [
      "Dialect: ؟ شخبارك\n",
      "MSA: الترجمة. كيف حالك ؟\n",
      "------------------------------------------------------------\n",
      "Dialect: كيف حالك؟\n",
      "MSA: الترجمة. كيف حالك ؟\n",
      "------------------------------------------------------------\n",
      "Dialect: أنا مشغول اليوم\n",
      "MSA: مترجم : أنا مشغول اليوم\n",
      "------------------------------------------------------------\n",
      "Dialect: وين كنت امس؟\n",
      "MSA: مترجم. أين كنت الليلة الماضية ؟\n",
      "------------------------------------------------------------\n",
      "Dialect: الجو حار جدا اليوم\n",
      "MSA: مترجم : الجو حار جدا اليوم\n",
      "------------------------------------------------------------\n",
      "Dialect: شلونك\n",
      "MSA: مترجم. كيف حالك ؟\n",
      "------------------------------------------------------------\n",
      "Dialect: ازيك\n",
      "MSA: مترجم. مرحباً\n",
      "------------------------------------------------------------\n",
      "Dialect: وايد\n",
      "MSA: الترجمة : كثيرة جدا\n",
      "------------------------------------------------------------\n",
      "Dialect: كفو\n",
      "MSA: الترجمة : جيدة\n",
      "------------------------------------------------------------\n",
      "Dialect: دق علي\n",
      "MSA: الترجمة : اتصل بي\n",
      "------------------------------------------------------------\n",
      "Dialect: وش تبي\n",
      "MSA: الترجمة : ماذا تريد\n",
      "------------------------------------------------------------\n",
      "Dialect:  الله يصلح حالك\n",
      "MSA: مترجم. أصلح الله حالك.\n",
      "------------------------------------------------------------\n",
      "Dialect: سنع\n",
      "MSA: الترجمة : نعم\n",
      "------------------------------------------------------------\n",
      "Dialect: منقود\n",
      "MSA: الترجمة : منقولة\n",
      "------------------------------------------------------------\n",
      "Dialect: اونه\n",
      "MSA: الترجمة هنا\n",
      "------------------------------------------------------------\n"
     ]
    }
   ],
   "source": [
    "\n",
    "# Arabic sentences list\n",
    "arabic_sentences = [\n",
    "    \"؟ شخبارك\",          # Gulf dialect\n",
    "    \"كيف حالك؟\",          # MSA\n",
    "    \"أنا مشغول اليوم\",     # I'm busy today\n",
    "    \"وين كنت امس؟\",        # Where were you yesterday? (dialect)\n",
    "    \"الجو حار جدا اليوم\"   # The weather is very hot today\n",
    "    , \"شلونك\"\n",
    "    , \"ازيك\"\n",
    "     , \"وايد\"\n",
    "     , \"كفو\"\n",
    "     , \"دق علي\"\n",
    "     , \"وش تبي\"\n",
    "     , \" الله يصلح حالك\"\n",
    "     , \"سنع\"\n",
    "     , \"منقود\"\n",
    "     , \"اونه\"\n",
    "]\n",
    "\n",
    "# Translate each sentence\n",
    "translations = []\n",
    "for sentence in arabic_sentences:\n",
    "    # Format input as expected by T5 (e.g., \"translate: وش اخبارك\")\n",
    "    input_text = f\"translate: {sentence}\"\n",
    "    inputs = tokenizer(input_text, return_tensors=\"pt\", padding=True, truncation=True)\n",
    "\n",
    "    generated = model.generate(**inputs)\n",
    "    translation = tokenizer.decode(generated[0], skip_special_tokens=True)\n",
    "    translations.append(translation)\n",
    "\n",
    "# Show results\n",
    "for ar, ar2 in zip(arabic_sentences, translations):\n",
    "    print(f\"Dialect: {ar}\")\n",
    "    print(f\"MSA: {ar2}\")\n",
    "    print(\"-\" * 60)\n"
   ]
  },
  {
   "cell_type": "code",
   "execution_count": 3,
   "metadata": {
    "colab": {
     "base_uri": "https://localhost:8080/",
     "height": 273,
     "referenced_widgets": [
      "513670cbe64c4694948b0275f2acd003",
      "419cd31045084ff881a695214c2da4c5",
      "af17b21b10984efa8d02f6a9ad55142c",
      "85db2056c5e54daa9c444a4bd95831dd",
      "fe8a4bb96b444b999b58659d6477a65d",
      "640fd381d29746d3b43a787b7fbbe7d2",
      "e67dd4cf926a474681d838b28f73dfcd",
      "aa450e37c2314b14b2b6c4f687e6788d",
      "8ba2a1c5eb0e464fb1307bcf8f5475f1",
      "0355521309864ae0ba933a45cd4f42ee",
      "307d2ac4f9314bc990d6f5f588585c2b",
      "d1f9dde3ffa847f4b8a6f95d2c6f7c6f",
      "4fb9876e044747e6a3404724d03cf31d",
      "b1167d7c72e64806ac3d2e291f9e2c5a",
      "9ee447a9463d4daabc150e2d632ce985",
      "62de30d0898346f3bda1286083222e0a",
      "ed62811c9a3e42fc8840d914a8b23018",
      "e2531d5358334d27bd69dcd2e3213693",
      "83607dd1724e4e6cb0e193319e2a8fae",
      "a53d22ffb4d9426998f06e0ea3fe4e84",
      "659359a69e79481f8ee2537ff1c16054",
      "ee79ba472cba43b9a73337dee7fb6691",
      "81509bb09e6b46f3b29a384af993202c",
      "76a43e2417374538af519760935d572e",
      "65b60bdab1a14f3fbdca0758f63f5437",
      "e003cb6d1b6f47a0b385b86497373851",
      "4c816b61dc274743af54fe14cb0e56f0",
      "0c094aadd26b4ae2942ccef69285b1ce",
      "5b6ef267d3384278a9a39d2c88541a04",
      "23deaddc767f4207991c2a74d1c3628c",
      "7a72bf90dbdc4ce7a8600e58a6d7de32",
      "1a9197c2de824ae28e1b67f7e172146b",
      "3b652688c5cc4c108d10aaa6b86d50b2",
      "8d6d4b90a6de493186f31ae64888b44f",
      "93f30d37f7224235a8d6703bd508ba37",
      "54c7f781387a46aebb523577a6b8e800",
      "4aefcb91ae4646a0b8c25868c8d24a09",
      "703c9771745246f190b95b92401b207b",
      "924042b2dab143489090f1bf0e30bfbc",
      "316867b757d94309b8a2e5f28af23b46",
      "c2dd69fe57814484b10cb7ab07d509ba",
      "7b590e79a1504a649d127d1338349a8d",
      "1ef8cc8de6104b03a2add81eadb8bc04",
      "db18e164eab740cb9e09d1ee3e7c227c",
      "7b3ef21ce0aa499f83b05360642bc395",
      "4f006d3227964160a78d496f89001108",
      "59594659efe347d1bbafbd3645e86a50",
      "8195142b1b8f42719b128001e91709bd",
      "8d4123bb7bb64880ac08614f34e13b39",
      "e2602c3165784e87bd615181b37d6bbe",
      "a7064cec48d5426ab848b25a10a7b765",
      "a8fa929bb48546b1bb83a73eb6ccc15a",
      "b9fba15b6bd5419b8e3b09a89a03a6f5",
      "81473167c2844af29e8f3e97fabaa6cd",
      "abfa161681ac454981efcd77b0304b6f",
      "d2f5308f497f4065b362df162d42b344",
      "53f6154788324319a9b7d5ae88e529e0",
      "2e99bb13c95840169277f00c9fd7d966",
      "a26d9ea2304944feb61606eba44621a0",
      "425f0677bffc4699b7fd8200ab27c99c",
      "b82a2000e8204492976e78451e0b2381",
      "4c9b6029dea74fabac51a60f8c4e0b27",
      "f1e5fdd61a1240428e178d8d099c1b53",
      "07f71f54aadd4a97aeae9b89e9b90fbd",
      "45522f2d1c3b4304aca25ffb5056e16d",
      "7b88cd35f19a4c5b8933206cb75845f7",
      "4945a858e3284189885403482c91a94a",
      "ed7a017658544508b51a025010daa0a1",
      "c3c8989daa494fef859c3ea0e11ebbfa",
      "f29ba3ee9e3f49448d1ae5c23620f59c",
      "073b0314947e44f2847c3e5b1190ac7e",
      "9d7542a451474fe4b8308078f27fe56a",
      "2a856928081b448e84ffd8b506922b70",
      "a7d54824f147422786affa7d80937ec0",
      "fe3c9e6f5c9f4a628b49d596199c1337",
      "2f01fb23386245129b71dce0851afcd4",
      "ea2daa38a44d42cebe9c97687a8b9b88",
      "5baaa0e0e27548a1809e903d67062736",
      "0a15b6645b654dafa5a23e6ef359e4ed",
      "d46301a00bed4bcbb4be045ec7403eb5",
      "a7114e0128a347d1a262b544462e5604",
      "3f9ee4a8d4fe4c008ce07d88d39e8672",
      "77141c69f82a4df3820f4da052105f62",
      "fe3fbd4e56ec40d087dc8a87658c861b",
      "5b580103fab1445ca5e267959eef686d",
      "267d863edcc040bdaf6da24d40f78f03",
      "e6c3ef21aa004969bf94b94165850abd",
      "6a9f8c105aa34ff1912a45e91ac84631"
     ]
    },
    "id": "0bJuqQLYvoMU",
    "outputId": "a1111554-948f-4293-cddd-42f535e26096"
   },
   "outputs": [
    {
     "data": {
      "application/vnd.jupyter.widget-view+json": {
       "model_id": "513670cbe64c4694948b0275f2acd003",
       "version_major": 2,
       "version_minor": 0
      },
      "text/plain": [
       "tokenizer_config.json:   0%|          | 0.00/298 [00:00<?, ?B/s]"
      ]
     },
     "metadata": {},
     "output_type": "display_data"
    },
    {
     "data": {
      "application/vnd.jupyter.widget-view+json": {
       "model_id": "d1f9dde3ffa847f4b8a6f95d2c6f7c6f",
       "version_major": 2,
       "version_minor": 0
      },
      "text/plain": [
       "config.json:   0%|          | 0.00/908 [00:00<?, ?B/s]"
      ]
     },
     "metadata": {},
     "output_type": "display_data"
    },
    {
     "data": {
      "application/vnd.jupyter.widget-view+json": {
       "model_id": "81509bb09e6b46f3b29a384af993202c",
       "version_major": 2,
       "version_minor": 0
      },
      "text/plain": [
       "vocab.json: 0.00B [00:00, ?B/s]"
      ]
     },
     "metadata": {},
     "output_type": "display_data"
    },
    {
     "data": {
      "application/vnd.jupyter.widget-view+json": {
       "model_id": "8d6d4b90a6de493186f31ae64888b44f",
       "version_major": 2,
       "version_minor": 0
      },
      "text/plain": [
       "sentencepiece.bpe.model:   0%|          | 0.00/2.42M [00:00<?, ?B/s]"
      ]
     },
     "metadata": {},
     "output_type": "display_data"
    },
    {
     "data": {
      "application/vnd.jupyter.widget-view+json": {
       "model_id": "7b3ef21ce0aa499f83b05360642bc395",
       "version_major": 2,
       "version_minor": 0
      },
      "text/plain": [
       "special_tokens_map.json: 0.00B [00:00, ?B/s]"
      ]
     },
     "metadata": {},
     "output_type": "display_data"
    },
    {
     "data": {
      "application/vnd.jupyter.widget-view+json": {
       "model_id": "d2f5308f497f4065b362df162d42b344",
       "version_major": 2,
       "version_minor": 0
      },
      "text/plain": [
       "pytorch_model.bin:   0%|          | 0.00/1.94G [00:00<?, ?B/s]"
      ]
     },
     "metadata": {},
     "output_type": "display_data"
    },
    {
     "data": {
      "application/vnd.jupyter.widget-view+json": {
       "model_id": "4945a858e3284189885403482c91a94a",
       "version_major": 2,
       "version_minor": 0
      },
      "text/plain": [
       "model.safetensors:   0%|          | 0.00/1.94G [00:00<?, ?B/s]"
      ]
     },
     "metadata": {},
     "output_type": "display_data"
    },
    {
     "data": {
      "application/vnd.jupyter.widget-view+json": {
       "model_id": "5baaa0e0e27548a1809e903d67062736",
       "version_major": 2,
       "version_minor": 0
      },
      "text/plain": [
       "generation_config.json:   0%|          | 0.00/233 [00:00<?, ?B/s]"
      ]
     },
     "metadata": {},
     "output_type": "display_data"
    }
   ],
   "source": [
    "# Step 2: Load Arabic → English model (M2M100)\n",
    "en_tokenizer = AutoTokenizer.from_pretrained(\"facebook/m2m100_418M\")\n",
    "en_model = AutoModelForSeq2SeqLM.from_pretrained(\"facebook/m2m100_418M\")"
   ]
  },
  {
   "cell_type": "code",
   "execution_count": 4,
   "metadata": {
    "colab": {
     "base_uri": "https://localhost:8080/",
     "height": 1000
    },
    "id": "v5renYk8xptg",
    "outputId": "2a785633-03bc-4de3-d5af-34966cdde0ff"
   },
   "outputs": [
    {
     "name": "stdout",
     "output_type": "stream",
     "text": [
      "Dialect → MSA → English\n",
      "========================================\n",
      "Dialect: ؟ شخبارك\n",
      "MSA: الترجمة. كيف حالك ؟\n",
      "English translation: The translation, how are you?\n",
      "------------------------------------------------------------\n",
      "Dialect: كيف حالك؟\n",
      "MSA: الترجمة. كيف حالك ؟\n",
      "English translation: The translation, how are you?\n",
      "------------------------------------------------------------\n",
      "Dialect: أنا مشغول اليوم\n",
      "MSA: مترجم : أنا مشغول اليوم\n",
      "English translation: I am busy today.\n",
      "------------------------------------------------------------\n",
      "Dialect: وين كنت امس؟\n",
      "MSA: مترجم. أين كنت الليلة الماضية ؟\n",
      "English translation: Where did you go last night?\n",
      "------------------------------------------------------------\n",
      "Dialect: الجو حار جدا اليوم\n",
      "MSA: مترجم : الجو حار جدا اليوم\n",
      "English translation: The weather is very hot today.\n",
      "------------------------------------------------------------\n",
      "Dialect: شلونك\n",
      "MSA: مترجم. كيف حالك ؟\n",
      "English translation: Translator, how are you?\n",
      "------------------------------------------------------------\n",
      "Dialect: ازيك\n",
      "MSA: مترجم. مرحباً\n",
      "English translation: The translator is welcome.\n",
      "------------------------------------------------------------\n",
      "Dialect: وايد\n",
      "MSA: الترجمة : كثيرة جدا\n",
      "English translation: Translation: Too Much\n",
      "------------------------------------------------------------\n",
      "Dialect: كفو\n",
      "MSA: الترجمة : جيدة\n",
      "English translation: Translation: Good\n",
      "------------------------------------------------------------\n",
      "Dialect: دق علي\n",
      "MSA: الترجمة : اتصل بي\n",
      "English translation: Translation: Call me\n",
      "------------------------------------------------------------\n",
      "Dialect: وش تبي\n",
      "MSA: الترجمة : ماذا تريد\n",
      "English translation: Translation: What do you want?\n",
      "------------------------------------------------------------\n",
      "Dialect:  الله يصلح حالك\n",
      "MSA: مترجم. أصلح الله حالك.\n",
      "English translation: Translated by God.\n",
      "------------------------------------------------------------\n",
      "Dialect: سنع\n",
      "MSA: الترجمة : نعم\n",
      "English translation: Translation: Yes\n",
      "------------------------------------------------------------\n",
      "Dialect: منقود\n",
      "MSA: الترجمة : منقولة\n",
      "English translation: Translation: Translated\n",
      "------------------------------------------------------------\n",
      "Dialect: اونه\n",
      "MSA: الترجمة هنا\n",
      "English translation: Translation here.\n",
      "------------------------------------------------------------\n"
     ]
    }
   ],
   "source": [
    "\n",
    "final_translations = []\n",
    "\n",
    "for original_ar, ar2 in zip(arabic_sentences, translations):\n",
    "    # Set the source language for Arabic\n",
    "    en_tokenizer.src_lang = \"ar\"\n",
    "\n",
    "    # Tokenize MSA sentence (ar2) and translate to English\n",
    "    en_inputs = en_tokenizer(ar2, return_tensors=\"pt\")\n",
    "    output_ids = en_model.generate(**en_inputs, forced_bos_token_id=en_tokenizer.get_lang_id(\"en\"))\n",
    "    english = en_tokenizer.decode(output_ids[0], skip_special_tokens=True)\n",
    "\n",
    "    final_translations.append((original_ar, ar2, english))\n",
    "\n",
    "# Nicely print the 3 steps: Dialect → MSA → English\n",
    "print(\"Dialect → MSA → English\\n\" + \"=\"*40)\n",
    "for dialect, msa, en in final_translations:\n",
    "    print(f\"Dialect: {dialect}\")\n",
    "    print(f\"MSA: {msa}\")\n",
    "    print(f\"English translation: {en}\")\n",
    "    print(\"-\" * 60)\n"
   ]
  },
  {
   "cell_type": "code",
   "execution_count": 2,
   "metadata": {},
   "outputs": [],
   "source": [
    "import nbformat\n",
    "\n",
    "def clean_invalid_metadata(path):\n",
    "    with open(path, 'r') as f:\n",
    "        nb = nbformat.read(f, as_version=4)\n",
    "\n",
    "    for cell in nb.cells:\n",
    "        if 'outputs' in cell:\n",
    "            for output in cell['outputs']:\n",
    "                if output.get('output_type') == 'stream' and 'metadata' in output:\n",
    "                    del output['metadata']\n",
    "\n",
    "    with open(path, 'w') as f:\n",
    "        nbformat.write(nb, f)\n",
    "\n",
    "clean_invalid_metadata('Arabic_dialects_translation.ipynb')  # replace with your filename\n"
   ]
  },
  {
   "cell_type": "code",
   "execution_count": null,
   "metadata": {},
   "outputs": [],
   "source": []
  }
 ],
 "metadata": {
  "accelerator": "GPU",
  "colab": {
   "gpuType": "T4",
   "provenance": []
  },
  "kaggle": {
   "accelerator": "gpu"
  },
  "kernelspec": {
   "display_name": "Python 3 (ipykernel)",
   "language": "python",
   "name": "python3"
  },
  "language_info": {
   "codemirror_mode": {
    "name": "ipython",
    "version": 3
   },
   "file_extension": ".py",
   "mimetype": "text/x-python",
   "name": "python",
   "nbconvert_exporter": "python",
   "pygments_lexer": "ipython3",
   "version": "3.10.12"
  }
 },
 "nbformat": 4,
 "nbformat_minor": 1
}
